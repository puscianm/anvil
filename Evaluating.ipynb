{
 "cells": [
  {
   "cell_type": "markdown",
   "metadata": {},
   "source": [
    "# Resnet architecture"
   ]
  },
  {
   "cell_type": "code",
   "execution_count": 1,
   "metadata": {
    "colab": {
     "base_uri": "https://localhost:8080/"
    },
    "id": "srxjMI2iz1y-",
    "outputId": "2cbe3352-0b7f-42db-a9ec-54042c056790"
   },
   "outputs": [],
   "source": [
    "%load_ext autoreload\n",
    "%autoreload 2\n",
    "\n",
    "import torch\n",
    "import torch.nn as nn\n",
    "from torchvision.models import resnet18\n",
    "from torchvision import datasets, transforms\n",
    "from torch.utils.data import DataLoader, random_split\n",
    "import torch.nn.functional as F\n",
    "import copy\n",
    "import torch.optim as optim\n",
    "import os\n",
    "\n",
    "adaround_model_path = \"/content/drive/MyDrive/resnet18_cifar10_adaround.pth\"\n",
    "\n",
    "\n",
    "device = torch.device('cuda' if torch.cuda.is_available() else 'cpu')\n",
    "\n",
    "model = resnet18(weights=None)\n",
    "model.conv1 = nn.Conv2d(3, 64, kernel_size=3, stride=1, padding=1, bias=False)\n",
    "model.maxpool = nn.Identity()\n",
    "model.fc = nn.Linear(512, 10)\n"
   ]
  },
  {
   "cell_type": "markdown",
   "metadata": {},
   "source": [
    "# Adaround"
   ]
  },
  {
   "cell_type": "code",
   "execution_count": null,
   "metadata": {},
   "outputs": [],
   "source": [
    "adaround = copy.deepcopy(model)\n",
    "\n",
    "adaround.load_state_dict(torch.load(adaround_model_path))\n",
    "adaround.eval().to(device)\n",
    "\n",
    "transform = transforms.Compose([\n",
    "    transforms.ToTensor()\n",
    "])\n",
    "\n",
    "test_dataset = datasets.CIFAR10(root='./data', train=False, transform=transform, download=True)\n",
    "test_loader = DataLoader(test_dataset, batch_size=64, shuffle=False)\n",
    "\n",
    "correct = 0\n",
    "total = 0\n",
    "\n",
    "with torch.no_grad():\n",
    "    for images, labels in test_loader:\n",
    "        images, labels = images.to(device), labels.to(device)\n",
    "        outputs = adaround(images)\n",
    "        _, predicted = torch.max(outputs.data, 1)\n",
    "        total += labels.size(0)\n",
    "        correct += (predicted == labels).sum().item()\n",
    "\n",
    "accuracy = 100 * correct / total\n",
    "print(f'✅ Accuracy of quantized (adaround): {accuracy:.2f}%')"
   ]
  },
  {
   "cell_type": "markdown",
   "metadata": {},
   "source": [
    "# Model without quantization"
   ]
  },
  {
   "cell_type": "code",
   "execution_count": null,
   "metadata": {
    "colab": {
     "base_uri": "https://localhost:8080/"
    },
    "id": "Eu2Iy8ADlPEb",
    "outputId": "e76e68f1-f98c-48e8-e087-a1a539d9a099"
   },
   "outputs": [
    {
     "name": "stderr",
     "output_type": "stream",
     "text": [
      "100%|██████████| 170M/170M [00:18<00:00, 9.12MB/s]\n"
     ]
    },
    {
     "name": "stdout",
     "output_type": "stream",
     "text": [
      "✅ Accuracy of model: 82.71%\n"
     ]
    }
   ],
   "source": [
    "no_quant_model = copy.deepcopy(model)\n",
    "no_quant_model.load_state_dict(torch.load(\"/content/drive/MyDrive/resnet18_cifar10_best.pth\"))\n",
    "no_quant_model.eval().to(device)\n",
    "\n",
    "transform = transforms.Compose([\n",
    "    transforms.ToTensor()\n",
    "])  # Bez Normalize, bo nie było tego w treningu\n",
    "\n",
    "test_dataset = datasets.CIFAR10(root='./data', train=False, transform=transform, download=True)\n",
    "test_loader = DataLoader(test_dataset, batch_size=64, shuffle=False)\n",
    "\n",
    "correct = 0\n",
    "total = 0\n",
    "\n",
    "with torch.no_grad():\n",
    "    for images, labels in test_loader:\n",
    "        images, labels = images.to(device), labels.to(device)\n",
    "        outputs = no_quant_model(images)\n",
    "        _, predicted = torch.max(outputs.data, 1)\n",
    "        total += labels.size(0)\n",
    "        correct += (predicted == labels).sum().item()\n",
    "\n",
    "accuracy = 100 * correct / total\n",
    "print(f'✅ Accuracy of model: {accuracy:.2f}%')"
   ]
  },
  {
   "cell_type": "markdown",
   "metadata": {},
   "source": [
    "# Accuracy with round quanitizing"
   ]
  },
  {
   "cell_type": "code",
   "execution_count": null,
   "metadata": {
    "colab": {
     "base_uri": "https://localhost:8080/"
    },
    "id": "8ABvG0YojPpT",
    "outputId": "3d390735-6bf1-41ef-a559-fa810cc28b18",
    "scrolled": true
   },
   "outputs": [
    {
     "name": "stdout",
     "output_type": "stream",
     "text": [
      "[Quant] Processing layer: conv1\n",
      "[Quant] Weights quantized.\n",
      "[Quant] Processing layer: layer1.0.conv1\n",
      "[Quant] Weights quantized.\n",
      "[Quant] Processing layer: layer1.0.conv2\n",
      "[Quant] Weights quantized.\n",
      "[Quant] Processing layer: layer1.1.conv1\n",
      "[Quant] Weights quantized.\n",
      "[Quant] Processing layer: layer1.1.conv2\n",
      "[Quant] Weights quantized.\n",
      "[Quant] Processing layer: layer2.0.conv1\n",
      "[Quant] Weights quantized.\n",
      "[Quant] Processing layer: layer2.0.conv2\n",
      "[Quant] Weights quantized.\n",
      "[Quant] Processing layer: layer2.0.downsample.0\n",
      "[Quant] Weights quantized.\n",
      "[Quant] Processing layer: layer2.1.conv1\n",
      "[Quant] Weights quantized.\n",
      "[Quant] Processing layer: layer2.1.conv2\n",
      "[Quant] Weights quantized.\n",
      "[Quant] Processing layer: layer3.0.conv1\n",
      "[Quant] Weights quantized.\n",
      "[Quant] Processing layer: layer3.0.conv2\n",
      "[Quant] Weights quantized.\n",
      "[Quant] Processing layer: layer3.0.downsample.0\n",
      "[Quant] Weights quantized.\n",
      "[Quant] Processing layer: layer3.1.conv1\n",
      "[Quant] Weights quantized.\n",
      "[Quant] Processing layer: layer3.1.conv2\n",
      "[Quant] Weights quantized.\n",
      "[Quant] Processing layer: layer4.0.conv1\n",
      "[Quant] Weights quantized.\n",
      "[Quant] Processing layer: layer4.0.conv2\n",
      "[Quant] Weights quantized.\n",
      "[Quant] Processing layer: layer4.0.downsample.0\n",
      "[Quant] Weights quantized.\n",
      "[Quant] Processing layer: layer4.1.conv1\n",
      "[Quant] Weights quantized.\n",
      "[Quant] Processing layer: layer4.1.conv2\n",
      "[Quant] Weights quantized.\n",
      "[Quant] Quantized model saved to: /content/drive/MyDrive/resnet18_cifar10_rounded.pth\n"
     ]
    }
   ],
   "source": [
    "round_model = copy.deepcopy(model)\n",
    "round_model.load_state_dict(torch.load(\"/content/drive/MyDrive/resnet18_cifar10_best.pth\", map_location='cpu'))\n",
    "\n",
    "# Kwantyzacja przez zwykłe zaokrąglenie wag\n",
    "quantizer = StaticRoundQuantWrapper(round_model)\n",
    "quantizer.apply_quant_to_conv_layers()\n",
    "quantizer.save_model(\"/content/drive/MyDrive/resnet18_cifar10_rounded.pth\")\n"
   ]
  },
  {
   "cell_type": "code",
   "execution_count": null,
   "metadata": {
    "colab": {
     "base_uri": "https://localhost:8080/"
    },
    "id": "ue3LUDZ_jmJA",
    "outputId": "9c161156-5464-4ad8-af96-6ae1ae5528c7"
   },
   "outputs": [
    {
     "name": "stdout",
     "output_type": "stream",
     "text": [
      "✅ Accuracy of quantized (rounded): 82.67%\n"
     ]
    }
   ],
   "source": [
    "model.load_state_dict(torch.load(\"/content/drive/MyDrive/resnet18_cifar10_rounded.pth\"))\n",
    "model.eval().to(device)\n",
    "\n",
    "transform = transforms.Compose([\n",
    "    transforms.ToTensor()\n",
    "])  # Bez Normalize, bo nie było tego w treningu\n",
    "\n",
    "test_dataset = datasets.CIFAR10(root='./data', train=False, transform=transform, download=True)\n",
    "test_loader = DataLoader(test_dataset, batch_size=64, shuffle=False)\n",
    "\n",
    "correct = 0\n",
    "total = 0\n",
    "\n",
    "with torch.no_grad():\n",
    "    for images, labels in test_loader:\n",
    "        images, labels = images.to(device), labels.to(device)\n",
    "        outputs = model(images)\n",
    "        _, predicted = torch.max(outputs.data, 1)\n",
    "        total += labels.size(0)\n",
    "        correct += (predicted == labels).sum().item()\n",
    "\n",
    "accuracy = 100 * correct / total\n",
    "print(f'✅ Accuracy of quantized (rounded): {accuracy:.2f}%')"
   ]
  },
  {
   "cell_type": "code",
   "execution_count": null,
   "metadata": {
    "id": "cveOiMsQaW1z"
   },
   "outputs": [],
   "source": [
    "#trenowanie ResNet18 na CIFAR-10\n",
    "\n",
    "# 1. Device\n",
    "device = torch.device(\"cuda\" if torch.cuda.is_available() else \"cpu\")\n",
    "print(f\"Przygotowanie do pracy na urządzeniu: {device}\")\n",
    "\n",
    "# 2. Transforms\n",
    "transform_train = transforms.Compose([\n",
    "    transforms.RandomHorizontalFlip(),\n",
    "    transforms.RandomCrop(32, padding=4),\n",
    "    transforms.ToTensor(),\n",
    "])\n",
    "\n",
    "transform_test = transforms.Compose([\n",
    "    transforms.ToTensor(),\n",
    "])\n",
    "\n",
    "# 3. Datasets\n",
    "full_train_dataset = datasets.CIFAR10(root='./data', train=True, download=True, transform=transform_train)\n",
    "train_size = int(0.9 * len(full_train_dataset))  # 45,000\n",
    "val_size = len(full_train_dataset) - train_size  # 5,000\n",
    "train_dataset, val_dataset = random_split(full_train_dataset, [train_size, val_size])\n",
    "\n",
    "val_dataset.dataset.transform = transform_test  # Walidacja bez augmentacji\n",
    "\n",
    "test_dataset = datasets.CIFAR10(root='./data', train=False, download=True, transform=transform_test)\n",
    "\n",
    "# 4. DataLoaders\n",
    "train_loader = DataLoader(train_dataset, batch_size=128, shuffle=True, num_workers=2)\n",
    "val_loader = DataLoader(val_dataset, batch_size=128, shuffle=False, num_workers=2)\n",
    "test_loader = DataLoader(test_dataset, batch_size=128, shuffle=False, num_workers=2)\n",
    "\n",
    "# 5. Model\n",
    "model = resnet18(weights=None)\n",
    "model.conv1 = nn.Conv2d(3, 64, kernel_size=3, stride=1, padding=1, bias=False)\n",
    "model.maxpool = nn.Identity()\n",
    "model.fc = nn.Linear(512, 10)\n",
    "model = model.to(device)\n",
    "\n",
    "# 6. Loss & Optimizer\n",
    "criterion = nn.CrossEntropyLoss()\n",
    "optimizer = optim.Adam(model.parameters(), lr=0.001, weight_decay=5e-4)\n",
    "\n",
    "# 7. Training with validation\n",
    "best_val_acc = 0.0\n",
    "save_path = \"/content/drive/MyDrive/resnet18_cifar10_best.pth\"\n",
    "\n",
    "for epoch in range(20):\n",
    "    model.train()\n",
    "    train_loss = 0.0\n",
    "    for inputs, targets in train_loader:\n",
    "        inputs, targets = inputs.to(device), targets.to(device)\n",
    "        optimizer.zero_grad()\n",
    "        outputs = model(inputs)\n",
    "        loss = criterion(outputs, targets)\n",
    "        loss.backward()\n",
    "        optimizer.step()\n",
    "        train_loss += loss.item()\n",
    "\n",
    "    # Validation\n",
    "    model.eval()\n",
    "    val_correct = 0\n",
    "    val_total = 0\n",
    "    with torch.no_grad():\n",
    "        for inputs, targets in val_loader:\n",
    "            inputs, targets = inputs.to(device), targets.to(device)\n",
    "            outputs = model(inputs)\n",
    "            _, predicted = outputs.max(1)\n",
    "            val_correct += predicted.eq(targets).sum().item()\n",
    "            val_total += targets.size(0)\n",
    "\n",
    "    val_acc = 100.0 * val_correct / val_total\n",
    "    print(f\"[{epoch+1}/20] Loss: {train_loss/len(train_loader):.4f} | Val Accuracy: {val_acc:.2f}%\")\n",
    "\n",
    "    # Save best model\n",
    "    if val_acc > best_val_acc:\n",
    "        best_val_acc = val_acc\n",
    "        torch.save(model.state_dict(), save_path)\n",
    "        print(f\"✅ Nowy najlepszy model zapisany ({val_acc:.2f}%)\")\n",
    "\n",
    "# 8. Test best model\n",
    "model.load_state_dict(torch.load(save_path))\n",
    "model.eval()\n",
    "correct = 0\n",
    "total = 0\n",
    "with torch.no_grad():\n",
    "    for inputs, targets in test_loader:\n",
    "        inputs, targets = inputs.to(device), targets.to(device)\n",
    "        outputs = model(inputs)\n",
    "        _, predicted = outputs.max(1)\n",
    "        correct += predicted.eq(targets).sum().item()\n",
    "        total += targets.size(0)\n",
    "\n",
    "accuracy = 100 * correct / total\n",
    "print(f\"🎯 Dokładność na zbiorze testowym: {accuracy:.2f}%\")\n",
    "print(f\"📦 Model zapisany do: {save_path}\")"
   ]
  }
 ],
 "metadata": {
  "colab": {
   "provenance": []
  },
  "kernelspec": {
   "display_name": "anvil",
   "language": "python",
   "name": "anvil"
  },
  "language_info": {
   "codemirror_mode": {
    "name": "ipython",
    "version": 3
   },
   "file_extension": ".py",
   "mimetype": "text/x-python",
   "name": "python",
   "nbconvert_exporter": "python",
   "pygments_lexer": "ipython3",
   "version": "3.13.3"
  }
 },
 "nbformat": 4,
 "nbformat_minor": 4
}
