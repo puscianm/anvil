{
 "cells": [
  {
   "cell_type": "code",
   "execution_count": null,
   "id": "2a6c10e0",
   "metadata": {},
   "outputs": [],
   "source": [
    "# zwykły rounding\n",
    "import torch\n",
    "import torch.nn as nn\n",
    "import torch.nn.functional as F\n",
    "import copy\n",
    "\n",
    "def get_qparams(tensor, qmin, qmax, per_channel=False, channel_axis=0):\n",
    "    if per_channel:\n",
    "        dims = list(range(tensor.ndim))\n",
    "        dims.remove(channel_axis)\n",
    "        min_vals = tensor.amin(dim=dims, keepdim=True)\n",
    "        max_vals = tensor.amax(dim=dims, keepdim=True)\n",
    "    else:\n",
    "        min_vals = tensor.min()\n",
    "        max_vals = tensor.max()\n",
    "    scale = (max_vals - min_vals) / float(qmax - qmin)\n",
    "    scale = torch.clamp(scale, min=1e-8)\n",
    "    zero_point = min(max(int(torch.round(qmin - min_vals / scale)), qmin), qmax)\n",
    "    return scale, zero_point\n",
    "\n",
    "def quantize_tensor(tensor, scale, zero_point, qmin, qmax):\n",
    "    q = torch.round(tensor / scale + zero_point)\n",
    "    q = torch.clamp(q, qmin, qmax)\n",
    "    return scale * (q - zero_point)\n",
    "\n",
    "def quantize_layer_weights(layer, bitwidth=8, per_channel=False):\n",
    "    signed = True\n",
    "    qmin, qmax = (-(2**(bitwidth - 1)), 2**(bitwidth - 1) - 1) if signed else (0, 2**bitwidth - 1)\n",
    "\n",
    "    weight = layer.weight.data\n",
    "\n",
    "    if isinstance(layer, nn.Conv2d):\n",
    "        channel_axis = 0  # out_channels\n",
    "        scale_w, zp_w = get_qparams(weight, qmin, qmax, per_channel=per_channel, channel_axis=channel_axis)\n",
    "    elif isinstance(layer, nn.Linear):\n",
    "        # dla Linear per_channel = False, lub można użyć axis=0 (out_features)\n",
    "        scale_w, zp_w = get_qparams(weight, qmin, qmax, per_channel=False)  # można też dodać parametr channel_axis=0\n",
    "    else:\n",
    "        raise NotImplementedError(\"Only Conv2d and Linear layers are supported.\")\n",
    "\n",
    "    weight_q = quantize_tensor(weight, scale_w, zp_w, qmin, qmax)\n",
    "    layer.weight.data.copy_(weight_q)\n",
    "\n",
    "\n",
    "\n",
    "# --- Wrapper ---\n",
    "class StaticRoundQuantWrapper:\n",
    "    def __init__(self, model):\n",
    "        self.model = copy.deepcopy(model)\n",
    "        self.model.eval()\n",
    "\n",
    "    @staticmethod\n",
    "    def quantize_layer_weights_recursive(module, bitwidth=8, per_channel=False):\n",
    "        \"\"\"\n",
    "        Recursively quantize weights of all Conv2d and Linear layers in the given module.\n",
    "        \"\"\"\n",
    "        for child_name, child_module in module.named_children():\n",
    "            if isinstance(child_module, (nn.Conv2d, nn.Linear)):\n",
    "                quantize_layer_weights(child_module, bitwidth, per_channel)\n",
    "            else:\n",
    "                # Recurse into submodules (e.g., nn.Sequential, BasicBlock, etc.)\n",
    "                StaticRoundQuantWrapper.quantize_layer_weights_recursive(child_module, bitwidth, per_channel)\n",
    "\n",
    "    def quantize_activations(self, sample_input, bitwidth=8):\n",
    "        qmin, qmax = 0, 2**bitwidth - 1\n",
    "        activation_stats = {}\n",
    "\n",
    "        def capture_activations(name):\n",
    "            def hook_fn(module, input, output):\n",
    "                activation_stats[name] = output.detach()\n",
    "            return hook_fn\n",
    "\n",
    "        hooks = []\n",
    "        for name, module in self.model.named_modules():\n",
    "            if isinstance(module, nn.ReLU):\n",
    "                hooks.append(module.register_forward_hook(capture_activations(name)))\n",
    "\n",
    "        with torch.no_grad():\n",
    "            _ = self.model(sample_input)\n",
    "\n",
    "        for hook in hooks:\n",
    "            hook.remove()\n",
    "\n",
    "        for name, module in list(self.model.named_modules()):\n",
    "            if name in activation_stats:\n",
    "                activation = activation_stats[name]\n",
    "                scale, zp = get_qparams(activation, qmin, qmax)\n",
    "\n",
    "                class QuantizedReLU(nn.Module):\n",
    "                    def __init__(self, scale, zp, qmin, qmax):\n",
    "                        super().__init__()\n",
    "                        self.scale = scale\n",
    "                        self.zp = zp\n",
    "                        self.qmin = qmin\n",
    "                        self.qmax = qmax\n",
    "\n",
    "                    def forward(self, x):\n",
    "                        x = F.relu(x)\n",
    "                        return quantize_tensor(x, self.scale, self.zp, self.qmin, self.qmax)\n",
    "\n",
    "                parent = self.model\n",
    "                modules = name.split('.')\n",
    "                for m in modules[:-1]:\n",
    "                    parent = getattr(parent, m)\n",
    "                setattr(parent, modules[-1], QuantizedReLU(scale, zp, qmin, qmax))\n",
    "\n",
    "    def save_model(self, path):\n",
    "        torch.save(self.model.state_dict(), path)\n",
    "        print(f\"[Quant] Quantized model saved to: {path}\")"
   ]
  },
  {
   "cell_type": "code",
   "execution_count": 36,
   "id": "a4c139b9",
   "metadata": {},
   "outputs": [],
   "source": [
    "import torch\n",
    "import torch.nn as nn\n",
    "from torchvision import datasets, transforms\n",
    "from torch.utils.data import DataLoader, Subset\n",
    "import numpy as np\n",
    "from torchvision.models import resnet18\n",
    "import pathlib\n",
    "from anvil.cifar_small_resnet import ResNet9\n",
    "\n",
    "# --- Ustawienia ---\n",
    "BITWIDTH = 4\n",
    "SUBSET_SIZE = 2048\n",
    "BATCH_SIZE = 64\n",
    "base_path = pathlib.Path(\"/home/mpuscian/Desktop/repozytoria/MINI_projects/anvil/models/\")\n",
    "MODEL_PATH = base_path.joinpath(\"cifar_model3.pth\")\n",
    "SAVE_PATH = base_path.joinpath(\"cifar_model_rounded_4bits.pth\")\n",
    "\n",
    "# --- Urządzenie ---\n",
    "device = torch.device(\"cuda\" if torch.cuda.is_available() else \"cpu\")\n",
    "\n",
    "model = ResNet9(3, 10)\n",
    "# --- Przygotowanie modelu (zgodnie z treningiem) ---\n",
    "model.load_state_dict(torch.load(MODEL_PATH, map_location=device))\n",
    "model.to(device)\n",
    "\n",
    "# --- Przygotowanie zbioru walidacyjnego (bez normalizacji) ---\n",
    "transform = transforms.ToTensor()\n",
    "testset = datasets.CIFAR10(root=\"./data\", train=False, download=True, transform=transform)\n",
    "testloader = DataLoader(testset, batch_size=BATCH_SIZE, shuffle=True)\n",
    "\n",
    "# --- Pobierz reprezentatywny batch jako sample_input ---\n",
    "sample_input, _ = next(iter(testloader))\n",
    "sample_input = sample_input.to(device)"
   ]
  },
  {
   "cell_type": "code",
   "execution_count": 37,
   "id": "114bf223",
   "metadata": {},
   "outputs": [],
   "source": [
    "def print_unique_weights(model):\n",
    "    for name, module in model.named_modules():\n",
    "        if isinstance(module, (nn.Conv2d, nn.Linear)):\n",
    "            unique_vals = torch.unique(module.weight.data)\n",
    "            print(f\"{name:30s} | Unique weights: {len(unique_vals)}\")"
   ]
  },
  {
   "cell_type": "code",
   "execution_count": 38,
   "id": "d9cc80d9",
   "metadata": {},
   "outputs": [
    {
     "name": "stdout",
     "output_type": "stream",
     "text": [
      "conv1.0                        | Unique weights: 1728\n",
      "conv2.0                        | Unique weights: 73662\n",
      "res1.0.0                       | Unique weights: 147255\n",
      "res1.1.0                       | Unique weights: 147235\n",
      "conv3.0                        | Unique weights: 294106\n",
      "conv4.0                        | Unique weights: 1167938\n",
      "res2.0.0                       | Unique weights: 2315580\n",
      "res2.1.0                       | Unique weights: 2315861\n",
      "classifier.3                   | Unique weights: 5120\n"
     ]
    }
   ],
   "source": [
    "print_unique_weights(model)"
   ]
  },
  {
   "cell_type": "code",
   "execution_count": 39,
   "id": "0063c883",
   "metadata": {},
   "outputs": [],
   "source": [
    "qmin = -127\n",
    "qmax = 126\n",
    "scale, zp = get_qparams(model.conv1[0].weight, qmin, qmax, per_channel=False)\n",
    "scale, zp = scale.cpu().detach(), zp"
   ]
  },
  {
   "cell_type": "code",
   "execution_count": 40,
   "id": "59c321b2",
   "metadata": {},
   "outputs": [
    {
     "data": {
      "image/png": "[encoded data removed]",
      "text/plain": [
       "<Figure size 2500x500 with 3 Axes>"
      ]
     },
     "metadata": {},
     "output_type": "display_data"
    },
    {
     "name": "stdout",
     "output_type": "stream",
     "text": [
      "After scaling -- min: -125.76507568359375, max: 127.23489379882812\n",
      "After applying zp -- min: -126.76507568359375, max: 126.23489379882812\n"
     ]
    }
   ],
   "source": [
    "import matplotlib.pyplot as plt\n",
    "fig, axes = plt.subplots(1, 3, figsize = (25, 5))\n",
    "\n",
    "raveled_weights = torch.ravel(model.conv1[0].weight).detach().cpu()\n",
    "\n",
    "axes[0].hist(raveled_weights, bins=50)\n",
    "axes[0].set_title(\"Before scaling\")\n",
    "\n",
    "scaled_weights = raveled_weights/scale\n",
    "\n",
    "axes[1].hist(scaled_weights, bins=50)\n",
    "axes[1].set_title(\"After scaling\")\n",
    "\n",
    "shifted_weights = scaled_weights + zp\n",
    "rounded_weights = torch.round(scaled_weights)\n",
    "\n",
    "axes[2].hist(rounded_weights, bins=50)\n",
    "axes[2].set_title(\"After rounding\")\n",
    "\n",
    "plt.show()\n",
    "\n",
    "print(f\"After scaling -- min: {scaled_weights.min()}, max: {scaled_weights.max()}\")\n",
    "print(f\"After applying zp -- min: {shifted_weights.min()}, max: {shifted_weights.max()}\")"
   ]
  },
  {
   "cell_type": "code",
   "execution_count": 41,
   "id": "72217fcc",
   "metadata": {},
   "outputs": [
    {
     "name": "stdout",
     "output_type": "stream",
     "text": [
      "scaled mean: 1.5180329084396362\n",
      "shifted mean: 0.5180327296257019\n"
     ]
    }
   ],
   "source": [
    "print(f\"scaled mean: {scaled_weights.mean()}\")\n",
    "print(f\"shifted mean: {shifted_weights.mean()}\")"
   ]
  },
  {
   "cell_type": "code",
   "execution_count": 42,
   "id": "db147d84",
   "metadata": {},
   "outputs": [
    {
     "data": {
      "text/plain": [
       "tensor([-0.0504, -0.1492, -0.1209,  ..., -0.0236,  0.0404,  0.1138])"
      ]
     },
     "execution_count": 42,
     "metadata": {},
     "output_type": "execute_result"
    }
   ],
   "source": [
    "raveled_weights"
   ]
  },
  {
   "cell_type": "code",
   "execution_count": 43,
   "id": "5c7de060",
   "metadata": {},
   "outputs": [
    {
     "ename": "TypeError",
     "evalue": "StaticRoundQuantWrapper.quantize_layer_weights_recursive() takes from 1 to 3 positional arguments but 4 were given",
     "output_type": "error",
     "traceback": [
      "\u001b[31m---------------------------------------------------------------------------\u001b[39m",
      "\u001b[31mTypeError\u001b[39m                                 Traceback (most recent call last)",
      "\u001b[36mCell\u001b[39m\u001b[36m \u001b[39m\u001b[32mIn[43]\u001b[39m\u001b[32m, line 3\u001b[39m\n\u001b[32m      1\u001b[39m \u001b[38;5;66;03m# --- Kwantyzacja ---\u001b[39;00m\n\u001b[32m      2\u001b[39m quantizer = StaticRoundQuantWrapper(model)\n\u001b[32m----> \u001b[39m\u001b[32m3\u001b[39m \u001b[43mquantizer\u001b[49m\u001b[43m.\u001b[49m\u001b[43mquantize_layer_weights_recursive\u001b[49m\u001b[43m(\u001b[49m\u001b[43mbitwidth\u001b[49m\u001b[43m=\u001b[49m\u001b[32;43m4\u001b[39;49m\u001b[43m)\u001b[49m\n\u001b[32m      4\u001b[39m quantizer.quantize_activations(sample_input, bitwidth=\u001b[32m2\u001b[39m)\n",
      "\u001b[36mCell\u001b[39m\u001b[36m \u001b[39m\u001b[32mIn[35]\u001b[39m\u001b[32m, line 61\u001b[39m, in \u001b[36mStaticRoundQuantWrapper.quantize_layer_weights_recursive\u001b[39m\u001b[34m(self, bitwidth, per_channel)\u001b[39m\n\u001b[32m     58\u001b[39m     quantize_layer_weights(child_module, bitwidth, per_channel)\n\u001b[32m     59\u001b[39m \u001b[38;5;28;01melse\u001b[39;00m:\n\u001b[32m     60\u001b[39m     \u001b[38;5;66;03m# Recurse into submodules (e.g., nn.Sequential, BasicBlock, etc.)\u001b[39;00m\n\u001b[32m---> \u001b[39m\u001b[32m61\u001b[39m     \u001b[38;5;28;43mself\u001b[39;49m\u001b[43m.\u001b[49m\u001b[43mquantize_layer_weights_recursive\u001b[49m\u001b[43m(\u001b[49m\u001b[43mchild_module\u001b[49m\u001b[43m,\u001b[49m\u001b[43m \u001b[49m\u001b[43mbitwidth\u001b[49m\u001b[43m,\u001b[49m\u001b[43m \u001b[49m\u001b[43mper_channel\u001b[49m\u001b[43m)\u001b[49m\n",
      "\u001b[31mTypeError\u001b[39m: StaticRoundQuantWrapper.quantize_layer_weights_recursive() takes from 1 to 3 positional arguments but 4 were given"
     ]
    }
   ],
   "source": [
    "\n",
    "# --- Kwantyzacja ---\n",
    "quantizer = StaticRoundQuantWrapper(model)\n",
    "quantizer.quantize_layer_weights_recursive(bitwidth=4)\n",
    "quantizer.quantize_activations(sample_input, bitwidth=2)"
   ]
  },
  {
   "cell_type": "code",
   "execution_count": 10,
   "id": "c6566cd1",
   "metadata": {},
   "outputs": [
    {
     "name": "stdout",
     "output_type": "stream",
     "text": [
      "conv1 | unique weights values: 4\n",
      "layer1.0.conv1 | unique weights values: 4\n",
      "layer1.0.conv2 | unique weights values: 4\n",
      "layer1.1.conv1 | unique weights values: 4\n",
      "layer1.1.conv2 | unique weights values: 4\n",
      "layer2.0.conv1 | unique weights values: 4\n",
      "layer2.0.conv2 | unique weights values: 4\n",
      "layer2.0.downsample.0 | unique weights values: 4\n",
      "layer2.1.conv1 | unique weights values: 4\n",
      "layer2.1.conv2 | unique weights values: 4\n",
      "layer3.0.conv1 | unique weights values: 4\n",
      "layer3.0.conv2 | unique weights values: 4\n",
      "layer3.0.downsample.0 | unique weights values: 4\n",
      "layer3.1.conv1 | unique weights values: 4\n",
      "layer3.1.conv2 | unique weights values: 4\n",
      "layer4.0.conv1 | unique weights values: 4\n",
      "layer4.0.conv2 | unique weights values: 4\n",
      "layer4.0.downsample.0 | unique weights values: 4\n",
      "layer4.1.conv1 | unique weights values: 4\n",
      "layer4.1.conv2 | unique weights values: 4\n",
      "fc | unique weights values: 4\n"
     ]
    }
   ],
   "source": [
    "print_unique_weights(quantizer.model)"
   ]
  },
  {
   "cell_type": "code",
   "execution_count": 11,
   "id": "31965432",
   "metadata": {},
   "outputs": [],
   "source": [
    "def evaluate_model(model, dataloader, device):\n",
    "    model = model.to(device)\n",
    "    model.eval()\n",
    "    \n",
    "    all_preds = []\n",
    "    all_labels = []\n",
    "    \n",
    "    with torch.no_grad():\n",
    "        for images, labels in dataloader:\n",
    "            images = images.to(device)\n",
    "            labels = labels.to(device)\n",
    "            outputs = model(images)\n",
    "            _, predicted = torch.max(outputs, 1)\n",
    "            \n",
    "            all_preds.append(predicted.cpu())\n",
    "            all_labels.append(labels.cpu())\n",
    "    \n",
    "    all_preds = torch.cat(all_preds)\n",
    "    all_labels = torch.cat(all_labels)\n",
    "    \n",
    "    return all_labels, all_preds"
   ]
  },
  {
   "cell_type": "code",
   "execution_count": 12,
   "id": "84adc677",
   "metadata": {},
   "outputs": [],
   "source": [
    "y_true, y_pred = evaluate_model(quantizer.model, testloader, device=\"cuda:0\")"
   ]
  },
  {
   "cell_type": "code",
   "execution_count": 13,
   "id": "7405030d",
   "metadata": {},
   "outputs": [
    {
     "data": {
      "text/plain": [
       "0.1102"
      ]
     },
     "execution_count": 13,
     "metadata": {},
     "output_type": "execute_result"
    }
   ],
   "source": [
    "from sklearn import metrics\n",
    "\n",
    "metrics.accuracy_score(y_true, y_pred)"
   ]
  },
  {
   "cell_type": "code",
   "execution_count": 3,
   "id": "1fbaa491",
   "metadata": {},
   "outputs": [
    {
     "name": "stdout",
     "output_type": "stream",
     "text": [
      "✅ Accuracy of quantized (rounded) 4 bits: 81.57%\n"
     ]
    }
   ],
   "source": [
    "from torchvision.models import resnet18\n",
    "import torch.nn as nn\n",
    "import torch\n",
    "from torchvision import datasets, transforms\n",
    "from torch.utils.data import DataLoader\n",
    "\n",
    "device = torch.device('cuda' if torch.cuda.is_available() else 'cpu')\n",
    "\n",
    "# Model jak przy treningu\n",
    "model = resnet18(weights=None)\n",
    "model.conv1 = nn.Conv2d(3, 64, kernel_size=3, stride=1, padding=1, bias=False)\n",
    "model.maxpool = nn.Identity()\n",
    "model.fc = nn.Linear(512, 10)\n",
    "model.load_state_dict(torch.load(SAVE_PATH))\n",
    "model.eval().to(device)\n",
    "\n",
    "transform = transforms.Compose([\n",
    "    transforms.ToTensor()\n",
    "])  # Bez Normalize, bo nie było tego w treningu\n",
    "\n",
    "test_dataset = datasets.CIFAR10(root='./data', train=False, transform=transform, download=True)\n",
    "test_loader = DataLoader(test_dataset, batch_size=64, shuffle=False)\n",
    "\n",
    "correct = 0\n",
    "total = 0\n",
    "\n",
    "with torch.no_grad():\n",
    "    for images, labels in test_loader:\n",
    "        images, labels = images.to(device), labels.to(device)\n",
    "        outputs = model(images)\n",
    "        _, predicted = torch.max(outputs.data, 1)\n",
    "        total += labels.size(0)\n",
    "        correct += (predicted == labels).sum().item()\n",
    "\n",
    "accuracy = 100 * correct / total\n",
    "print(f'✅ Accuracy of quantized (rounded) 4 bits: {accuracy:.2f}%')"
   ]
  },
  {
   "cell_type": "code",
   "execution_count": 4,
   "id": "0835d308",
   "metadata": {},
   "outputs": [
    {
     "name": "stdout",
     "output_type": "stream",
     "text": [
      "Unique weights: torch.Size([813])\n",
      "Unique weights: torch.Size([928])\n",
      "Unique weights: torch.Size([930])\n",
      "Unique weights: torch.Size([925])\n",
      "Unique weights: torch.Size([927])\n",
      "Unique weights: torch.Size([1861])\n",
      "Unique weights: torch.Size([1868])\n",
      "Unique weights: torch.Size([1714])\n",
      "Unique weights: torch.Size([1881])\n",
      "Unique weights: torch.Size([1872])\n",
      "Unique weights: torch.Size([3709])\n",
      "Unique weights: torch.Size([3740])\n",
      "Unique weights: torch.Size([3527])\n",
      "Unique weights: torch.Size([3589])\n",
      "Unique weights: torch.Size([3684])\n",
      "Unique weights: torch.Size([5083])\n",
      "Unique weights: torch.Size([7394])\n",
      "Unique weights: torch.Size([6710])\n",
      "Unique weights: torch.Size([2482])\n",
      "Unique weights: torch.Size([7381])\n",
      "Unique weights: torch.Size([16])\n"
     ]
    }
   ],
   "source": [
    "\n",
    "for name, module in model.named_modules():\n",
    "    if isinstance(module, (nn.Conv2d, nn.Linear)):\n",
    "        print(f\"Unique weights: {torch.unique(module.weight).shape}\")"
   ]
  }
 ],
 "metadata": {
  "kernelspec": {
   "display_name": "anvil",
   "language": "python",
   "name": "anvil"
  },
  "language_info": {
   "codemirror_mode": {
    "name": "ipython",
    "version": 3
   },
   "file_extension": ".py",
   "mimetype": "text/x-python",
   "name": "python",
   "nbconvert_exporter": "python",
   "pygments_lexer": "ipython3",
   "version": "3.13.3"
  }
 },
 "nbformat": 4,
 "nbformat_minor": 5
}
