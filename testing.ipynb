{
 "cells": [
  {
   "cell_type": "code",
   "execution_count": 1,
   "id": "65fbf50f",
   "metadata": {},
   "outputs": [],
   "source": [
    "%load_ext autoreload\n",
    "%autoreload 2\n",
    "import anvil\n",
    "import anvil.adaround\n",
    "\n",
    "import torch\n",
    "import torch.nn as nn\n",
    "from torchvision.models import resnet18\n",
    "from torchvision import datasets, transforms\n",
    "from torch.utils.data import DataLoader, random_split\n",
    "import torch.nn.functional as F\n",
    "import copy\n",
    "import torch.optim as optim\n",
    "import os, pathlib\n",
    "\n",
    "import matplotlib.pyplot as plt\n",
    "import numpy as np\n",
    "\n",
    "base_path = pathlib.Path(\"/home/mpuscian/Desktop/repozytoria/MINI_projects/anvil/models/\")\n",
    "model_path = base_path.joinpath(\"cifar_model.pth\")\n",
    "adaround_model_path = base_path.joinpath(\"adaround_model.pth\")\n",
    "\n",
    "\n",
    "device = torch.device('cuda' if torch.cuda.is_available() else 'cpu')\n",
    "\n",
    "model = resnet18(weights=None)\n",
    "model.conv1 = nn.Conv2d(3, 64, kernel_size=3, stride=1, padding=1, bias=False)\n",
    "model.maxpool = nn.Identity()\n",
    "model.fc = nn.Linear(512, 10)\n",
    "model.load_state_dict(torch.load(model_path, map_location=device))\n",
    "\n",
    "sample_input = torch.randn(1, 3, 32, 32)"
   ]
  },
  {
   "cell_type": "markdown",
   "id": "3e029e79",
   "metadata": {},
   "source": [
    "# Loading datasets"
   ]
  },
  {
   "cell_type": "code",
   "execution_count": 2,
   "id": "a6166447",
   "metadata": {},
   "outputs": [],
   "source": [
    "\n",
    "transform_train = transforms.Compose([\n",
    "    transforms.RandomHorizontalFlip(),\n",
    "    transforms.RandomCrop(32, padding=4),\n",
    "    transforms.ToTensor(),\n",
    "])\n",
    "\n",
    "transform_test = transforms.Compose([\n",
    "    transforms.ToTensor(),\n",
    "])\n",
    "\n",
    "full_train_dataset = datasets.CIFAR10(root=base_path.joinpath('data'), train=True, download=True, transform=transform_train)\n",
    "test_dataset = datasets.CIFAR10(root=base_path.joinpath('data'), train=False, download=True, transform=transform_test)\n",
    "\n",
    "train_size = int(0.9 * len(full_train_dataset))  # 45,000\n",
    "val_size = len(full_train_dataset) - train_size  # 5,000\n",
    "train_dataset, val_dataset = random_split(full_train_dataset, [train_size, val_size])\n",
    "\n",
    "# 4. DataLoaders\n",
    "train_loader = DataLoader(train_dataset, batch_size=128, shuffle=True, num_workers=6)\n",
    "val_dataset.dataset.transform = transform_test\n",
    "val_loader = DataLoader(val_dataset, batch_size=128, shuffle=False, num_workers=6)\n",
    "test_loader = DataLoader(test_dataset, batch_size=128, shuffle=False, num_workers=6)"
   ]
  },
  {
   "cell_type": "code",
   "execution_count": 3,
   "id": "77dd3b4e",
   "metadata": {},
   "outputs": [],
   "source": [
    "images_list = []\n",
    "for batch in val_loader:\n",
    "    images = batch[0] if isinstance(batch, (list, tuple)) else batch  # handles (images, labels) or just images\n",
    "    images_list.append(images)\n",
    "    total = sum(img.shape[0] for img in images_list)\n",
    "    if total >= 1000:\n",
    "        break\n",
    "\n",
    "images_1 = torch.cat(images_list, dim=0)[:50]\n",
    "images_1 = images_1.to(device)"
   ]
  },
  {
   "cell_type": "code",
   "execution_count": 4,
   "id": "6d147b0f",
   "metadata": {},
   "outputs": [],
   "source": [
    "model = model.to(device)"
   ]
  },
  {
   "cell_type": "code",
   "execution_count": 11,
   "id": "471e5abd",
   "metadata": {},
   "outputs": [
    {
     "name": "stdout",
     "output_type": "stream",
     "text": [
      "Quantizizing conv and lin\n"
     ]
    },
    {
     "name": "stderr",
     "output_type": "stream",
     "text": [
      "Processing modules - Current: fc: : 68it [00:44,  1.54it/s]                   \n"
     ]
    }
   ],
   "source": [
    "adaround_wrapper = anvil.adaround.AdaRoundModelWrapper(model, images_1)\n",
    "adaround_statistics, quantizized_weights, quantizized_model = adaround_wrapper.apply_adaround_to_layers(reg_param=100, bitwidth=8, per_channel=False, num_iterations=2000, beta_range=(20, 2))"
   ]
  },
  {
   "cell_type": "code",
   "execution_count": 12,
   "id": "32d67f7f",
   "metadata": {},
   "outputs": [
    {
     "data": {
      "text/plain": [
       "<matplotlib.collections.PathCollection at 0x7f5df8658e10>"
      ]
     },
     "execution_count": 12,
     "metadata": {},
     "output_type": "execute_result"
    },
    {
     "data": {
      "image/png": "[encoded data removed]",
      "text/plain": [
       "<Figure size 640x480 with 1 Axes>"
      ]
     },
     "metadata": {},
     "output_type": "display_data"
    }
   ],
   "source": [
    "means = []\n",
    "for h_alpha in adaround_statistics['conv1']['h_alphas']:\n",
    "    means.append(h_alpha.to(\"cpu\").mean())\n",
    "plt.scatter([i for i in range(len(means))], means)"
   ]
  },
  {
   "cell_type": "code",
   "execution_count": 13,
   "id": "9015d0d8",
   "metadata": {},
   "outputs": [
    {
     "name": "stdout",
     "output_type": "stream",
     "text": [
      "Unique weights: torch.Size([232])\n",
      "Unique weights: torch.Size([207])\n",
      "Unique weights: torch.Size([225])\n",
      "Unique weights: torch.Size([206])\n",
      "Unique weights: torch.Size([205])\n",
      "Unique weights: torch.Size([214])\n",
      "Unique weights: torch.Size([215])\n",
      "Unique weights: torch.Size([206])\n",
      "Unique weights: torch.Size([231])\n",
      "Unique weights: torch.Size([238])\n",
      "Unique weights: torch.Size([229])\n",
      "Unique weights: torch.Size([229])\n",
      "Unique weights: torch.Size([220])\n",
      "Unique weights: torch.Size([198])\n",
      "Unique weights: torch.Size([216])\n",
      "Unique weights: torch.Size([219])\n",
      "Unique weights: torch.Size([208])\n",
      "Unique weights: torch.Size([215])\n",
      "Unique weights: torch.Size([224])\n",
      "Unique weights: torch.Size([226])\n",
      "Unique weights: torch.Size([213])\n"
     ]
    }
   ],
   "source": [
    "\n",
    "layer41conv2 = None\n",
    "for name, module in quantizized_model.named_modules():\n",
    "    if isinstance(module, (nn.Conv2d, nn.Linear)):\n",
    "        print(f\"Unique weights: {torch.unique(module.weight).shape}\")\n",
    "        if name == \"layer4.1.conv2\":\n",
    "            layer41conv2 = module.weight.detach()\n",
    "\n",
    "baselayer41conv2 = None\n",
    "for name, module in model.named_modules():\n",
    "    if isinstance(module, (nn.Conv2d, nn.Linear)):\n",
    "        if name == \"layer4.1.conv2\":\n",
    "            baselayer41conv2 = module.weight.detach()"
   ]
  },
  {
   "cell_type": "code",
   "execution_count": 8,
   "id": "60357b28",
   "metadata": {},
   "outputs": [
    {
     "data": {
      "text/plain": [
       "tensor(9.9100)"
      ]
     },
     "execution_count": 8,
     "metadata": {},
     "output_type": "execute_result"
    }
   ],
   "source": [
    "torch.quantile(torch.Tensor([1,2,3,4,5,6,7,8,9,10]), 0.99)"
   ]
  },
  {
   "cell_type": "code",
   "execution_count": 9,
   "id": "0d0e5a7a",
   "metadata": {},
   "outputs": [
    {
     "data": {
      "text/plain": [
       "tensor([[[[0.5000, 0.5000, 0.5000],\n",
       "          [0.5000, 0.5000, 0.5000],\n",
       "          [0.5000, 0.5000, 0.5000]],\n",
       "\n",
       "         [[0.0000, 0.0000, 0.0000],\n",
       "          [0.0000, 0.0000, 0.0000],\n",
       "          [0.0000, 0.0000, 0.0000]],\n",
       "\n",
       "         [[0.5000, 0.5000, 0.5000],\n",
       "          [0.5000, 0.5000, 0.5000],\n",
       "          [0.5000, 0.5000, 0.5000]],\n",
       "\n",
       "         ...,\n",
       "\n",
       "         [[0.5000, 0.5000, 0.5000],\n",
       "          [0.5000, 0.5000, 0.5000],\n",
       "          [0.5000, 0.5000, 0.5000]],\n",
       "\n",
       "         [[0.5000, 0.5000, 0.5000],\n",
       "          [0.5000, 0.5000, 0.5000],\n",
       "          [0.5000, 0.5000, 0.5000]],\n",
       "\n",
       "         [[0.5000, 0.5000, 0.5000],\n",
       "          [1.0000, 1.0000, 0.5000],\n",
       "          [1.0000, 1.0000, 0.5000]]],\n",
       "\n",
       "\n",
       "        [[[0.5000, 0.5000, 0.5000],\n",
       "          [0.5000, 0.5000, 0.5000],\n",
       "          [0.5000, 0.5000, 0.5000]],\n",
       "\n",
       "         [[0.0000, 0.0000, 0.0000],\n",
       "          [0.0000, 0.0000, 0.0000],\n",
       "          [0.0000, 0.0000, 0.0000]],\n",
       "\n",
       "         [[0.5000, 0.5000, 0.5000],\n",
       "          [0.5000, 0.5000, 0.5000],\n",
       "          [0.5000, 0.5000, 0.5000]],\n",
       "\n",
       "         ...,\n",
       "\n",
       "         [[0.5000, 0.5000, 0.5000],\n",
       "          [0.5000, 0.5000, 0.5000],\n",
       "          [0.5000, 0.5000, 0.5000]],\n",
       "\n",
       "         [[0.5000, 0.5000, 0.5000],\n",
       "          [0.5000, 0.5000, 0.5000],\n",
       "          [0.5000, 0.5000, 0.5000]],\n",
       "\n",
       "         [[0.5000, 0.5000, 0.5000],\n",
       "          [0.0000, 0.0000, 0.5000],\n",
       "          [0.0000, 0.0000, 0.5000]]],\n",
       "\n",
       "\n",
       "        [[[0.5000, 0.5000, 0.5000],\n",
       "          [0.5000, 0.5000, 0.5000],\n",
       "          [0.5000, 0.5000, 0.5000]],\n",
       "\n",
       "         [[1.0000, 1.0000, 1.0000],\n",
       "          [1.0000, 1.0000, 1.0000],\n",
       "          [1.0000, 1.0000, 1.0000]],\n",
       "\n",
       "         [[0.5000, 0.5000, 0.5000],\n",
       "          [0.5000, 0.5000, 0.5000],\n",
       "          [0.5000, 0.5000, 0.5000]],\n",
       "\n",
       "         ...,\n",
       "\n",
       "         [[0.5000, 0.5000, 0.5000],\n",
       "          [0.5000, 0.5000, 0.5000],\n",
       "          [0.5000, 0.5000, 0.5000]],\n",
       "\n",
       "         [[0.5000, 0.5000, 0.5000],\n",
       "          [0.5000, 0.5000, 0.5000],\n",
       "          [0.5000, 0.5000, 0.5000]],\n",
       "\n",
       "         [[0.5000, 0.5000, 0.5000],\n",
       "          [0.0000, 0.0000, 0.5000],\n",
       "          [0.0000, 0.0000, 0.5000]]],\n",
       "\n",
       "\n",
       "        ...,\n",
       "\n",
       "\n",
       "        [[[0.5000, 0.5000, 0.5000],\n",
       "          [0.5000, 0.5000, 0.5000],\n",
       "          [0.5000, 0.5000, 0.5000]],\n",
       "\n",
       "         [[1.0000, 1.0000, 1.0000],\n",
       "          [1.0000, 1.0000, 1.0000],\n",
       "          [1.0000, 1.0000, 1.0000]],\n",
       "\n",
       "         [[0.5000, 0.5000, 0.5000],\n",
       "          [0.5000, 0.5000, 0.5000],\n",
       "          [0.5000, 0.5000, 0.5000]],\n",
       "\n",
       "         ...,\n",
       "\n",
       "         [[0.5000, 0.5000, 0.5000],\n",
       "          [0.5000, 0.5000, 0.5000],\n",
       "          [0.5000, 0.5000, 0.5000]],\n",
       "\n",
       "         [[0.5000, 0.5000, 0.5000],\n",
       "          [0.5000, 0.5000, 0.5000],\n",
       "          [0.5000, 0.5000, 0.5000]],\n",
       "\n",
       "         [[0.5000, 0.5000, 0.5000],\n",
       "          [0.0000, 0.0000, 0.5000],\n",
       "          [0.0000, 0.0000, 0.5000]]],\n",
       "\n",
       "\n",
       "        [[[0.5000, 0.5000, 0.5000],\n",
       "          [0.5000, 0.5000, 0.5000],\n",
       "          [0.5000, 0.5000, 0.5000]],\n",
       "\n",
       "         [[0.0000, 0.0000, 0.0000],\n",
       "          [0.0000, 0.0000, 0.0000],\n",
       "          [0.0000, 0.0000, 0.0000]],\n",
       "\n",
       "         [[0.5000, 0.5000, 0.5000],\n",
       "          [0.5000, 0.5000, 0.5000],\n",
       "          [0.5000, 0.5000, 0.5000]],\n",
       "\n",
       "         ...,\n",
       "\n",
       "         [[0.5000, 0.5000, 0.5000],\n",
       "          [0.5000, 0.5000, 0.5000],\n",
       "          [0.5000, 0.5000, 0.5000]],\n",
       "\n",
       "         [[0.5000, 0.5000, 0.5000],\n",
       "          [0.5000, 0.5000, 0.5000],\n",
       "          [0.5000, 0.5000, 0.5000]],\n",
       "\n",
       "         [[0.5000, 0.5000, 0.5000],\n",
       "          [0.0000, 0.0000, 0.5000],\n",
       "          [0.0000, 0.0000, 0.5000]]],\n",
       "\n",
       "\n",
       "        [[[0.5000, 0.5000, 0.5000],\n",
       "          [0.5000, 0.5000, 0.5000],\n",
       "          [0.5000, 0.5000, 0.5000]],\n",
       "\n",
       "         [[0.0000, 0.0000, 0.0000],\n",
       "          [0.0000, 0.0000, 0.0000],\n",
       "          [0.0000, 0.0000, 0.0000]],\n",
       "\n",
       "         [[0.5000, 0.5000, 0.5000],\n",
       "          [0.5000, 0.5000, 0.5000],\n",
       "          [0.5000, 0.5000, 0.5000]],\n",
       "\n",
       "         ...,\n",
       "\n",
       "         [[0.5000, 0.5000, 0.5000],\n",
       "          [0.5000, 0.5000, 0.5000],\n",
       "          [0.5000, 0.5000, 0.5000]],\n",
       "\n",
       "         [[0.5000, 0.5000, 0.5000],\n",
       "          [0.5000, 0.5000, 0.5000],\n",
       "          [0.5000, 0.5000, 0.5000]],\n",
       "\n",
       "         [[0.5000, 0.5000, 0.5000],\n",
       "          [0.0000, 0.0000, 0.5000],\n",
       "          [0.0000, 0.0000, 0.5000]]]], device='cuda:0')"
      ]
     },
     "execution_count": 9,
     "metadata": {},
     "output_type": "execute_result"
    }
   ],
   "source": [
    "adaround_statistics['layer4.1.conv2']['h_alphas'][-1]"
   ]
  },
  {
   "cell_type": "code",
   "execution_count": 10,
   "id": "0b21c53e",
   "metadata": {},
   "outputs": [
    {
     "name": "stdout",
     "output_type": "stream",
     "text": [
      "tensor(0.0054, device='cuda:0')\n",
      "tensor(0.0006, device='cuda:0')\n",
      "tensor(0.0024, device='cuda:0')\n",
      "tensor(0.0012, device='cuda:0')\n",
      "tensor(0.0012, device='cuda:0')\n",
      "tensor(0.0006, device='cuda:0')\n",
      "tensor(0.0006, device='cuda:0')\n",
      "tensor(0.0006, device='cuda:0')\n",
      "tensor(0.0012, device='cuda:0')\n",
      "tensor(0.0006, device='cuda:0')\n",
      "tensor(0.0006, device='cuda:0')\n",
      "tensor(0.0006, device='cuda:0')\n",
      "tensor(0.0006, device='cuda:0')\n",
      "tensor(0.0006, device='cuda:0')\n",
      "tensor(0.0006, device='cuda:0')\n",
      "tensor(0.0006, device='cuda:0')\n",
      "tensor(0.0006, device='cuda:0')\n",
      "tensor(0.0006, device='cuda:0')\n",
      "tensor(0.0006, device='cuda:0')\n",
      "tensor(0.0006, device='cuda:0')\n",
      "tensor(0.0006, device='cuda:0')\n",
      "tensor(0.0006, device='cuda:0')\n",
      "tensor(0.0006, device='cuda:0')\n",
      "tensor(0.0006, device='cuda:0')\n",
      "tensor(0.0006, device='cuda:0')\n",
      "tensor(0.0006, device='cuda:0')\n",
      "tensor(0.0006, device='cuda:0')\n",
      "tensor(0.0006, device='cuda:0')\n",
      "tensor(0.0006, device='cuda:0')\n",
      "tensor(0.0006, device='cuda:0')\n",
      "tensor(0.0006, device='cuda:0')\n",
      "tensor(0.0006, device='cuda:0')\n",
      "tensor(0.0006, device='cuda:0')\n",
      "tensor(0.0006, device='cuda:0')\n",
      "tensor(0.0006, device='cuda:0')\n",
      "tensor(0.0006, device='cuda:0')\n",
      "tensor(0.0006, device='cuda:0')\n",
      "tensor(0.0006, device='cuda:0')\n",
      "tensor(0.0006, device='cuda:0')\n",
      "tensor(0.0006, device='cuda:0')\n",
      "tensor(0.0006, device='cuda:0')\n",
      "tensor(0.0006, device='cuda:0')\n",
      "tensor(0.0006, device='cuda:0')\n",
      "tensor(0.0006, device='cuda:0')\n",
      "tensor(0.0006, device='cuda:0')\n",
      "tensor(0.0006, device='cuda:0')\n",
      "tensor(0.0006, device='cuda:0')\n",
      "tensor(0.0006, device='cuda:0')\n",
      "tensor(0.0006, device='cuda:0')\n",
      "tensor(0.0006, device='cuda:0')\n",
      "tensor(0.0006, device='cuda:0')\n",
      "tensor(0.0006, device='cuda:0')\n",
      "tensor(0.0006, device='cuda:0')\n",
      "tensor(0.0006, device='cuda:0')\n",
      "tensor(0.0006, device='cuda:0')\n",
      "tensor(0.0006, device='cuda:0')\n",
      "tensor(0.0006, device='cuda:0')\n",
      "tensor(0.0006, device='cuda:0')\n",
      "tensor(0.0006, device='cuda:0')\n",
      "tensor(0.0006, device='cuda:0')\n",
      "tensor(0.0006, device='cuda:0')\n",
      "tensor(0.0006, device='cuda:0')\n",
      "tensor(0.0006, device='cuda:0')\n",
      "tensor(0.0006, device='cuda:0')\n",
      "tensor(0.0006, device='cuda:0')\n",
      "tensor(0.0006, device='cuda:0')\n",
      "tensor(0.0006, device='cuda:0')\n",
      "tensor(0.0006, device='cuda:0')\n",
      "tensor(0.0006, device='cuda:0')\n",
      "tensor(0.0006, device='cuda:0')\n",
      "tensor(0.0006, device='cuda:0')\n",
      "tensor(0.0006, device='cuda:0')\n",
      "tensor(0.0006, device='cuda:0')\n",
      "tensor(0.0006, device='cuda:0')\n",
      "tensor(0.0006, device='cuda:0')\n",
      "tensor(0.0006, device='cuda:0')\n",
      "tensor(0.0006, device='cuda:0')\n",
      "tensor(0.0006, device='cuda:0')\n",
      "tensor(0.0006, device='cuda:0')\n",
      "tensor(0.0006, device='cuda:0')\n",
      "tensor(0.0006, device='cuda:0')\n",
      "tensor(0.0006, device='cuda:0')\n",
      "tensor(0.0006, device='cuda:0')\n",
      "tensor(0.0006, device='cuda:0')\n",
      "tensor(0.0006, device='cuda:0')\n",
      "tensor(0.0006, device='cuda:0')\n",
      "tensor(0.0006, device='cuda:0')\n",
      "tensor(0.0006, device='cuda:0')\n",
      "tensor(0.0006, device='cuda:0')\n",
      "tensor(0.0006, device='cuda:0')\n",
      "tensor(0.0006, device='cuda:0')\n",
      "tensor(0.0006, device='cuda:0')\n",
      "tensor(0.0006, device='cuda:0')\n",
      "tensor(0.0006, device='cuda:0')\n",
      "tensor(0.0006, device='cuda:0')\n",
      "tensor(0.0006, device='cuda:0')\n",
      "tensor(0.0006, device='cuda:0')\n",
      "tensor(0.0006, device='cuda:0')\n",
      "tensor(0.0006, device='cuda:0')\n",
      "tensor(0.0006, device='cuda:0')\n",
      "tensor(0.0006, device='cuda:0')\n",
      "tensor(0.0006, device='cuda:0')\n",
      "tensor(0.0006, device='cuda:0')\n",
      "tensor(0.0006, device='cuda:0')\n",
      "tensor(0.0006, device='cuda:0')\n",
      "tensor(0.0006, device='cuda:0')\n",
      "tensor(0.0006, device='cuda:0')\n",
      "tensor(0.0006, device='cuda:0')\n",
      "tensor(0.0006, device='cuda:0')\n",
      "tensor(0.0006, device='cuda:0')\n",
      "tensor(0.0006, device='cuda:0')\n",
      "tensor(0.0006, device='cuda:0')\n",
      "tensor(0.0006, device='cuda:0')\n",
      "tensor(0.0006, device='cuda:0')\n",
      "tensor(0.0006, device='cuda:0')\n",
      "tensor(0.0006, device='cuda:0')\n",
      "tensor(0.0006, device='cuda:0')\n",
      "tensor(0.0006, device='cuda:0')\n",
      "tensor(0.0006, device='cuda:0')\n",
      "tensor(0.0006, device='cuda:0')\n",
      "tensor(0.0006, device='cuda:0')\n",
      "tensor(0.0006, device='cuda:0')\n",
      "tensor(0.0006, device='cuda:0')\n",
      "tensor(0.0006, device='cuda:0')\n",
      "tensor(0.0006, device='cuda:0')\n",
      "tensor(0.0006, device='cuda:0')\n",
      "tensor(0.0006, device='cuda:0')\n",
      "tensor(0.0006, device='cuda:0')\n",
      "tensor(0.0006, device='cuda:0')\n",
      "tensor(0.0006, device='cuda:0')\n",
      "tensor(0.0006, device='cuda:0')\n",
      "tensor(0.0006, device='cuda:0')\n",
      "tensor(0.0006, device='cuda:0')\n",
      "tensor(0.0006, device='cuda:0')\n",
      "tensor(0.0006, device='cuda:0')\n",
      "tensor(0.0006, device='cuda:0')\n",
      "tensor(0.0006, device='cuda:0')\n",
      "tensor(0.0006, device='cuda:0')\n",
      "tensor(0.0006, device='cuda:0')\n",
      "tensor(0.0006, device='cuda:0')\n",
      "tensor(0.0006, device='cuda:0')\n",
      "tensor(0.0006, device='cuda:0')\n",
      "tensor(0.0006, device='cuda:0')\n",
      "tensor(0.0006, device='cuda:0')\n",
      "tensor(0.0006, device='cuda:0')\n",
      "tensor(0.0006, device='cuda:0')\n",
      "tensor(0.0006, device='cuda:0')\n",
      "tensor(0.0006, device='cuda:0')\n",
      "tensor(0.0006, device='cuda:0')\n",
      "tensor(0.0006, device='cuda:0')\n",
      "tensor(0.0006, device='cuda:0')\n",
      "tensor(0.0006, device='cuda:0')\n",
      "tensor(0.0006, device='cuda:0')\n",
      "tensor(0.0006, device='cuda:0')\n",
      "tensor(0.0006, device='cuda:0')\n",
      "tensor(0.0006, device='cuda:0')\n",
      "tensor(0.0006, device='cuda:0')\n",
      "tensor(0.0006, device='cuda:0')\n",
      "tensor(0.0006, device='cuda:0')\n",
      "tensor(0.0006, device='cuda:0')\n",
      "tensor(0.0006, device='cuda:0')\n",
      "tensor(0.0006, device='cuda:0')\n",
      "tensor(0.0006, device='cuda:0')\n",
      "tensor(0.0006, device='cuda:0')\n",
      "tensor(0.0006, device='cuda:0')\n",
      "tensor(0.0006, device='cuda:0')\n",
      "tensor(0.0006, device='cuda:0')\n",
      "tensor(0.0006, device='cuda:0')\n",
      "tensor(0.0006, device='cuda:0')\n",
      "tensor(0.0006, device='cuda:0')\n",
      "tensor(0.0006, device='cuda:0')\n",
      "tensor(0.0006, device='cuda:0')\n",
      "tensor(0.0006, device='cuda:0')\n",
      "tensor(0.0006, device='cuda:0')\n",
      "tensor(0.0006, device='cuda:0')\n",
      "tensor(0.0006, device='cuda:0')\n",
      "tensor(0.0006, device='cuda:0')\n",
      "tensor(0.0006, device='cuda:0')\n",
      "tensor(0.0006, device='cuda:0')\n",
      "tensor(0.0006, device='cuda:0')\n",
      "tensor(0.0006, device='cuda:0')\n",
      "tensor(0.0006, device='cuda:0')\n",
      "tensor(0.0006, device='cuda:0')\n",
      "tensor(0.0006, device='cuda:0')\n",
      "tensor(0.0006, device='cuda:0')\n",
      "tensor(0.0006, device='cuda:0')\n",
      "tensor(0.0006, device='cuda:0')\n",
      "tensor(0.0006, device='cuda:0')\n",
      "tensor(0.0006, device='cuda:0')\n",
      "tensor(0.0006, device='cuda:0')\n",
      "tensor(0.0006, device='cuda:0')\n",
      "tensor(0.0006, device='cuda:0')\n",
      "tensor(0.0006, device='cuda:0')\n",
      "tensor(0.0006, device='cuda:0')\n",
      "tensor(0.0006, device='cuda:0')\n",
      "tensor(0.0006, device='cuda:0')\n",
      "tensor(0.0006, device='cuda:0')\n",
      "tensor(0.0006, device='cuda:0')\n",
      "tensor(0.0006, device='cuda:0')\n",
      "tensor(0.0006, device='cuda:0')\n",
      "tensor(0.0006, device='cuda:0')\n",
      "tensor(0.0006, device='cuda:0')\n",
      "tensor(0.0006, device='cuda:0')\n",
      "tensor(0.0006, device='cuda:0')\n",
      "tensor(0.0006, device='cuda:0')\n",
      "tensor(0.0006, device='cuda:0')\n",
      "tensor(0.0006, device='cuda:0')\n",
      "tensor(0.0006, device='cuda:0')\n",
      "tensor(0.0006, device='cuda:0')\n",
      "tensor(0.0006, device='cuda:0')\n",
      "tensor(0.0006, device='cuda:0')\n",
      "tensor(0.0006, device='cuda:0')\n",
      "tensor(0.0006, device='cuda:0')\n",
      "tensor(0.0006, device='cuda:0')\n",
      "tensor(0.0006, device='cuda:0')\n",
      "tensor(0.0006, device='cuda:0')\n",
      "tensor(0.0006, device='cuda:0')\n",
      "tensor(0.0012, device='cuda:0')\n",
      "tensor(0.0012, device='cuda:0')\n",
      "tensor(0.0006, device='cuda:0')\n",
      "tensor(0.0006, device='cuda:0')\n",
      "tensor(0.0018, device='cuda:0')\n",
      "tensor(0.0012, device='cuda:0')\n",
      "tensor(0.0012, device='cuda:0')\n",
      "tensor(0.0036, device='cuda:0')\n",
      "tensor(0.0030, device='cuda:0')\n"
     ]
    }
   ],
   "source": [
    "sortedd = torch.unique(layer41conv2).msort()\n",
    "for i, val in enumerate(sortedd):\n",
    "    if i > 0:\n",
    "        print(sortedd[i] - sortedd[i-1])"
   ]
  },
  {
   "cell_type": "code",
   "execution_count": 11,
   "id": "8882b7bc",
   "metadata": {},
   "outputs": [],
   "source": [
    "weights = quantizized_model.layer4[1].conv2.weight"
   ]
  },
  {
   "cell_type": "code",
   "execution_count": 12,
   "id": "3f6f2d93",
   "metadata": {},
   "outputs": [
    {
     "name": "stdout",
     "output_type": "stream",
     "text": [
      "Unique weights: torch.Size([1698])\n"
     ]
    }
   ],
   "source": [
    "print(f\"Unique weights: {torch.unique(weights).shape}\")"
   ]
  },
  {
   "cell_type": "code",
   "execution_count": 10,
   "id": "57f66296",
   "metadata": {},
   "outputs": [
    {
     "ename": "NameError",
     "evalue": "name 'weights' is not defined",
     "output_type": "error",
     "traceback": [
      "\u001b[31m---------------------------------------------------------------------------\u001b[39m",
      "\u001b[31mNameError\u001b[39m                                 Traceback (most recent call last)",
      "\u001b[36mCell\u001b[39m\u001b[36m \u001b[39m\u001b[32mIn[10]\u001b[39m\u001b[32m, line 1\u001b[39m\n\u001b[32m----> \u001b[39m\u001b[32m1\u001b[39m torch.unique(\u001b[43mweights\u001b[49m)\n",
      "\u001b[31mNameError\u001b[39m: name 'weights' is not defined"
     ]
    }
   ],
   "source": [
    "torch.unique(weights)"
   ]
  },
  {
   "cell_type": "code",
   "execution_count": 10,
   "id": "72f05734",
   "metadata": {},
   "outputs": [
    {
     "data": {
      "text/plain": [
       "tensor([1.7280e+01, 1.7280e+01, 1.7280e+01, 1.7082e+01, 1.6708e+01, 1.6050e+01,\n",
       "        1.5552e+01, 1.4975e+01, 1.4166e+01, 1.2858e+01, 1.0568e+01, 6.2637e+00,\n",
       "        1.3085e+00, 7.3607e-03, 9.7745e-06, 9.7745e-06, 9.7745e-06, 9.7745e-06,\n",
       "        9.7745e-06, 9.7745e-06])"
      ]
     },
     "execution_count": 10,
     "metadata": {},
     "output_type": "execute_result"
    }
   ],
   "source": [
    "torch.cat(adaround_statistics['conv1']['losses'])"
   ]
  },
  {
   "cell_type": "code",
   "execution_count": 14,
   "id": "5dad353f",
   "metadata": {},
   "outputs": [],
   "source": [
    "i = 0"
   ]
  },
  {
   "cell_type": "code",
   "execution_count": 27,
   "id": "edb13c99",
   "metadata": {},
   "outputs": [
    {
     "data": {
      "image/png": "[encoded data removed]",
      "text/plain": [
       "<Figure size 1000x500 with 2 Axes>"
      ]
     },
     "metadata": {},
     "output_type": "display_data"
    },
    {
     "name": "stdout",
     "output_type": "stream",
     "text": [
      "last loss: 0.001733768847770989\n",
      "last nubmer of h_alphas other than 0 or 1: 0\n"
     ]
    }
   ],
   "source": [
    "layer_to_plot = list(adaround_statistics.keys())[i]\n",
    "#layer_to_plot = 'layer3.0.conv2'\n",
    "i+=1\n",
    "\n",
    "raveled_h_alphas = []\n",
    "zeros_count_arr = []\n",
    "ones_count_arr = []\n",
    "other_count_arr = []\n",
    "\n",
    "for h_alphas in adaround_statistics[layer_to_plot]['h_alphas']:\n",
    "    raveled = torch.ravel(h_alphas.to(\"cpu\")).numpy()\n",
    "    zeros_count = np.where(raveled == 0)[0].shape[0]\n",
    "    ones_count = np.where(raveled  == 1)[0].shape[0]\n",
    "    other_count = raveled.shape[0] - zeros_count - ones_count\n",
    "\n",
    "    zeros_count_arr.append(zeros_count)\n",
    "    ones_count_arr.append(ones_count)\n",
    "    other_count_arr.append(other_count)\n",
    "\n",
    "fig, axes = plt.subplots(2,1, figsize=(10, 5))\n",
    "axes[0].plot(zeros_count_arr, label='Number of h_alphas < 0.5')\n",
    "axes[0].plot(ones_count_arr, label='Number of h_alphas > 0.5')\n",
    "axes[0].plot(other_count_arr, \"--\", label='Number of h_alphas == 0.5')\n",
    "\n",
    "axes[0].set_title(f\"Quantization of weights over iterations \\n({layer_to_plot})\", fontsize=15)\n",
    "axes[0].legend()\n",
    "\n",
    "losses_cpu = torch.cat(adaround_statistics[layer_to_plot]['losses']).to(\"cpu\")\n",
    "axes[1].plot(losses_cpu)\n",
    "plt.show()\n",
    "print(f\"last loss: {losses_cpu[-1]}\")\n",
    "print(f\"last nubmer of h_alphas other than 0 or 1: {other_count_arr[-1]}\")"
   ]
  },
  {
   "cell_type": "code",
   "execution_count": 133,
   "id": "944bdb42",
   "metadata": {},
   "outputs": [],
   "source": [
    "i = 0"
   ]
  },
  {
   "cell_type": "code",
   "execution_count": 150,
   "id": "208a07bc",
   "metadata": {},
   "outputs": [
    {
     "data": {
      "image/png": "[encoded data removed]",
      "text/plain": [
       "<Figure size 640x480 with 2 Axes>"
      ]
     },
     "metadata": {},
     "output_type": "display_data"
    },
    {
     "name": "stdout",
     "output_type": "stream",
     "text": [
      "Unique weights before 2355588\n",
      "Unique weights after 209\n",
      "Unique h_alphas at the end: tensor([0.0000, 0.5000, 0.9846, 1.0000], device='cuda:0')\n",
      "Number of h_alphas not 0 or 1: 1295361\n"
     ]
    }
   ],
   "source": [
    "layer_to_plot = list(adaround_statistics.keys())[i]\n",
    "i+=1\n",
    "module_to_plot_before = dict(model.named_modules())[layer_to_plot]\n",
    "_weights_before = torch.ravel(module_to_plot_before.weight.to(\"cpu\").detach())\n",
    "\n",
    "module_to_plot_after = dict(quantizized_model.named_modules())[layer_to_plot]\n",
    "_weights_after = torch.ravel(module_to_plot_after.weight.to(\"cpu\").detach())\n",
    "\n",
    "fig, axes = plt.subplots(2,1)\n",
    "axes[0].hist(_weights_before)\n",
    "axes[1].hist(_weights_after)\n",
    "\n",
    "\n",
    "axes[0].set_title(\"Distribution of weights before quantization\")\n",
    "axes[1].set_title(\"Distribution of weights after quantization\")\n",
    "fig.suptitle(f\"Layer {layer_to_plot}\")\n",
    "plt.tight_layout()\n",
    "plt.show()\n",
    "\n",
    "\n",
    "print(\"Unique weights before\", torch.unique(_weights_before).shape[0])\n",
    "print(\"Unique weights after\", torch.unique(_weights_after).shape[0])\n",
    "print(f\"Unique h_alphas at the end: {torch.unique(adaround_statistics[layer_to_plot]['h_alphas'][-1])}\")\n",
    "end_h_alphas = torch.ravel(adaround_statistics[layer_to_plot]['h_alphas'][-1]).cpu().numpy()\n",
    "print(f\"Number of h_alphas not 0 or 1: {end_h_alphas.shape[0] - np.where(end_h_alphas == 0)[0].shape[0] - np.where(end_h_alphas == 1)[0].shape[0]}\")"
   ]
  },
  {
   "cell_type": "code",
   "execution_count": 15,
   "id": "1f79eb03",
   "metadata": {},
   "outputs": [],
   "source": [
    "def evaluate_model(model, dataloader, device):\n",
    "    model = model.to(device)\n",
    "    model.eval()\n",
    "    \n",
    "    all_preds = []\n",
    "    all_labels = []\n",
    "    \n",
    "    with torch.no_grad():\n",
    "        for images, labels in dataloader:\n",
    "            images = images.to(device)\n",
    "            labels = labels.to(device)\n",
    "            outputs = model(images)\n",
    "            _, predicted = torch.max(outputs, 1)\n",
    "            \n",
    "            all_preds.append(predicted.cpu())\n",
    "            all_labels.append(labels.cpu())\n",
    "    \n",
    "    all_preds = torch.cat(all_preds)\n",
    "    all_labels = torch.cat(all_labels)\n",
    "    \n",
    "    return all_labels, all_preds"
   ]
  },
  {
   "cell_type": "code",
   "execution_count": 20,
   "id": "ca3e4928",
   "metadata": {},
   "outputs": [],
   "source": [
    "from sklearn import metrics"
   ]
  },
  {
   "cell_type": "code",
   "execution_count": 56,
   "id": "ae8b3fad",
   "metadata": {},
   "outputs": [
    {
     "name": "stdout",
     "output_type": "stream",
     "text": [
      "accuracy before quantization: 0.8258\n",
      "f1 score before quantization: 0.8268\n"
     ]
    }
   ],
   "source": [
    "y_true, y_pred = evaluate_model(model, test_loader, 'cuda:0')\n",
    "print(f\"accuracy before quantization: {metrics.accuracy_score(y_true, y_pred)}\")\n",
    "print(f\"f1 score before quantization: {metrics.f1_score(y_true, y_pred, average='weighted'):.4f}\")"
   ]
  },
  {
   "cell_type": "code",
   "execution_count": null,
   "id": "a3160ce3",
   "metadata": {},
   "outputs": [
    {
     "name": "stdout",
     "output_type": "stream",
     "text": [
      "accuracy before quantization: 0.8243\n",
      "f1 score before quantization: 0.8254\n"
     ]
    }
   ],
   "source": [
    "y_true, y_pred = evaluate_model(quantizized_model, test_loader, 'cuda:0')\n",
    "print(f\"accuracy after quantization: {metrics.accuracy_score(y_true, y_pred)}\")\n",
    "print(f\"f1 score after quantization: {metrics.f1_score(y_true, y_pred, average='weighted'):.4f}\")"
   ]
  },
  {
   "cell_type": "markdown",
   "id": "73e19cc9",
   "metadata": {},
   "source": [
    "**one channel quantization, 2 bits, 1 calibration sample(RANDOM)** <br>\n",
    "acc : 0.2918"
   ]
  },
  {
   "cell_type": "markdown",
   "id": "67798464",
   "metadata": {},
   "source": [
    "# Grid search"
   ]
  },
  {
   "cell_type": "code",
   "execution_count": null,
   "id": "ac587ac8",
   "metadata": {},
   "outputs": [],
   "source": [
    "lr : [0.05, 0.01, 0.005, 0.001]\n",
    "reg_param: [0.1, 0.07, 0.05, 0.01, 0.005]\n",
    "num_iteration: [500, 1000, 2000, 3000, 4000]\n",
    "beta_range: [(10, 2), (20, 2), (40,2), (20,1), (20,0.5)]"
   ]
  },
  {
   "cell_type": "code",
   "execution_count": 100,
   "id": "0978b341",
   "metadata": {},
   "outputs": [],
   "source": [
    "params = {\n",
    "    'bitwidth' : 8,\n",
    "    'reg_param' : 0.05,\n",
    "    'num_iterations' : 2000,\n",
    "    'per_channel' : False,\n",
    "    'beta_range' : (20, 2),\n",
    "    'optimizer_lr' : 0.005\n",
    "\n",
    "}"
   ]
  },
  {
   "cell_type": "code",
   "execution_count": 94,
   "id": "79d9115e",
   "metadata": {},
   "outputs": [
    {
     "name": "stdout",
     "output_type": "stream",
     "text": [
      "Quantizizing conv and lin\n",
      " params:  8 0.05 False 2000 (20, 2) 0.001\n"
     ]
    },
    {
     "name": "stderr",
     "output_type": "stream",
     "text": [
      "Processing modules - Current: fc: : 68it [00:44,  1.52it/s]                   \n"
     ]
    }
   ],
   "source": [
    "adaround_wrapper = anvil.adaround.AdaRoundModelWrapper(model, images_1)\n",
    "adaround_statistics, quantizized_weights, quantizized_model = adaround_wrapper.apply_adaround_to_layers(**params)"
   ]
  },
  {
   "cell_type": "code",
   "execution_count": 95,
   "id": "700ed8c8",
   "metadata": {},
   "outputs": [],
   "source": [
    "y_true, y_pred = evaluate_model(quantizized_model, test_loader, 'cuda:0')\n",
    "\n",
    "parameter_search[int(np.max(list(parameter_search.keys())) + 1)] = {\n",
    "    'params' : params,\n",
    "    'accuracry' : metrics.accuracy_score(y_true, y_pred),\n",
    "    'f1_Score' : metrics.f1_score(y_true, y_pred, average='macro'),\n",
    "    'y_pred' : y_pred,\n",
    "    'y_true' : y_true\n",
    "}"
   ]
  },
  {
   "cell_type": "code",
   "execution_count": 96,
   "id": "dfeb2b25",
   "metadata": {},
   "outputs": [
    {
     "data": {
      "text/plain": [
       "{0: {'params': {'bitwidth': 8,\n",
       "   'reg_param': 0.01,\n",
       "   'num_iterations': 1000,\n",
       "   'per_channel': False,\n",
       "   'beta_range': (20, 2),\n",
       "   'optimizer_lr': 0.01},\n",
       "  'accuracry': 0.8224,\n",
       "  'f1_Score': 0.8235657650517343,\n",
       "  'y_pred': tensor([3, 8, 1,  ..., 5, 1, 7]),\n",
       "  'y_true': tensor([3, 8, 8,  ..., 5, 1, 7])},\n",
       " 1: {'params': {'bitwidth': 8,\n",
       "   'reg_param': 0.05,\n",
       "   'num_iterations': 1000,\n",
       "   'per_channel': False,\n",
       "   'beta_range': (20, 2),\n",
       "   'optimizer_lr': 0.01},\n",
       "  'accuracry': 0.8235,\n",
       "  'f1_Score': 0.8245692559755922,\n",
       "  'y_pred': tensor([3, 8, 1,  ..., 5, 1, 7]),\n",
       "  'y_true': tensor([3, 8, 8,  ..., 5, 1, 7])},\n",
       " 2: {'params': {'bitwidth': 8,\n",
       "   'reg_param': 0.1,\n",
       "   'num_iterations': 1000,\n",
       "   'per_channel': False,\n",
       "   'beta_range': (20, 2),\n",
       "   'optimizer_lr': 0.01},\n",
       "  'accuracry': 0.8231,\n",
       "  'f1_Score': 0.8242453575956576,\n",
       "  'y_pred': tensor([3, 8, 1,  ..., 5, 1, 7]),\n",
       "  'y_true': tensor([3, 8, 8,  ..., 5, 1, 7])},\n",
       " 3: {'params': {'bitwidth': 8,\n",
       "   'reg_param': 0.05,\n",
       "   'num_iterations': 500,\n",
       "   'per_channel': False,\n",
       "   'beta_range': (20, 2),\n",
       "   'optimizer_lr': 0.01},\n",
       "  'accuracry': 0.8161,\n",
       "  'f1_Score': 0.8177455350289875,\n",
       "  'y_pred': tensor([3, 8, 1,  ..., 5, 1, 7]),\n",
       "  'y_true': tensor([3, 8, 8,  ..., 5, 1, 7])},\n",
       " 4: {'params': {'bitwidth': 8,\n",
       "   'reg_param': 0.05,\n",
       "   'num_iterations': 2000,\n",
       "   'per_channel': False,\n",
       "   'beta_range': (20, 2),\n",
       "   'optimizer_lr': 0.01},\n",
       "  'accuracry': 0.8261,\n",
       "  'f1_Score': 0.8268758821077784,\n",
       "  'y_pred': tensor([3, 8, 1,  ..., 5, 1, 7]),\n",
       "  'y_true': tensor([3, 8, 8,  ..., 5, 1, 7])},\n",
       " 5: {'params': {'bitwidth': 8,\n",
       "   'reg_param': 0.05,\n",
       "   'num_iterations': 3000,\n",
       "   'per_channel': False,\n",
       "   'beta_range': (20, 2),\n",
       "   'optimizer_lr': 0.01},\n",
       "  'accuracry': 0.8226,\n",
       "  'f1_Score': 0.8237948408029908,\n",
       "  'y_pred': tensor([3, 8, 1,  ..., 5, 1, 7]),\n",
       "  'y_true': tensor([3, 8, 8,  ..., 5, 1, 7])},\n",
       " 6: {'params': {'bitwidth': 8,\n",
       "   'reg_param': 0.05,\n",
       "   'num_iterations': 2000,\n",
       "   'per_channel': False,\n",
       "   'beta_range': (40, 2),\n",
       "   'optimizer_lr': 0.01},\n",
       "  'accuracry': 0.8247,\n",
       "  'f1_Score': 0.8258483349186646,\n",
       "  'y_pred': tensor([3, 8, 1,  ..., 5, 1, 7]),\n",
       "  'y_true': tensor([3, 8, 8,  ..., 5, 1, 7])},\n",
       " 7: {'params': {'bitwidth': 8,\n",
       "   'reg_param': 0.05,\n",
       "   'num_iterations': 2000,\n",
       "   'per_channel': False,\n",
       "   'beta_range': (15, 2),\n",
       "   'optimizer_lr': 0.01},\n",
       "  'accuracry': 0.8247,\n",
       "  'f1_Score': 0.8258475934706553,\n",
       "  'y_pred': tensor([3, 8, 1,  ..., 5, 1, 7]),\n",
       "  'y_true': tensor([3, 8, 8,  ..., 5, 1, 7])},\n",
       " 8: {'params': {'bitwidth': 8,\n",
       "   'reg_param': 0.05,\n",
       "   'num_iterations': 2000,\n",
       "   'per_channel': False,\n",
       "   'beta_range': (20, 1.5),\n",
       "   'optimizer_lr': 0.01},\n",
       "  'accuracry': 0.8248,\n",
       "  'f1_Score': 0.8257956205944732,\n",
       "  'y_pred': tensor([3, 8, 1,  ..., 5, 1, 7]),\n",
       "  'y_true': tensor([3, 8, 8,  ..., 5, 1, 7])},\n",
       " 9: {'params': {'bitwidth': 8,\n",
       "   'reg_param': 0.05,\n",
       "   'num_iterations': 2000,\n",
       "   'per_channel': False,\n",
       "   'beta_range': (20, 2),\n",
       "   'optimizer_lr': 0.005},\n",
       "  'accuracry': 0.8268,\n",
       "  'f1_Score': 0.8278333562724249,\n",
       "  'y_pred': tensor([3, 8, 1,  ..., 5, 1, 7]),\n",
       "  'y_true': tensor([3, 8, 8,  ..., 5, 1, 7])},\n",
       " 10: {'params': {'bitwidth': 8,\n",
       "   'reg_param': 0.05,\n",
       "   'num_iterations': 2000,\n",
       "   'per_channel': False,\n",
       "   'beta_range': (20, 2),\n",
       "   'optimizer_lr': 0.001},\n",
       "  'accuracry': 0.8014,\n",
       "  'f1_Score': 0.803053152260297,\n",
       "  'y_pred': tensor([3, 8, 8,  ..., 5, 1, 7]),\n",
       "  'y_true': tensor([3, 8, 8,  ..., 5, 1, 7])}}"
      ]
     },
     "execution_count": 96,
     "metadata": {},
     "output_type": "execute_result"
    }
   ],
   "source": [
    "parameter_search"
   ]
  },
  {
   "cell_type": "markdown",
   "id": "954a742e",
   "metadata": {},
   "source": [
    "# Mean acc"
   ]
  },
  {
   "cell_type": "code",
   "execution_count": 127,
   "id": "3adb4b01",
   "metadata": {},
   "outputs": [
    {
     "name": "stdout",
     "output_type": "stream",
     "text": [
      "Quantizizing conv and lin\n",
      " params:  8 0.05 False 2000 (20, 2) 0.005\n"
     ]
    },
    {
     "name": "stderr",
     "output_type": "stream",
     "text": [
      "Processing modules - Current: fc: : 68it [01:09,  1.02s/it]                   \n"
     ]
    },
    {
     "name": "stdout",
     "output_type": "stream",
     "text": [
      "Quantizizing conv and lin\n",
      " params:  8 0.05 False 2000 (20, 2) 0.005\n"
     ]
    },
    {
     "name": "stderr",
     "output_type": "stream",
     "text": [
      "Processing modules - Current: fc: : 68it [01:09,  1.02s/it]                   \n"
     ]
    },
    {
     "name": "stdout",
     "output_type": "stream",
     "text": [
      "Quantizizing conv and lin\n",
      " params:  8 0.05 False 2000 (20, 2) 0.005\n"
     ]
    },
    {
     "name": "stderr",
     "output_type": "stream",
     "text": [
      "Processing modules - Current: fc: : 68it [01:09,  1.02s/it]                   \n"
     ]
    },
    {
     "name": "stdout",
     "output_type": "stream",
     "text": [
      "Quantizizing conv and lin\n",
      " params:  8 0.05 False 2000 (20, 2) 0.005\n"
     ]
    },
    {
     "name": "stderr",
     "output_type": "stream",
     "text": [
      "Processing modules - Current: fc: : 68it [01:09,  1.02s/it]                   \n"
     ]
    },
    {
     "name": "stdout",
     "output_type": "stream",
     "text": [
      "Quantizizing conv and lin\n",
      " params:  8 0.05 False 2000 (20, 2) 0.005\n"
     ]
    },
    {
     "name": "stderr",
     "output_type": "stream",
     "text": [
      "Processing modules - Current: fc: : 68it [01:09,  1.02s/it]                   \n"
     ]
    }
   ],
   "source": [
    "accuracies = []\n",
    "for i in range(5):\n",
    "    indices = torch.randperm(images.size(0))[:100]\n",
    "    sample_images = torch.cat(images_list, dim=0)[indices]\n",
    "    \n",
    "    adaround_wrapper = anvil.adaround.AdaRoundModelWrapper(model, sample_images)\n",
    "    adaround_statistics, quantizized_weights, quantizized_model = adaround_wrapper.apply_adaround_to_layers(**params)\n",
    "\n",
    "    y_true, y_pred = evaluate_model(quantizized_model, test_loader, 'cuda:0')\n",
    "    accuracies.append(metrics.accuracy_score(y_true, y_pred))"
   ]
  },
  {
   "cell_type": "code",
   "execution_count": 139,
   "id": "74cac695",
   "metadata": {},
   "outputs": [
    {
     "name": "stdout",
     "output_type": "stream",
     "text": [
      "accuracy before quantization: 0.8258\n",
      "f1 score before quantization: 0.8268\n"
     ]
    }
   ],
   "source": [
    "y_true, y_pred = evaluate_model(model, test_loader, 'cuda:0')\n",
    "print(f\"accuracy before quantization: {metrics.accuracy_score(y_true, y_pred)}\")\n",
    "print(f\"f1 score before quantization: {metrics.f1_score(y_true, y_pred, average='weighted'):.4f}\")"
   ]
  },
  {
   "cell_type": "code",
   "execution_count": 138,
   "id": "0e62534d",
   "metadata": {},
   "outputs": [
    {
     "name": "stdout",
     "output_type": "stream",
     "text": [
      "Adaround: 0.82568 +- 0.0009\n"
     ]
    }
   ],
   "source": [
    "print(f\"Adaround: {np.mean(accuracies)} +- {np.std(accuracies):.4f}\")"
   ]
  }
 ],
 "metadata": {
  "kernelspec": {
   "display_name": "DLKernel",
   "language": "python",
   "name": "dlkernel"
  },
  "language_info": {
   "codemirror_mode": {
    "name": "ipython",
    "version": 3
   },
   "file_extension": ".py",
   "mimetype": "text/x-python",
   "name": "python",
   "nbconvert_exporter": "python",
   "pygments_lexer": "ipython3",
   "version": "3.13.3"
  }
 },
 "nbformat": 4,
 "nbformat_minor": 5
}
