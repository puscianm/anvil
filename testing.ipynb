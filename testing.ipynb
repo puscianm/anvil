{
 "cells": [
  {
   "cell_type": "code",
   "execution_count": 1,
   "id": "65fbf50f",
   "metadata": {},
   "outputs": [],
   "source": [
    "%load_ext autoreload\n",
    "%autoreload 2\n",
    "import anvil\n",
    "import anvil.adaround\n",
    "\n",
    "import torch\n",
    "import torch.nn as nn\n",
    "from torchvision.models import resnet18\n",
    "from torchvision import datasets, transforms\n",
    "from torch.utils.data import DataLoader, random_split\n",
    "import torch.nn.functional as F\n",
    "import copy\n",
    "import torch.optim as optim\n",
    "import os, pathlib\n",
    "\n",
    "import matplotlib.pyplot as plt\n",
    "import numpy as np\n",
    "\n",
    "base_path = pathlib.Path(\"/home/mpuscian/Desktop/repozytoria/MINI_projects/anvil/models/\")\n",
    "model_path = base_path.joinpath(\"cifar_model.pth\")\n",
    "adaround_model_path = base_path.joinpath(\"adaround_model.pth\")\n",
    "\n",
    "\n",
    "device = torch.device('cuda' if torch.cuda.is_available() else 'cpu')\n",
    "\n",
    "model = resnet18(weights=None)\n",
    "model.conv1 = nn.Conv2d(3, 64, kernel_size=3, stride=1, padding=1, bias=False)\n",
    "model.maxpool = nn.Identity()\n",
    "model.fc = nn.Linear(512, 10)\n",
    "model.load_state_dict(torch.load(model_path, map_location=device))\n",
    "\n",
    "sample_input = torch.randn(1, 3, 32, 32)"
   ]
  },
  {
   "cell_type": "markdown",
   "id": "3e029e79",
   "metadata": {},
   "source": [
    "# Loading datasets"
   ]
  },
  {
   "cell_type": "code",
   "execution_count": 2,
   "id": "a6166447",
   "metadata": {},
   "outputs": [],
   "source": [
    "\n",
    "transform_train = transforms.Compose([\n",
    "    transforms.RandomHorizontalFlip(),\n",
    "    transforms.RandomCrop(32, padding=4),\n",
    "    transforms.ToTensor(),\n",
    "])\n",
    "\n",
    "transform_test = transforms.Compose([\n",
    "    transforms.ToTensor(),\n",
    "])\n",
    "\n",
    "full_train_dataset = datasets.CIFAR10(root=base_path.joinpath('data'), train=True, download=True, transform=transform_train)\n",
    "test_dataset = datasets.CIFAR10(root=base_path.joinpath('data'), train=False, download=True, transform=transform_test)\n",
    "\n",
    "train_size = int(0.9 * len(full_train_dataset))  # 45,000\n",
    "val_size = len(full_train_dataset) - train_size  # 5,000\n",
    "train_dataset, val_dataset = random_split(full_train_dataset, [train_size, val_size])\n",
    "\n",
    "# 4. DataLoaders\n",
    "train_loader = DataLoader(train_dataset, batch_size=128, shuffle=True, num_workers=6)\n",
    "val_dataset.dataset.transform = transform_test\n",
    "val_loader = DataLoader(val_dataset, batch_size=128, shuffle=False, num_workers=6)\n",
    "test_loader = DataLoader(test_dataset, batch_size=128, shuffle=False, num_workers=6)"
   ]
  },
  {
   "cell_type": "code",
   "execution_count": 3,
   "id": "77dd3b4e",
   "metadata": {},
   "outputs": [],
   "source": [
    "images_list = []\n",
    "for batch in val_loader:\n",
    "    images = batch[0] if isinstance(batch, (list, tuple)) else batch  # handles (images, labels) or just images\n",
    "    images_list.append(images)\n",
    "    total = sum(img.shape[0] for img in images_list)\n",
    "    if total >= 1000:\n",
    "        break\n",
    "\n",
    "images_1 = torch.cat(images_list, dim=0)[:50]\n",
    "images_1 = images_1.to(device)"
   ]
  },
  {
   "cell_type": "code",
   "execution_count": 4,
   "id": "6d147b0f",
   "metadata": {},
   "outputs": [],
   "source": [
    "model = model.to(device)"
   ]
  },
  {
   "cell_type": "code",
   "execution_count": 17,
   "id": "29eb52d7",
   "metadata": {},
   "outputs": [
    {
     "name": "stdout",
     "output_type": "stream",
     "text": [
      "conv1 <class 'torch.nn.modules.conv.Conv2d'>\n",
      "bn1 <class 'torch.nn.modules.batchnorm.BatchNorm2d'>\n",
      "relu <class 'torch.nn.modules.activation.ReLU'>\n",
      "maxpool <class 'torch.nn.modules.linear.Identity'>\n",
      "layer1 <class 'torch.nn.modules.container.Sequential'>\n",
      "layer1.0 <class 'torchvision.models.resnet.BasicBlock'>\n",
      "layer1.0.conv1 <class 'torch.nn.modules.conv.Conv2d'>\n",
      "layer1.0.bn1 <class 'torch.nn.modules.batchnorm.BatchNorm2d'>\n",
      "layer1.0.relu <class 'torch.nn.modules.activation.ReLU'>\n",
      "layer1.0.conv2 <class 'torch.nn.modules.conv.Conv2d'>\n",
      "layer1.0.bn2 <class 'torch.nn.modules.batchnorm.BatchNorm2d'>\n",
      "layer1.1 <class 'torchvision.models.resnet.BasicBlock'>\n",
      "layer1.1.conv1 <class 'torch.nn.modules.conv.Conv2d'>\n",
      "layer1.1.bn1 <class 'torch.nn.modules.batchnorm.BatchNorm2d'>\n",
      "layer1.1.relu <class 'torch.nn.modules.activation.ReLU'>\n",
      "layer1.1.conv2 <class 'torch.nn.modules.conv.Conv2d'>\n",
      "layer1.1.bn2 <class 'torch.nn.modules.batchnorm.BatchNorm2d'>\n",
      "layer2 <class 'torch.nn.modules.container.Sequential'>\n",
      "layer2.0 <class 'torchvision.models.resnet.BasicBlock'>\n",
      "layer2.0.conv1 <class 'torch.nn.modules.conv.Conv2d'>\n",
      "layer2.0.bn1 <class 'torch.nn.modules.batchnorm.BatchNorm2d'>\n",
      "layer2.0.relu <class 'torch.nn.modules.activation.ReLU'>\n",
      "layer2.0.conv2 <class 'torch.nn.modules.conv.Conv2d'>\n",
      "layer2.0.bn2 <class 'torch.nn.modules.batchnorm.BatchNorm2d'>\n",
      "layer2.0.downsample <class 'torch.nn.modules.container.Sequential'>\n",
      "layer2.0.downsample.0 <class 'torch.nn.modules.conv.Conv2d'>\n",
      "layer2.0.downsample.1 <class 'torch.nn.modules.batchnorm.BatchNorm2d'>\n",
      "layer2.1 <class 'torchvision.models.resnet.BasicBlock'>\n",
      "layer2.1.conv1 <class 'torch.nn.modules.conv.Conv2d'>\n",
      "layer2.1.bn1 <class 'torch.nn.modules.batchnorm.BatchNorm2d'>\n",
      "layer2.1.relu <class 'torch.nn.modules.activation.ReLU'>\n",
      "layer2.1.conv2 <class 'torch.nn.modules.conv.Conv2d'>\n",
      "layer2.1.bn2 <class 'torch.nn.modules.batchnorm.BatchNorm2d'>\n",
      "layer3 <class 'torch.nn.modules.container.Sequential'>\n",
      "layer3.0 <class 'torchvision.models.resnet.BasicBlock'>\n",
      "layer3.0.conv1 <class 'torch.nn.modules.conv.Conv2d'>\n",
      "layer3.0.bn1 <class 'torch.nn.modules.batchnorm.BatchNorm2d'>\n",
      "layer3.0.relu <class 'torch.nn.modules.activation.ReLU'>\n",
      "layer3.0.conv2 <class 'torch.nn.modules.conv.Conv2d'>\n",
      "layer3.0.bn2 <class 'torch.nn.modules.batchnorm.BatchNorm2d'>\n",
      "layer3.0.downsample <class 'torch.nn.modules.container.Sequential'>\n",
      "layer3.0.downsample.0 <class 'torch.nn.modules.conv.Conv2d'>\n",
      "layer3.0.downsample.1 <class 'torch.nn.modules.batchnorm.BatchNorm2d'>\n",
      "layer3.1 <class 'torchvision.models.resnet.BasicBlock'>\n",
      "layer3.1.conv1 <class 'torch.nn.modules.conv.Conv2d'>\n",
      "layer3.1.bn1 <class 'torch.nn.modules.batchnorm.BatchNorm2d'>\n",
      "layer3.1.relu <class 'torch.nn.modules.activation.ReLU'>\n",
      "layer3.1.conv2 <class 'torch.nn.modules.conv.Conv2d'>\n",
      "layer3.1.bn2 <class 'torch.nn.modules.batchnorm.BatchNorm2d'>\n",
      "layer4 <class 'torch.nn.modules.container.Sequential'>\n",
      "layer4.0 <class 'torchvision.models.resnet.BasicBlock'>\n",
      "layer4.0.conv1 <class 'torch.nn.modules.conv.Conv2d'>\n",
      "layer4.0.bn1 <class 'torch.nn.modules.batchnorm.BatchNorm2d'>\n",
      "layer4.0.relu <class 'torch.nn.modules.activation.ReLU'>\n",
      "layer4.0.conv2 <class 'torch.nn.modules.conv.Conv2d'>\n",
      "layer4.0.bn2 <class 'torch.nn.modules.batchnorm.BatchNorm2d'>\n",
      "layer4.0.downsample <class 'torch.nn.modules.container.Sequential'>\n",
      "layer4.0.downsample.0 <class 'torch.nn.modules.conv.Conv2d'>\n",
      "layer4.0.downsample.1 <class 'torch.nn.modules.batchnorm.BatchNorm2d'>\n",
      "layer4.1 <class 'torchvision.models.resnet.BasicBlock'>\n",
      "layer4.1.conv1 <class 'torch.nn.modules.conv.Conv2d'>\n",
      "layer4.1.bn1 <class 'torch.nn.modules.batchnorm.BatchNorm2d'>\n",
      "layer4.1.relu <class 'torch.nn.modules.activation.ReLU'>\n",
      "layer4.1.conv2 <class 'torch.nn.modules.conv.Conv2d'>\n",
      "layer4.1.bn2 <class 'torch.nn.modules.batchnorm.BatchNorm2d'>\n",
      "avgpool <class 'torch.nn.modules.pooling.AdaptiveAvgPool2d'>\n",
      "fc <class 'torch.nn.modules.linear.Linear'>\n"
     ]
    }
   ],
   "source": [
    "for i in list(model.named_modules()):\n",
    "    if i[0] != '':\n",
    "        print(i[0], type(i[1]))"
   ]
  },
  {
   "cell_type": "code",
   "execution_count": 75,
   "id": "471e5abd",
   "metadata": {},
   "outputs": [
    {
     "name": "stdout",
     "output_type": "stream",
     "text": [
      "Quantizizing conv and lin\n",
      " params:  4 2 False 3500 (20, 2) 0.03\n"
     ]
    },
    {
     "name": "stderr",
     "output_type": "stream",
     "text": [
      "Processing modules - Current: conv1: : 0it [00:00, ?it/s]"
     ]
    },
    {
     "name": "stdout",
     "output_type": "stream",
     "text": [
      "min: -0.25015148520469666, max: 0.2506757080554962\n"
     ]
    },
    {
     "name": "stderr",
     "output_type": "stream",
     "text": [
      "Processing modules - Current: layer1.0.conv1: : 2it [00:03,  1.68s/it]"
     ]
    },
    {
     "name": "stdout",
     "output_type": "stream",
     "text": [
      "min: -0.2142745852470398, max: 0.1660638004541397\n"
     ]
    },
    {
     "name": "stderr",
     "output_type": "stream",
     "text": [
      "Processing modules - Current: layer1.0.conv2: : 8it [00:08,  1.07s/it]"
     ]
    },
    {
     "name": "stdout",
     "output_type": "stream",
     "text": [
      "min: -0.18321998417377472, max: 0.17276158928871155\n"
     ]
    },
    {
     "name": "stderr",
     "output_type": "stream",
     "text": [
      "Processing modules - Current: layer1.1.conv1: : 11it [00:13,  1.22s/it]"
     ]
    },
    {
     "name": "stdout",
     "output_type": "stream",
     "text": [
      "min: -0.19302745163440704, max: 0.1632901430130005\n"
     ]
    },
    {
     "name": "stderr",
     "output_type": "stream",
     "text": [
      "Processing modules - Current: layer1.1.conv2: : 14it [00:18,  1.43s/it]"
     ]
    },
    {
     "name": "stdout",
     "output_type": "stream",
     "text": [
      "min: -0.1803359091281891, max: 0.16611817479133606\n"
     ]
    },
    {
     "name": "stderr",
     "output_type": "stream",
     "text": [
      "Processing modules - Current: layer2.0.conv1: : 17it [00:23,  1.44s/it]"
     ]
    },
    {
     "name": "stdout",
     "output_type": "stream",
     "text": [
      "min: -0.15494774281978607, max: 0.18094487488269806\n"
     ]
    },
    {
     "name": "stderr",
     "output_type": "stream",
     "text": [
      "Processing modules - Current: layer2.0.conv2: : 21it [00:27,  1.25s/it]"
     ]
    },
    {
     "name": "stdout",
     "output_type": "stream",
     "text": [
      "min: -0.1678522676229477, max: 0.15561945736408234\n"
     ]
    },
    {
     "name": "stderr",
     "output_type": "stream",
     "text": [
      "Processing modules - Current: layer2.0.downsample.0: : 24it [00:30,  1.23s/it]"
     ]
    },
    {
     "name": "stdout",
     "output_type": "stream",
     "text": [
      "min: -0.23204542696475983, max: 0.33533433079719543\n"
     ]
    },
    {
     "name": "stderr",
     "output_type": "stream",
     "text": [
      "Processing modules - Current: layer2.1.conv1: : 27it [00:33,  1.11s/it]       "
     ]
    },
    {
     "name": "stdout",
     "output_type": "stream",
     "text": [
      "min: -0.12702588737010956, max: 0.13170595467090607\n"
     ]
    },
    {
     "name": "stderr",
     "output_type": "stream",
     "text": [
      "Processing modules - Current: layer2.1.conv2: : 30it [00:37,  1.19s/it]"
     ]
    },
    {
     "name": "stdout",
     "output_type": "stream",
     "text": [
      "min: -0.12647868692874908, max: 0.13044346868991852\n"
     ]
    },
    {
     "name": "stderr",
     "output_type": "stream",
     "text": [
      "Processing modules - Current: layer3.0.conv1: : 33it [00:40,  1.19s/it]"
     ]
    },
    {
     "name": "stdout",
     "output_type": "stream",
     "text": [
      "min: -0.12902294099330902, max: 0.14738915860652924\n"
     ]
    },
    {
     "name": "stderr",
     "output_type": "stream",
     "text": [
      "Processing modules - Current: layer3.0.conv2: : 37it [00:44,  1.06s/it]"
     ]
    },
    {
     "name": "stdout",
     "output_type": "stream",
     "text": [
      "min: -0.12423983216285706, max: 0.13682061433792114\n"
     ]
    },
    {
     "name": "stderr",
     "output_type": "stream",
     "text": [
      "Processing modules - Current: layer3.0.downsample.0: : 40it [00:47,  1.13s/it]"
     ]
    },
    {
     "name": "stdout",
     "output_type": "stream",
     "text": [
      "min: -0.19384238123893738, max: 0.22219420969486237\n"
     ]
    },
    {
     "name": "stderr",
     "output_type": "stream",
     "text": [
      "Processing modules - Current: layer3.1.conv1: : 43it [00:50,  1.06s/it]       "
     ]
    },
    {
     "name": "stdout",
     "output_type": "stream",
     "text": [
      "min: -0.11791452765464783, max: 0.13194242119789124\n"
     ]
    },
    {
     "name": "stderr",
     "output_type": "stream",
     "text": [
      "Processing modules - Current: layer3.1.conv2: : 46it [00:54,  1.16s/it]"
     ]
    },
    {
     "name": "stdout",
     "output_type": "stream",
     "text": [
      "min: -0.11708496510982513, max: 0.12192979454994202\n"
     ]
    },
    {
     "name": "stderr",
     "output_type": "stream",
     "text": [
      "Processing modules - Current: layer4.0.conv1: : 49it [00:58,  1.20s/it]"
     ]
    },
    {
     "name": "stdout",
     "output_type": "stream",
     "text": [
      "min: -0.109967902302742, max: 0.12523911893367767\n"
     ]
    },
    {
     "name": "stderr",
     "output_type": "stream",
     "text": [
      "Processing modules - Current: layer4.0.conv2: : 53it [01:02,  1.10s/it]"
     ]
    },
    {
     "name": "stdout",
     "output_type": "stream",
     "text": [
      "min: -0.0601407065987587, max: 0.07794895768165588\n"
     ]
    },
    {
     "name": "stderr",
     "output_type": "stream",
     "text": [
      "Processing modules - Current: layer4.0.downsample.0: : 56it [01:08,  1.39s/it]"
     ]
    },
    {
     "name": "stdout",
     "output_type": "stream",
     "text": [
      "min: -0.09025473892688751, max: 0.12519408762454987\n"
     ]
    },
    {
     "name": "stderr",
     "output_type": "stream",
     "text": [
      "Processing modules - Current: layer4.1.conv1: : 59it [01:11,  1.23s/it]       "
     ]
    },
    {
     "name": "stdout",
     "output_type": "stream",
     "text": [
      "min: -0.05666574835777283, max: 0.08149871230125427\n"
     ]
    },
    {
     "name": "stderr",
     "output_type": "stream",
     "text": [
      "Processing modules - Current: layer4.1.conv2: : 62it [01:18,  1.52s/it]"
     ]
    },
    {
     "name": "stdout",
     "output_type": "stream",
     "text": [
      "min: -0.04504752904176712, max: 0.05984118953347206\n"
     ]
    },
    {
     "name": "stderr",
     "output_type": "stream",
     "text": [
      "Processing modules - Current: fc: : 65it [01:24,  1.70s/it]            "
     ]
    },
    {
     "name": "stdout",
     "output_type": "stream",
     "text": [
      "min: -0.2655316889286041, max: 0.17170578241348267\n"
     ]
    },
    {
     "name": "stderr",
     "output_type": "stream",
     "text": [
      "Processing modules - Current: fc: : 68it [01:26,  1.28s/it]\n"
     ]
    }
   ],
   "source": [
    "adaround_wrapper = anvil.adaround.AdaRoundModelWrapper(model, images_1)\n",
    "adaround_statistics, quantizized_weights, quantizized_model = adaround_wrapper.apply_adaround_to_layers(reg_param=2, bitwidth=4, per_channel=False, num_iterations=3500, beta_range=(20, 2), optimizer_lr=3e-2, use_quantiles=True, lower_quantile=0.00005, upper_quantile=0.99995)"
   ]
  },
  {
   "cell_type": "code",
   "execution_count": 76,
   "id": "36d9c16e",
   "metadata": {},
   "outputs": [
    {
     "name": "stdout",
     "output_type": "stream",
     "text": [
      "accuracy after quantization: 0.8128\n",
      "f1 score after quantization: 0.8145\n"
     ]
    }
   ],
   "source": [
    "y_true, y_pred = evaluate_model(quantizized_model, test_loader, 'cuda:0')\n",
    "print(f\"accuracy after quantization: {metrics.accuracy_score(y_true, y_pred)}\")\n",
    "print(f\"f1 score after quantization: {metrics.f1_score(y_true, y_pred, average='weighted'):.4f}\")"
   ]
  },
  {
   "cell_type": "code",
   "execution_count": 6,
   "id": "32d67f7f",
   "metadata": {},
   "outputs": [
    {
     "data": {
      "text/plain": [
       "<matplotlib.collections.PathCollection at 0x7fd9de9aa120>"
      ]
     },
     "execution_count": 6,
     "metadata": {},
     "output_type": "execute_result"
    },
    {
     "data": {
      "image/png": "[encoded data removed]",
      "text/plain": [
       "<Figure size 640x480 with 1 Axes>"
      ]
     },
     "metadata": {},
     "output_type": "display_data"
    }
   ],
   "source": [
    "means = []\n",
    "for h_alpha in adaround_statistics['layer4.0.conv1']['h_alphas']:\n",
    "    means.append(h_alpha.to(\"cpu\").mean())\n",
    "plt.scatter([i for i in range(len(means))], means)"
   ]
  },
  {
   "cell_type": "code",
   "execution_count": 7,
   "id": "9015d0d8",
   "metadata": {},
   "outputs": [
    {
     "name": "stdout",
     "output_type": "stream",
     "text": [
      "Unique weights: torch.Size([15])\n",
      "Unique weights: torch.Size([16])\n",
      "Unique weights: torch.Size([15])\n",
      "Unique weights: torch.Size([15])\n",
      "Unique weights: torch.Size([15])\n",
      "Unique weights: torch.Size([16])\n",
      "Unique weights: torch.Size([16])\n",
      "Unique weights: torch.Size([15])\n",
      "Unique weights: torch.Size([15])\n",
      "Unique weights: torch.Size([16])\n",
      "Unique weights: torch.Size([16])\n",
      "Unique weights: torch.Size([16])\n",
      "Unique weights: torch.Size([16])\n",
      "Unique weights: torch.Size([16])\n",
      "Unique weights: torch.Size([16])\n",
      "Unique weights: torch.Size([16])\n",
      "Unique weights: torch.Size([16])\n",
      "Unique weights: torch.Size([15])\n",
      "Unique weights: torch.Size([16])\n",
      "Unique weights: torch.Size([16])\n",
      "Unique weights: torch.Size([16])\n"
     ]
    }
   ],
   "source": [
    "\n",
    "layer41conv2 = None\n",
    "for name, module in quantizized_model.named_modules():\n",
    "    if isinstance(module, (nn.Conv2d, nn.Linear)):\n",
    "        print(f\"Unique weights: {torch.unique(module.weight).shape}\")\n",
    "        if name == \"layer4.1.conv2\":\n",
    "            layer41conv2 = module.weight.detach()\n",
    "\n",
    "baselayer41conv2 = None\n",
    "for name, module in model.named_modules():\n",
    "    if isinstance(module, (nn.Conv2d, nn.Linear)):\n",
    "        if name == \"layer4.1.conv2\":\n",
    "            baselayer41conv2 = module.weight.detach()"
   ]
  },
  {
   "cell_type": "code",
   "execution_count": 8,
   "id": "0b21c53e",
   "metadata": {},
   "outputs": [
    {
     "name": "stdout",
     "output_type": "stream",
     "text": [
      "tensor(0.0101, device='cuda:0')\n",
      "tensor(0.0101, device='cuda:0')\n",
      "tensor(0.0101, device='cuda:0')\n",
      "tensor(0.0101, device='cuda:0')\n",
      "tensor(0.0101, device='cuda:0')\n",
      "tensor(0.0101, device='cuda:0')\n",
      "tensor(0.0101, device='cuda:0')\n",
      "tensor(0.0101, device='cuda:0')\n",
      "tensor(0.0101, device='cuda:0')\n",
      "tensor(0.0101, device='cuda:0')\n",
      "tensor(0.0101, device='cuda:0')\n",
      "tensor(0.0101, device='cuda:0')\n",
      "tensor(0.0101, device='cuda:0')\n",
      "tensor(0.0101, device='cuda:0')\n",
      "tensor(0.0101, device='cuda:0')\n"
     ]
    }
   ],
   "source": [
    "sortedd = torch.unique(layer41conv2).msort()\n",
    "for i, val in enumerate(sortedd):\n",
    "    if i > 0:\n",
    "        print(sortedd[i] - sortedd[i-1])"
   ]
  },
  {
   "cell_type": "code",
   "execution_count": 9,
   "id": "8882b7bc",
   "metadata": {},
   "outputs": [],
   "source": [
    "weights = quantizized_model.layer4[1].conv2.weight"
   ]
  },
  {
   "cell_type": "code",
   "execution_count": 10,
   "id": "3f6f2d93",
   "metadata": {},
   "outputs": [
    {
     "name": "stdout",
     "output_type": "stream",
     "text": [
      "Unique weights: torch.Size([16])\n"
     ]
    }
   ],
   "source": [
    "print(f\"Unique weights: {torch.unique(weights).shape}\")"
   ]
  },
  {
   "cell_type": "code",
   "execution_count": 11,
   "id": "57f66296",
   "metadata": {},
   "outputs": [
    {
     "data": {
      "text/plain": [
       "tensor([-0.0710, -0.0609, -0.0507, -0.0406, -0.0304, -0.0203, -0.0101,  0.0000,\n",
       "         0.0101,  0.0203,  0.0304,  0.0406,  0.0507,  0.0609,  0.0710,  0.0812],\n",
       "       device='cuda:0', grad_fn=<Unique2Backward0>)"
      ]
     },
     "execution_count": 11,
     "metadata": {},
     "output_type": "execute_result"
    }
   ],
   "source": [
    "torch.unique(weights)"
   ]
  },
  {
   "cell_type": "code",
   "execution_count": 12,
   "id": "72f05734",
   "metadata": {},
   "outputs": [
    {
     "data": {
      "text/plain": [
       "tensor([3.4561e+03, 3.4066e+03, 3.1174e+03, 2.7809e+03, 2.4991e+03, 2.2283e+03,\n",
       "        1.9414e+03, 1.6623e+03, 1.4221e+03, 1.1498e+03, 9.0831e+02, 7.0284e+02,\n",
       "        5.3202e+02, 3.4276e+02, 2.3400e+02, 1.1647e+02, 5.9689e+01, 3.1200e+01,\n",
       "        1.4007e+01, 1.2007e+01, 8.0074e+00, 7.4756e-03, 7.4756e-03, 7.4756e-03,\n",
       "        7.4756e-03, 7.4756e-03, 7.4756e-03, 7.4756e-03, 7.4756e-03, 7.4756e-03,\n",
       "        7.4756e-03, 7.4756e-03, 7.4756e-03, 7.4756e-03, 7.4756e-03])"
      ]
     },
     "execution_count": 12,
     "metadata": {},
     "output_type": "execute_result"
    }
   ],
   "source": [
    "torch.cat(adaround_statistics['conv1']['losses'])"
   ]
  },
  {
   "cell_type": "code",
   "execution_count": 13,
   "id": "5dad353f",
   "metadata": {},
   "outputs": [],
   "source": [
    "i = 0"
   ]
  },
  {
   "cell_type": "code",
   "execution_count": 33,
   "id": "edb13c99",
   "metadata": {},
   "outputs": [
    {
     "data": {
      "image/png": "[encoded data removed]",
      "text/plain": [
       "<Figure size 1000x500 with 2 Axes>"
      ]
     },
     "metadata": {},
     "output_type": "display_data"
    },
    {
     "name": "stdout",
     "output_type": "stream",
     "text": [
      "last loss: 4144128.0\n",
      "last nubmer of h_alphas other than 0 or 1: 2072064\n"
     ]
    }
   ],
   "source": [
    "layer_to_plot = list(adaround_statistics.keys())[i]\n",
    "#layer_to_plot = 'layer3.0.conv2'\n",
    "i+=1\n",
    "\n",
    "raveled_h_alphas = []\n",
    "zeros_count_arr = []\n",
    "ones_count_arr = []\n",
    "other_count_arr = []\n",
    "\n",
    "for h_alphas in adaround_statistics[layer_to_plot]['h_alphas']:\n",
    "    raveled = torch.ravel(h_alphas.to(\"cpu\")).numpy()\n",
    "    zeros_count = np.where(raveled == 0)[0].shape[0]\n",
    "    ones_count = np.where(raveled  == 1)[0].shape[0]\n",
    "    other_count = raveled.shape[0] - zeros_count - ones_count\n",
    "\n",
    "    zeros_count_arr.append(zeros_count)\n",
    "    ones_count_arr.append(ones_count)\n",
    "    other_count_arr.append(other_count)\n",
    "\n",
    "fig, axes = plt.subplots(2,1, figsize=(10, 5))\n",
    "axes[0].plot(zeros_count_arr, label='Number of h_alphas < 0.5')\n",
    "axes[0].plot(ones_count_arr, label='Number of h_alphas > 0.5')\n",
    "axes[0].plot(other_count_arr, \"--\", label='Number of h_alphas == 0.5')\n",
    "\n",
    "axes[0].set_title(f\"Quantization of weights over iterations \\n({layer_to_plot})\", fontsize=15)\n",
    "axes[0].legend()\n",
    "\n",
    "losses_cpu = torch.cat(adaround_statistics[layer_to_plot]['losses']).to(\"cpu\")\n",
    "axes[1].plot(losses_cpu)\n",
    "plt.show()\n",
    "print(f\"last loss: {losses_cpu[-1]}\")\n",
    "print(f\"last nubmer of h_alphas other than 0 or 1: {other_count_arr[-1]}\")"
   ]
  },
  {
   "cell_type": "code",
   "execution_count": 34,
   "id": "4cce2a23",
   "metadata": {},
   "outputs": [
    {
     "data": {
      "text/plain": [
       "[tensor([4718592.]),\n",
       " tensor([4635092.]),\n",
       " tensor([4547510.5000]),\n",
       " tensor([4485969.]),\n",
       " tensor([4436031.5000]),\n",
       " tensor([4393219.]),\n",
       " tensor([4354459.]),\n",
       " tensor([4319774.]),\n",
       " tensor([4289786.5000]),\n",
       " tensor([4264469.]),\n",
       " tensor([4243784.5000]),\n",
       " tensor([4226665.]),\n",
       " tensor([4211971.]),\n",
       " tensor([4199259.5000]),\n",
       " tensor([4188021.7500]),\n",
       " tensor([4178388.]),\n",
       " tensor([4170190.]),\n",
       " tensor([4163264.]),\n",
       " tensor([4157626.5000]),\n",
       " tensor([4153064.]),\n",
       " tensor([4149568.5000]),\n",
       " tensor([4147006.5000]),\n",
       " tensor([4145326.2500]),\n",
       " tensor([4144498.2500]),\n",
       " tensor([4144199.7500]),\n",
       " tensor([4144132.]),\n",
       " tensor([4144128.]),\n",
       " tensor([4144128.]),\n",
       " tensor([4144128.]),\n",
       " tensor([4144128.]),\n",
       " tensor([4144128.]),\n",
       " tensor([4144128.]),\n",
       " tensor([4144128.]),\n",
       " tensor([4144128.]),\n",
       " tensor([4144128.])]"
      ]
     },
     "execution_count": 34,
     "metadata": {},
     "output_type": "execute_result"
    }
   ],
   "source": [
    "adaround_statistics[layer_to_plot]['losses']"
   ]
  },
  {
   "cell_type": "code",
   "execution_count": 35,
   "id": "2da2c5b6",
   "metadata": {},
   "outputs": [
    {
     "data": {
      "text/plain": [
       "tensor([-0.0710, -0.0609, -0.0507, -0.0406, -0.0304, -0.0203, -0.0101,  0.0000,\n",
       "         0.0101,  0.0203,  0.0304,  0.0406,  0.0507,  0.0609,  0.0710,  0.0812],\n",
       "       device='cuda:0', grad_fn=<Unique2Backward0>)"
      ]
     },
     "execution_count": 35,
     "metadata": {},
     "output_type": "execute_result"
    }
   ],
   "source": [
    "torch.unique(dict(quantizized_model.named_modules())[layer_to_plot].weight)"
   ]
  },
  {
   "cell_type": "code",
   "execution_count": 36,
   "id": "944bdb42",
   "metadata": {},
   "outputs": [],
   "source": [
    "i = 0"
   ]
  },
  {
   "cell_type": "code",
   "execution_count": 49,
   "id": "208a07bc",
   "metadata": {},
   "outputs": [
    {
     "data": {
      "image/png": "[encoded data removed]",
      "text/plain": [
       "<Figure size 640x480 with 2 Axes>"
      ]
     },
     "metadata": {},
     "output_type": "display_data"
    },
    {
     "name": "stdout",
     "output_type": "stream",
     "text": [
      "Unique weights before 32762\n",
      "Variance of weights before: 0.001620332128368318\n",
      "Unique weights after 16\n",
      "Unique h_alphas at the end: tensor([0., 1.], device='cuda:0')\n",
      "Number of h_alphas 1/2: 0\n"
     ]
    }
   ],
   "source": [
    "layer_to_plot = list(adaround_statistics.keys())[i]\n",
    "i+=1\n",
    "module_to_plot_before = dict(model.named_modules())[layer_to_plot]\n",
    "_weights_before = torch.ravel(module_to_plot_before.weight.to(\"cpu\").detach())\n",
    "\n",
    "module_to_plot_after = dict(quantizized_model.named_modules())[layer_to_plot]\n",
    "_weights_after = torch.ravel(module_to_plot_after.weight.to(\"cpu\").detach())\n",
    "\n",
    "fig, axes = plt.subplots(2,1)\n",
    "axes[0].hist(_weights_before, bins=500)\n",
    "axes[1].hist(_weights_after, bins=500, width=0.01)\n",
    "axes[1].set_xlim(axes[0].get_xlim())\n",
    "\n",
    "axes[0].set_title(\"Distribution of weights before quantization\")\n",
    "axes[1].set_title(\"Distribution of weights after quantization\")\n",
    "fig.suptitle(f\"Layer {layer_to_plot}\")\n",
    "plt.tight_layout()\n",
    "plt.show()\n",
    "\n",
    "\n",
    "print(\"Unique weights before\", torch.unique(_weights_before).shape[0])\n",
    "print(f\"Variance of weights before: {torch.var(_weights_before)}\")\n",
    "print(\"Unique weights after\", torch.unique(_weights_after).shape[0])\n",
    "print(f\"Unique h_alphas at the end: {torch.unique(adaround_statistics[layer_to_plot]['h_alphas'][-1])}\")\n",
    "end_h_alphas = torch.ravel(adaround_statistics[layer_to_plot]['h_alphas'][-1]).cpu().numpy()\n",
    "print(f\"Number of h_alphas 1/2: {end_h_alphas.shape[0] - np.where(end_h_alphas < 1/2)[0].shape[0] - np.where(end_h_alphas > 1/2)[0].shape[0]}\")"
   ]
  },
  {
   "cell_type": "code",
   "execution_count": 50,
   "id": "e33b6b84",
   "metadata": {},
   "outputs": [
    {
     "data": {
      "text/plain": [
       "array([   28,   166,  1293,  6132, 16522,  6557,  1671,   344,    44,\n",
       "          11])"
      ]
     },
     "execution_count": 50,
     "metadata": {},
     "output_type": "execute_result"
    }
   ],
   "source": [
    "np.histogram(dict(model.named_modules())[layer_to_plot].cpu().weight.detach(), bins=10)[0]"
   ]
  },
  {
   "cell_type": "code",
   "execution_count": 51,
   "id": "6514c3b3",
   "metadata": {},
   "outputs": [
    {
     "data": {
      "text/plain": [
       "(array([   20,    36,  1039,  2700, 20185,  5632,  2846,   229,    74,\n",
       "            7]),\n",
       " array([-0.20305309, -0.15954171, -0.11603034, -0.07251896, -0.02900758,\n",
       "         0.01450379,  0.05801517,  0.10152654,  0.14503792,  0.1885493 ,\n",
       "         0.23206067], dtype=float32))"
      ]
     },
     "execution_count": 51,
     "metadata": {},
     "output_type": "execute_result"
    }
   ],
   "source": [
    "np.histogram(dict(quantizized_model.named_modules())[layer_to_plot].cpu().weight.detach(), bins=10)"
   ]
  },
  {
   "cell_type": "code",
   "execution_count": 53,
   "id": "e3b6a74a",
   "metadata": {},
   "outputs": [
    {
     "data": {
      "text/plain": [
       "tensor(-0.1035, grad_fn=<SqueezeBackward4>)"
      ]
     },
     "execution_count": 53,
     "metadata": {},
     "output_type": "execute_result"
    }
   ],
   "source": [
    "torch.quantile(torch.ravel(dict(model.named_modules())[layer_to_plot].weight),0.01)"
   ]
  },
  {
   "cell_type": "code",
   "execution_count": null,
   "id": "10ac8a2b",
   "metadata": {},
   "outputs": [],
   "source": [
    "Processing modules - Current: layer4.0.conv2: : 53it [00:35,  1.63it/s]\n",
    "min: -0.0001544490660307929, max: 7.715923129580915e-05"
   ]
  },
  {
   "cell_type": "code",
   "execution_count": 54,
   "id": "3c4df4a1",
   "metadata": {},
   "outputs": [
    {
     "data": {
      "text/plain": [
       "(array([   2,    0,    2,    3,    1,    6,    4,    3,    5,    2,    1,\n",
       "           1,   13,   13,   18,   15,   21,   24,   22,   38,   53,   53,\n",
       "          77,   78,  102,  114,  152,  186,  222,  256,  299,  345,  391,\n",
       "         441,  583,  645,  702,  825,  869, 1032, 1101, 1262, 1423, 1684,\n",
       "        1962, 2264, 2310, 1809, 1460, 1247, 1051,  986,  856,  782,  707,\n",
       "         568,  474,  397,  395,  341,  306,  237,  235,  178,  187,  154,\n",
       "         125,   93,   85,   71,   78,   50,   44,   33,   41,   34,   16,\n",
       "          16,   18,   14,   11,   10,    7,    9,    1,    1,    1,    1,\n",
       "           2,    1,    5,    0,    0,    0,    1,    1,    2,    1,    0,\n",
       "           1]),\n",
       " array([-0.20087695, -0.19652581, -0.19217467, -0.18782353, -0.1834724 ,\n",
       "        -0.17912127, -0.17477013, -0.170419  , -0.16606785, -0.16171671,\n",
       "        -0.15736558, -0.15301444, -0.1486633 , -0.14431216, -0.13996103,\n",
       "        -0.1356099 , -0.13125876, -0.12690762, -0.12255648, -0.11820534,\n",
       "        -0.1138542 , -0.10950307, -0.10515193, -0.10080079, -0.09644965,\n",
       "        -0.09209852, -0.08774738, -0.08339624, -0.0790451 , -0.07469396,\n",
       "        -0.07034283, -0.06599169, -0.06164055, -0.05728942, -0.05293828,\n",
       "        -0.04858714, -0.044236  , -0.03988487, -0.03553373, -0.03118259,\n",
       "        -0.02683145, -0.02248032, -0.01812918, -0.01377804, -0.0094269 ,\n",
       "        -0.00507577, -0.00072463,  0.00362651,  0.00797765,  0.01232878,\n",
       "         0.01667992,  0.02103106,  0.02538219,  0.02973333,  0.03408447,\n",
       "         0.03843561,  0.04278674,  0.04713788,  0.05148902,  0.05584016,\n",
       "         0.0601913 ,  0.06454244,  0.06889357,  0.07324471,  0.07759584,\n",
       "         0.08194698,  0.08629812,  0.09064925,  0.09500039,  0.09935153,\n",
       "         0.10370267,  0.1080538 ,  0.11240494,  0.11675608,  0.12110722,\n",
       "         0.12545836,  0.1298095 ,  0.13416064,  0.13851176,  0.1428629 ,\n",
       "         0.14721404,  0.15156518,  0.15591632,  0.16026746,  0.1646186 ,\n",
       "         0.16896974,  0.17332087,  0.177672  ,  0.18202314,  0.18637428,\n",
       "         0.19072542,  0.19507656,  0.1994277 ,  0.20377883,  0.20812997,\n",
       "         0.21248111,  0.21683224,  0.22118337,  0.22553451,  0.22988565,\n",
       "         0.23423679], dtype=float32))"
      ]
     },
     "execution_count": 54,
     "metadata": {},
     "output_type": "execute_result"
    }
   ],
   "source": [
    "np.histogram(_weights_before, bins=100)"
   ]
  },
  {
   "cell_type": "code",
   "execution_count": 55,
   "id": "1f79eb03",
   "metadata": {},
   "outputs": [],
   "source": [
    "def evaluate_model(model, dataloader, device):\n",
    "    model = model.to(device)\n",
    "    model.eval()\n",
    "    \n",
    "    all_preds = []\n",
    "    all_labels = []\n",
    "    \n",
    "    with torch.no_grad():\n",
    "        for images, labels in dataloader:\n",
    "            images = images.to(device)\n",
    "            labels = labels.to(device)\n",
    "            outputs = model(images)\n",
    "            _, predicted = torch.max(outputs, 1)\n",
    "            \n",
    "            all_preds.append(predicted.cpu())\n",
    "            all_labels.append(labels.cpu())\n",
    "    \n",
    "    all_preds = torch.cat(all_preds)\n",
    "    all_labels = torch.cat(all_labels)\n",
    "    \n",
    "    return all_labels, all_preds"
   ]
  },
  {
   "cell_type": "code",
   "execution_count": 56,
   "id": "ca3e4928",
   "metadata": {},
   "outputs": [],
   "source": [
    "from sklearn import metrics"
   ]
  },
  {
   "cell_type": "code",
   "execution_count": 57,
   "id": "ae8b3fad",
   "metadata": {},
   "outputs": [
    {
     "name": "stdout",
     "output_type": "stream",
     "text": [
      "accuracy before quantization: 0.8258\n",
      "f1 score before quantization: 0.8268\n"
     ]
    }
   ],
   "source": [
    "y_true, y_pred = evaluate_model(model, test_loader, 'cuda:0')\n",
    "print(f\"accuracy before quantization: {metrics.accuracy_score(y_true, y_pred)}\")\n",
    "print(f\"f1 score before quantization: {metrics.f1_score(y_true, y_pred, average='weighted'):.4f}\")"
   ]
  },
  {
   "cell_type": "code",
   "execution_count": 58,
   "id": "a3160ce3",
   "metadata": {},
   "outputs": [
    {
     "name": "stdout",
     "output_type": "stream",
     "text": [
      "accuracy after quantization: 0.8105\n",
      "f1 score after quantization: 0.8122\n"
     ]
    }
   ],
   "source": [
    "y_true, y_pred = evaluate_model(quantizized_model, test_loader, 'cuda:0')\n",
    "print(f\"accuracy after quantization: {metrics.accuracy_score(y_true, y_pred)}\")\n",
    "print(f\"f1 score after quantization: {metrics.f1_score(y_true, y_pred, average='weighted'):.4f}\")"
   ]
  },
  {
   "cell_type": "markdown",
   "id": "73e19cc9",
   "metadata": {},
   "source": [
    "**one channel quantization, 2 bits, 1 calibration sample(RANDOM)** <br>\n",
    "acc : 0.2918"
   ]
  },
  {
   "cell_type": "markdown",
   "id": "67798464",
   "metadata": {},
   "source": [
    "# Grid search"
   ]
  },
  {
   "cell_type": "code",
   "execution_count": null,
   "id": "ac587ac8",
   "metadata": {},
   "outputs": [],
   "source": [
    "lr : [0.05, 0.01, 0.005, 0.001]\n",
    "reg_param: [0.1, 0.07, 0.05, 0.01, 0.005]\n",
    "num_iteration: [500, 1000, 2000, 3000, 4000]\n",
    "beta_range: [(10, 2), (20, 2), (40,2), (20,1), (20,0.5)]"
   ]
  },
  {
   "cell_type": "code",
   "execution_count": 100,
   "id": "0978b341",
   "metadata": {},
   "outputs": [],
   "source": [
    "params = {\n",
    "    'bitwidth' : 8,\n",
    "    'reg_param' : 0.05,\n",
    "    'num_iterations' : 2000,\n",
    "    'per_channel' : False,\n",
    "    'beta_range' : (20, 2),\n",
    "    'optimizer_lr' : 0.005\n",
    "\n",
    "}"
   ]
  },
  {
   "cell_type": "code",
   "execution_count": 94,
   "id": "79d9115e",
   "metadata": {},
   "outputs": [
    {
     "name": "stdout",
     "output_type": "stream",
     "text": [
      "Quantizizing conv and lin\n",
      " params:  8 0.05 False 2000 (20, 2) 0.001\n"
     ]
    },
    {
     "name": "stderr",
     "output_type": "stream",
     "text": [
      "Processing modules - Current: fc: : 68it [00:44,  1.52it/s]                   \n"
     ]
    }
   ],
   "source": [
    "adaround_wrapper = anvil.adaround.AdaRoundModelWrapper(model, images_1)\n",
    "adaround_statistics, quantizized_weights, quantizized_model = adaround_wrapper.apply_adaround_to_layers(**params)"
   ]
  },
  {
   "cell_type": "code",
   "execution_count": 95,
   "id": "700ed8c8",
   "metadata": {},
   "outputs": [],
   "source": [
    "y_true, y_pred = evaluate_model(quantizized_model, test_loader, 'cuda:0')\n",
    "\n",
    "parameter_search[int(np.max(list(parameter_search.keys())) + 1)] = {\n",
    "    'params' : params,\n",
    "    'accuracry' : metrics.accuracy_score(y_true, y_pred),\n",
    "    'f1_Score' : metrics.f1_score(y_true, y_pred, average='macro'),\n",
    "    'y_pred' : y_pred,\n",
    "    'y_true' : y_true\n",
    "}"
   ]
  },
  {
   "cell_type": "code",
   "execution_count": 96,
   "id": "dfeb2b25",
   "metadata": {},
   "outputs": [
    {
     "data": {
      "text/plain": [
       "{0: {'params': {'bitwidth': 8,\n",
       "   'reg_param': 0.01,\n",
       "   'num_iterations': 1000,\n",
       "   'per_channel': False,\n",
       "   'beta_range': (20, 2),\n",
       "   'optimizer_lr': 0.01},\n",
       "  'accuracry': 0.8224,\n",
       "  'f1_Score': 0.8235657650517343,\n",
       "  'y_pred': tensor([3, 8, 1,  ..., 5, 1, 7]),\n",
       "  'y_true': tensor([3, 8, 8,  ..., 5, 1, 7])},\n",
       " 1: {'params': {'bitwidth': 8,\n",
       "   'reg_param': 0.05,\n",
       "   'num_iterations': 1000,\n",
       "   'per_channel': False,\n",
       "   'beta_range': (20, 2),\n",
       "   'optimizer_lr': 0.01},\n",
       "  'accuracry': 0.8235,\n",
       "  'f1_Score': 0.8245692559755922,\n",
       "  'y_pred': tensor([3, 8, 1,  ..., 5, 1, 7]),\n",
       "  'y_true': tensor([3, 8, 8,  ..., 5, 1, 7])},\n",
       " 2: {'params': {'bitwidth': 8,\n",
       "   'reg_param': 0.1,\n",
       "   'num_iterations': 1000,\n",
       "   'per_channel': False,\n",
       "   'beta_range': (20, 2),\n",
       "   'optimizer_lr': 0.01},\n",
       "  'accuracry': 0.8231,\n",
       "  'f1_Score': 0.8242453575956576,\n",
       "  'y_pred': tensor([3, 8, 1,  ..., 5, 1, 7]),\n",
       "  'y_true': tensor([3, 8, 8,  ..., 5, 1, 7])},\n",
       " 3: {'params': {'bitwidth': 8,\n",
       "   'reg_param': 0.05,\n",
       "   'num_iterations': 500,\n",
       "   'per_channel': False,\n",
       "   'beta_range': (20, 2),\n",
       "   'optimizer_lr': 0.01},\n",
       "  'accuracry': 0.8161,\n",
       "  'f1_Score': 0.8177455350289875,\n",
       "  'y_pred': tensor([3, 8, 1,  ..., 5, 1, 7]),\n",
       "  'y_true': tensor([3, 8, 8,  ..., 5, 1, 7])},\n",
       " 4: {'params': {'bitwidth': 8,\n",
       "   'reg_param': 0.05,\n",
       "   'num_iterations': 2000,\n",
       "   'per_channel': False,\n",
       "   'beta_range': (20, 2),\n",
       "   'optimizer_lr': 0.01},\n",
       "  'accuracry': 0.8261,\n",
       "  'f1_Score': 0.8268758821077784,\n",
       "  'y_pred': tensor([3, 8, 1,  ..., 5, 1, 7]),\n",
       "  'y_true': tensor([3, 8, 8,  ..., 5, 1, 7])},\n",
       " 5: {'params': {'bitwidth': 8,\n",
       "   'reg_param': 0.05,\n",
       "   'num_iterations': 3000,\n",
       "   'per_channel': False,\n",
       "   'beta_range': (20, 2),\n",
       "   'optimizer_lr': 0.01},\n",
       "  'accuracry': 0.8226,\n",
       "  'f1_Score': 0.8237948408029908,\n",
       "  'y_pred': tensor([3, 8, 1,  ..., 5, 1, 7]),\n",
       "  'y_true': tensor([3, 8, 8,  ..., 5, 1, 7])},\n",
       " 6: {'params': {'bitwidth': 8,\n",
       "   'reg_param': 0.05,\n",
       "   'num_iterations': 2000,\n",
       "   'per_channel': False,\n",
       "   'beta_range': (40, 2),\n",
       "   'optimizer_lr': 0.01},\n",
       "  'accuracry': 0.8247,\n",
       "  'f1_Score': 0.8258483349186646,\n",
       "  'y_pred': tensor([3, 8, 1,  ..., 5, 1, 7]),\n",
       "  'y_true': tensor([3, 8, 8,  ..., 5, 1, 7])},\n",
       " 7: {'params': {'bitwidth': 8,\n",
       "   'reg_param': 0.05,\n",
       "   'num_iterations': 2000,\n",
       "   'per_channel': False,\n",
       "   'beta_range': (15, 2),\n",
       "   'optimizer_lr': 0.01},\n",
       "  'accuracry': 0.8247,\n",
       "  'f1_Score': 0.8258475934706553,\n",
       "  'y_pred': tensor([3, 8, 1,  ..., 5, 1, 7]),\n",
       "  'y_true': tensor([3, 8, 8,  ..., 5, 1, 7])},\n",
       " 8: {'params': {'bitwidth': 8,\n",
       "   'reg_param': 0.05,\n",
       "   'num_iterations': 2000,\n",
       "   'per_channel': False,\n",
       "   'beta_range': (20, 1.5),\n",
       "   'optimizer_lr': 0.01},\n",
       "  'accuracry': 0.8248,\n",
       "  'f1_Score': 0.8257956205944732,\n",
       "  'y_pred': tensor([3, 8, 1,  ..., 5, 1, 7]),\n",
       "  'y_true': tensor([3, 8, 8,  ..., 5, 1, 7])},\n",
       " 9: {'params': {'bitwidth': 8,\n",
       "   'reg_param': 0.05,\n",
       "   'num_iterations': 2000,\n",
       "   'per_channel': False,\n",
       "   'beta_range': (20, 2),\n",
       "   'optimizer_lr': 0.005},\n",
       "  'accuracry': 0.8268,\n",
       "  'f1_Score': 0.8278333562724249,\n",
       "  'y_pred': tensor([3, 8, 1,  ..., 5, 1, 7]),\n",
       "  'y_true': tensor([3, 8, 8,  ..., 5, 1, 7])},\n",
       " 10: {'params': {'bitwidth': 8,\n",
       "   'reg_param': 0.05,\n",
       "   'num_iterations': 2000,\n",
       "   'per_channel': False,\n",
       "   'beta_range': (20, 2),\n",
       "   'optimizer_lr': 0.001},\n",
       "  'accuracry': 0.8014,\n",
       "  'f1_Score': 0.803053152260297,\n",
       "  'y_pred': tensor([3, 8, 8,  ..., 5, 1, 7]),\n",
       "  'y_true': tensor([3, 8, 8,  ..., 5, 1, 7])}}"
      ]
     },
     "execution_count": 96,
     "metadata": {},
     "output_type": "execute_result"
    }
   ],
   "source": [
    "parameter_search"
   ]
  },
  {
   "cell_type": "markdown",
   "id": "954a742e",
   "metadata": {},
   "source": [
    "# Mean acc"
   ]
  },
  {
   "cell_type": "code",
   "execution_count": 127,
   "id": "3adb4b01",
   "metadata": {},
   "outputs": [
    {
     "name": "stdout",
     "output_type": "stream",
     "text": [
      "Quantizizing conv and lin\n",
      " params:  8 0.05 False 2000 (20, 2) 0.005\n"
     ]
    },
    {
     "name": "stderr",
     "output_type": "stream",
     "text": [
      "Processing modules - Current: fc: : 68it [01:09,  1.02s/it]                   \n"
     ]
    },
    {
     "name": "stdout",
     "output_type": "stream",
     "text": [
      "Quantizizing conv and lin\n",
      " params:  8 0.05 False 2000 (20, 2) 0.005\n"
     ]
    },
    {
     "name": "stderr",
     "output_type": "stream",
     "text": [
      "Processing modules - Current: fc: : 68it [01:09,  1.02s/it]                   \n"
     ]
    },
    {
     "name": "stdout",
     "output_type": "stream",
     "text": [
      "Quantizizing conv and lin\n",
      " params:  8 0.05 False 2000 (20, 2) 0.005\n"
     ]
    },
    {
     "name": "stderr",
     "output_type": "stream",
     "text": [
      "Processing modules - Current: fc: : 68it [01:09,  1.02s/it]                   \n"
     ]
    },
    {
     "name": "stdout",
     "output_type": "stream",
     "text": [
      "Quantizizing conv and lin\n",
      " params:  8 0.05 False 2000 (20, 2) 0.005\n"
     ]
    },
    {
     "name": "stderr",
     "output_type": "stream",
     "text": [
      "Processing modules - Current: fc: : 68it [01:09,  1.02s/it]                   \n"
     ]
    },
    {
     "name": "stdout",
     "output_type": "stream",
     "text": [
      "Quantizizing conv and lin\n",
      " params:  8 0.05 False 2000 (20, 2) 0.005\n"
     ]
    },
    {
     "name": "stderr",
     "output_type": "stream",
     "text": [
      "Processing modules - Current: fc: : 68it [01:09,  1.02s/it]                   \n"
     ]
    }
   ],
   "source": [
    "accuracies = []\n",
    "for i in range(5):\n",
    "    indices = torch.randperm(images.size(0))[:100]\n",
    "    sample_images = torch.cat(images_list, dim=0)[indices]\n",
    "    \n",
    "    adaround_wrapper = anvil.adaround.AdaRoundModelWrapper(model, sample_images)\n",
    "    adaround_statistics, quantizized_weights, quantizized_model = adaround_wrapper.apply_adaround_to_layers(**params)\n",
    "\n",
    "    y_true, y_pred = evaluate_model(quantizized_model, test_loader, 'cuda:0')\n",
    "    accuracies.append(metrics.accuracy_score(y_true, y_pred))"
   ]
  },
  {
   "cell_type": "code",
   "execution_count": 139,
   "id": "74cac695",
   "metadata": {},
   "outputs": [
    {
     "name": "stdout",
     "output_type": "stream",
     "text": [
      "accuracy before quantization: 0.8258\n",
      "f1 score before quantization: 0.8268\n"
     ]
    }
   ],
   "source": [
    "y_true, y_pred = evaluate_model(model, test_loader, 'cuda:0')\n",
    "print(f\"accuracy before quantization: {metrics.accuracy_score(y_true, y_pred)}\")\n",
    "print(f\"f1 score before quantization: {metrics.f1_score(y_true, y_pred, average='weighted'):.4f}\")"
   ]
  },
  {
   "cell_type": "code",
   "execution_count": 138,
   "id": "0e62534d",
   "metadata": {},
   "outputs": [
    {
     "name": "stdout",
     "output_type": "stream",
     "text": [
      "Adaround: 0.82568 +- 0.0009\n"
     ]
    }
   ],
   "source": [
    "print(f\"Adaround: {np.mean(accuracies)} +- {np.std(accuracies):.4f}\")"
   ]
  }
 ],
 "metadata": {
  "kernelspec": {
   "display_name": "anvil",
   "language": "python",
   "name": "anvil"
  },
  "language_info": {
   "codemirror_mode": {
    "name": "ipython",
    "version": 3
   },
   "file_extension": ".py",
   "mimetype": "text/x-python",
   "name": "python",
   "nbconvert_exporter": "python",
   "pygments_lexer": "ipython3",
   "version": "3.13.3"
  }
 },
 "nbformat": 4,
 "nbformat_minor": 5
}
