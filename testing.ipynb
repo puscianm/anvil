{
 "cells": [
  {
   "cell_type": "code",
   "execution_count": 1,
   "id": "65fbf50f",
   "metadata": {},
   "outputs": [],
   "source": [
    "%load_ext autoreload\n",
    "%autoreload 2\n",
    "import anvil\n",
    "import anvil.adaround\n",
    "\n",
    "import torch\n",
    "import torch.nn as nn\n",
    "from torchvision.models import resnet18\n",
    "from torchvision import datasets, transforms\n",
    "from torch.utils.data import DataLoader, random_split\n",
    "import torch.nn.functional as F\n",
    "import copy\n",
    "import torch.optim as optim\n",
    "import os, pathlib\n",
    "\n",
    "import matplotlib.pyplot as plt\n",
    "\n",
    "base_path = pathlib.Path(\"/home/mpuscian/Desktop/repozytoria/MINI_projects/anvil/models/\")\n",
    "model_path = base_path.joinpath(\"cifar_model2.pth\")\n",
    "adaround_model_path = base_path.joinpath(\"adaround_model.pth\")\n",
    "\n",
    "\n",
    "device = torch.device('cuda' if torch.cuda.is_available() else 'cpu')\n",
    "\n",
    "model = resnet18(weights=None)\n",
    "model.conv1 = nn.Conv2d(3, 64, kernel_size=3, stride=1, padding=1, bias=False)\n",
    "model.maxpool = nn.Identity()\n",
    "model.fc = nn.Linear(512, 10)\n",
    "\n",
    "sample_input = torch.randn(1, 3, 32, 32)"
   ]
  },
  {
   "cell_type": "code",
   "execution_count": 2,
   "id": "471e5abd",
   "metadata": {},
   "outputs": [
    {
     "name": "stdout",
     "output_type": "stream",
     "text": [
      "Quantizing conv1\n"
     ]
    }
   ],
   "source": [
    "adaround_model = copy.deepcopy(model)\n",
    "adaround_model.load_state_dict(torch.load(model_path, map_location=device))\n",
    "\n",
    "conv_layers = []\n",
    "for name, module in adaround_model.named_modules():\n",
    "    if isinstance(module, nn.Conv2d):\n",
    "        conv_layers.append(module)\n",
    "\n",
    "quantizized_model = anvil.adaround.AdaRoundModelWrapper(adaround_model, sample_input)\n",
    "h_alphas = quantizized_model.apply_adaround_to_conv_layers(reg_param=20, bitwidth=4)"
   ]
  },
  {
   "cell_type": "code",
   "execution_count": 3,
   "id": "32d67f7f",
   "metadata": {},
   "outputs": [
    {
     "data": {
      "text/plain": [
       "<matplotlib.collections.PathCollection at 0x7f1b181546e0>"
      ]
     },
     "execution_count": 3,
     "metadata": {},
     "output_type": "execute_result"
    },
    {
     "data": {
      "image/png": "[encoded data removed]",
      "text/plain": [
       "<Figure size 640x480 with 1 Axes>"
      ]
     },
     "metadata": {},
     "output_type": "display_data"
    }
   ],
   "source": [
    "means = []\n",
    "for h_alpha in h_alphas[0]:\n",
    "    means.append(h_alpha.mean())\n",
    "plt.scatter([i for i in range(len(means))], means)"
   ]
  },
  {
   "cell_type": "code",
   "execution_count": 4,
   "id": "8882b7bc",
   "metadata": {},
   "outputs": [],
   "source": [
    "conv1_weights = list(adaround_model.named_modules())[1][1].weight"
   ]
  },
  {
   "cell_type": "code",
   "execution_count": 5,
   "id": "14943ea4",
   "metadata": {},
   "outputs": [
    {
     "data": {
      "text/plain": [
       "torch.Size([64, 3, 3, 3])"
      ]
     },
     "execution_count": 5,
     "metadata": {},
     "output_type": "execute_result"
    }
   ],
   "source": [
    "conv1_weights.shape"
   ]
  },
  {
   "cell_type": "code",
   "execution_count": null,
   "id": "3f6f2d93",
   "metadata": {},
   "outputs": [
    {
     "name": "stdout",
     "output_type": "stream",
     "text": [
      "Unique weights: torch.Size([1728])\n"
     ]
    }
   ],
   "source": [
    "print(f\"Unique weights: {torch.unique(conv1_weights).shape}\")"
   ]
  }
 ],
 "metadata": {
  "kernelspec": {
   "display_name": "anvil",
   "language": "python",
   "name": "anvil"
  },
  "language_info": {
   "codemirror_mode": {
    "name": "ipython",
    "version": 3
   },
   "file_extension": ".py",
   "mimetype": "text/x-python",
   "name": "python",
   "nbconvert_exporter": "python",
   "pygments_lexer": "ipython3",
   "version": "3.13.3"
  }
 },
 "nbformat": 4,
 "nbformat_minor": 5
}
