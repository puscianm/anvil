{
 "cells": [
  {
   "cell_type": "code",
   "execution_count": 1,
   "id": "65fbf50f",
   "metadata": {},
   "outputs": [],
   "source": [
    "%load_ext autoreload\n",
    "%autoreload 2\n",
    "import anvil\n",
    "import anvil.adaround\n",
    "import scienceplots\n",
    "\n",
    "import torch\n",
    "import torch.nn as nn\n",
    "from torchvision.models import resnet18\n",
    "from torchvision import datasets, transforms\n",
    "from torch.utils.data import DataLoader, random_split\n",
    "import torch.nn.functional as F\n",
    "import copy\n",
    "import torch.optim as optim\n",
    "import os, pathlib\n",
    "\n",
    "import matplotlib.pyplot as plt\n",
    "import numpy as np\n",
    "from sklearn import metrics\n",
    "\n",
    "def evaluate_model(model, dataloader, device):\n",
    "    model = model.to(device)\n",
    "    model.eval()\n",
    "    \n",
    "    all_preds = []\n",
    "    all_labels = []\n",
    "    \n",
    "    with torch.no_grad():\n",
    "        for images, labels in dataloader:\n",
    "            images = images.to(device)\n",
    "            labels = labels.to(device)\n",
    "            outputs = model(images)\n",
    "            _, predicted = torch.max(outputs, 1)\n",
    "            \n",
    "            all_preds.append(predicted.cpu())\n",
    "            all_labels.append(labels.cpu())\n",
    "    \n",
    "    all_preds = torch.cat(all_preds)\n",
    "    all_labels = torch.cat(all_labels)\n",
    "    \n",
    "    return all_labels, all_preds\n",
    "\n",
    "base_path = pathlib.Path(\"/home/mpuscian/Desktop/repozytoria/MINI_projects/anvil/models/\")\n",
    "model_path = base_path.joinpath(\"cifar_model.pth\")\n",
    "adaround_model_path = base_path.joinpath(\"adaround_model.pth\")\n",
    "\n",
    "\n",
    "device = torch.device('cuda' if torch.cuda.is_available() else 'cpu')\n",
    "\n",
    "model = resnet18(weights=None)\n",
    "model.conv1 = nn.Conv2d(3, 64, kernel_size=3, stride=1, padding=1, bias=False)\n",
    "model.maxpool = nn.Identity()\n",
    "model.fc = nn.Linear(512, 10)\n",
    "model.load_state_dict(torch.load(model_path, map_location=device))\n",
    "model = model.to(device)\n",
    "\n",
    "sample_input = torch.randn(1, 3, 32, 32)"
   ]
  },
  {
   "cell_type": "markdown",
   "id": "3e029e79",
   "metadata": {},
   "source": [
    "# Loading datasets"
   ]
  },
  {
   "cell_type": "code",
   "execution_count": 2,
   "id": "a6166447",
   "metadata": {},
   "outputs": [],
   "source": [
    "\n",
    "transform_train = transforms.Compose([\n",
    "    transforms.RandomHorizontalFlip(),\n",
    "    transforms.RandomCrop(32, padding=4),\n",
    "    transforms.ToTensor(),\n",
    "])\n",
    "\n",
    "transform_test = transforms.Compose([\n",
    "    transforms.ToTensor(),\n",
    "])\n",
    "\n",
    "full_train_dataset = datasets.CIFAR10(root=base_path.joinpath('data'), train=True, download=True, transform=transform_train)\n",
    "test_dataset = datasets.CIFAR10(root=base_path.joinpath('data'), train=False, download=True, transform=transform_test)\n",
    "\n",
    "train_size = int(0.9 * len(full_train_dataset))  # 45,000\n",
    "val_size = len(full_train_dataset) - train_size  # 5,000\n",
    "train_dataset, val_dataset = random_split(full_train_dataset, [train_size, val_size])\n",
    "\n",
    "# 4. DataLoaders\n",
    "train_loader = DataLoader(train_dataset, batch_size=128, shuffle=True, num_workers=6)\n",
    "val_dataset.dataset.transform = transform_test\n",
    "val_loader = DataLoader(val_dataset, batch_size=128, shuffle=False, num_workers=6)\n",
    "test_loader = DataLoader(test_dataset, batch_size=128, shuffle=False, num_workers=6)"
   ]
  },
  {
   "cell_type": "code",
   "execution_count": null,
   "id": "77dd3b4e",
   "metadata": {},
   "outputs": [],
   "source": [
    "images_list = []\n",
    "for batch in val_loader:\n",
    "    images = batch[0] if isinstance(batch, (list, tuple)) else batch  # handles (images, labels) or just images\n",
    "    images_list.append(images)\n",
    "    total = sum(img.shape[0] for img in images_list)\n",
    "    if total >= 1000:\n",
    "        break\n",
    "indices = torch.randperm(torch.cat(images_list).size(0))[:50]\n",
    "images_1 = torch.cat(images_list, dim=0)[indices].to(device)"
   ]
  },
  {
   "cell_type": "code",
   "execution_count": null,
   "id": "471e5abd",
   "metadata": {},
   "outputs": [
    {
     "name": "stdout",
     "output_type": "stream",
     "text": [
      "Quantizizing conv and lin\n",
      " params:  8 0.1 False 10000 (20, 1.001) 0.03\n"
     ]
    },
    {
     "name": "stderr",
     "output_type": "stream",
     "text": [
      "Processing modules - Current: layer3.0.conv2: : 37it [36:50, 42.68s/it]       "
     ]
    },
    {
     "name": "stdout",
     "output_type": "stream",
     "text": [
      "min: -0.14089614152908325, max: 0.15545931458473206\n"
     ]
    },
    {
     "name": "stderr",
     "output_type": "stream",
     "text": [
      "Processing modules - Current: layer3.1.conv1: : 43it [39:13, 32.78s/it]       "
     ]
    },
    {
     "name": "stdout",
     "output_type": "stream",
     "text": [
      "min: -0.1286221146583557, max: 0.1489182412624359\n"
     ]
    },
    {
     "name": "stderr",
     "output_type": "stream",
     "text": [
      "Processing modules - Current: layer3.1.conv2: : 46it [41:21, 35.66s/it]"
     ]
    },
    {
     "name": "stdout",
     "output_type": "stream",
     "text": [
      "min: -0.13827180862426758, max: 0.15598133206367493\n"
     ]
    },
    {
     "name": "stderr",
     "output_type": "stream",
     "text": [
      "Processing modules - Current: layer4.0.conv1: : 49it [43:02, 35.01s/it]"
     ]
    },
    {
     "name": "stdout",
     "output_type": "stream",
     "text": [
      "min: -0.1281656175851822, max: 0.15851208567619324\n"
     ]
    },
    {
     "name": "stderr",
     "output_type": "stream",
     "text": [
      "Processing modules - Current: layer4.0.conv2: : 53it [44:13, 28.87s/it]"
     ]
    },
    {
     "name": "stdout",
     "output_type": "stream",
     "text": [
      "min: -0.07539741694927216, max: 0.09782928973436356\n"
     ]
    },
    {
     "name": "stderr",
     "output_type": "stream",
     "text": [
      "Processing modules - Current: layer4.0.downsample.0: : 56it [45:48, 29.64s/it]"
     ]
    },
    {
     "name": "stdout",
     "output_type": "stream",
     "text": [
      "min: -0.0952305868268013, max: 0.13375096023082733\n"
     ]
    },
    {
     "name": "stderr",
     "output_type": "stream",
     "text": [
      "Processing modules - Current: layer4.1.conv1: : 59it [46:18, 24.07s/it]       "
     ]
    },
    {
     "name": "stdout",
     "output_type": "stream",
     "text": [
      "min: -0.06707023084163666, max: 0.10919804126024246\n"
     ]
    },
    {
     "name": "stderr",
     "output_type": "stream",
     "text": [
      "Processing modules - Current: layer4.1.conv2: : 62it [48:06, 27.49s/it]"
     ]
    },
    {
     "name": "stdout",
     "output_type": "stream",
     "text": [
      "min: -0.05308790132403374, max: 0.06885520368814468\n"
     ]
    },
    {
     "name": "stderr",
     "output_type": "stream",
     "text": [
      "Processing modules - Current: fc: : 68it [49:47, 43.94s/it]            \n"
     ]
    }
   ],
   "source": [
    "adaround_statistics, quantizized_weights, quantizized_model = adaround_wrapper.apply_adaround_to_layers(reg_param=100000, bitwidth=8, per_channel=False, num_iterations=3500, beta_range=(20, 1.1), optimizer_lr=3e-2, use_quantiles=True, lower_quantile=1e-5, upper_quantile=1-1e-5)"
   ]
  },
  {
   "cell_type": "code",
   "execution_count": 5,
   "id": "36d9c16e",
   "metadata": {},
   "outputs": [
    {
     "name": "stdout",
     "output_type": "stream",
     "text": [
      "accuracy after quantization: 0.8254\n",
      "f1 score after quantization: 0.8265\n"
     ]
    }
   ],
   "source": [
    "y_true, y_pred = evaluate_model(quantizized_model, test_loader, 'cuda:0')\n",
    "print(f\"accuracy after quantization: {metrics.accuracy_score(y_true, y_pred)}\")\n",
    "print(f\"f1 score after quantization: {metrics.f1_score(y_true, y_pred, average='weighted'):.4f}\")"
   ]
  },
  {
   "cell_type": "code",
   "execution_count": 6,
   "id": "32d67f7f",
   "metadata": {},
   "outputs": [
    {
     "data": {
      "text/plain": [
       "<matplotlib.collections.PathCollection at 0x7f9b2f5b5400>"
      ]
     },
     "execution_count": 6,
     "metadata": {},
     "output_type": "execute_result"
    },
    {
     "data": {
      "image/png": "[encoded data removed]",
      "text/plain": [
       "<Figure size 640x480 with 1 Axes>"
      ]
     },
     "metadata": {},
     "output_type": "display_data"
    }
   ],
   "source": [
    "means = []\n",
    "for h_alpha in adaround_statistics['layer4.0.conv2']['h_alphas']:\n",
    "    means.append(h_alpha.to(\"cpu\").mean())\n",
    "plt.scatter([i for i in range(len(means))], means)"
   ]
  },
  {
   "cell_type": "code",
   "execution_count": 7,
   "id": "9015d0d8",
   "metadata": {},
   "outputs": [
    {
     "name": "stdout",
     "output_type": "stream",
     "text": [
      "Unique weights: torch.Size([234])\n",
      "Unique weights: torch.Size([205])\n",
      "Unique weights: torch.Size([225])\n",
      "Unique weights: torch.Size([207])\n",
      "Unique weights: torch.Size([210])\n",
      "Unique weights: torch.Size([213])\n",
      "Unique weights: torch.Size([213])\n",
      "Unique weights: torch.Size([206])\n",
      "Unique weights: torch.Size([232])\n",
      "Unique weights: torch.Size([238])\n",
      "Unique weights: torch.Size([231])\n",
      "Unique weights: torch.Size([249])\n",
      "Unique weights: torch.Size([219])\n",
      "Unique weights: torch.Size([250])\n",
      "Unique weights: torch.Size([234])\n",
      "Unique weights: torch.Size([247])\n",
      "Unique weights: torch.Size([251])\n",
      "Unique weights: torch.Size([242])\n",
      "Unique weights: torch.Size([253])\n",
      "Unique weights: torch.Size([256])\n",
      "Unique weights: torch.Size([210])\n"
     ]
    }
   ],
   "source": [
    "\n",
    "layer41conv2 = None\n",
    "for name, module in quantizized_model.named_modules():\n",
    "    if isinstance(module, (nn.Conv2d, nn.Linear)):\n",
    "        print(f\"Unique weights: {torch.unique(module.weight).shape}\")\n",
    "        if name == \"layer4.1.conv2\":\n",
    "            layer41conv2 = module.weight.detach()\n",
    "\n",
    "baselayer41conv2 = None\n",
    "for name, module in model.named_modules():\n",
    "    if isinstance(module, (nn.Conv2d, nn.Linear)):\n",
    "        if name == \"layer4.1.conv2\":\n",
    "            baselayer41conv2 = module.weight.detach()"
   ]
  },
  {
   "cell_type": "code",
   "execution_count": 10,
   "id": "0b21c53e",
   "metadata": {},
   "outputs": [],
   "source": [
    "sortedd = torch.unique(layer41conv2).msort()\n",
    "distances_between_quantizized_weights = []\n",
    "for i, val in enumerate(sortedd):\n",
    "    if i > 0:\n",
    "        distances_between_quantizized_weights.append((sortedd[i] - sortedd[i-1]).unsqueeze(0))"
   ]
  },
  {
   "cell_type": "code",
   "execution_count": 11,
   "id": "4633ab41",
   "metadata": {},
   "outputs": [
    {
     "name": "stdout",
     "output_type": "stream",
     "text": [
      "After unique: tensor([0.0005, 0.0005, 0.0005, 0.0005, 0.0005, 0.0005, 0.0005, 0.0005, 0.0005],\n",
      "       device='cuda:0')\n"
     ]
    }
   ],
   "source": [
    "distances_merged = torch.cat(distances_between_quantizized_weights)\n",
    "unique_dists = torch.unique(distances_merged)\n",
    "print(\"After unique:\", unique_dists)"
   ]
  },
  {
   "cell_type": "code",
   "execution_count": 210,
   "id": "547104f8",
   "metadata": {},
   "outputs": [
    {
     "name": "stdout",
     "output_type": "stream",
     "text": [
      "After unique: tensor([0.], device='cuda:0')\n"
     ]
    }
   ],
   "source": [
    "distances_merged = torch.cat(distances_between_quantizized_weights)\n",
    "rounded = torch.round(distances_merged * 1e5) / 1e5\n",
    "unique_dists = torch.unique(rounded)\n",
    "print(\"After unique:\", unique_dists)"
   ]
  },
  {
   "cell_type": "code",
   "execution_count": 12,
   "id": "cc483451",
   "metadata": {},
   "outputs": [
    {
     "data": {
      "text/plain": [
       "False"
      ]
     },
     "execution_count": 12,
     "metadata": {},
     "output_type": "execute_result"
    }
   ],
   "source": [
    "torch.equal(unique_dists[0], unique_dists[1])"
   ]
  },
  {
   "cell_type": "code",
   "execution_count": 10,
   "id": "8882b7bc",
   "metadata": {},
   "outputs": [],
   "source": [
    "weights = quantizized_model.layer4[1].conv2.weight"
   ]
  },
  {
   "cell_type": "code",
   "execution_count": 11,
   "id": "3f6f2d93",
   "metadata": {},
   "outputs": [
    {
     "name": "stdout",
     "output_type": "stream",
     "text": [
      "Unique weights: torch.Size([227])\n"
     ]
    }
   ],
   "source": [
    "print(f\"Unique weights: {torch.unique(weights).shape}\")"
   ]
  },
  {
   "cell_type": "code",
   "execution_count": 12,
   "id": "57f66296",
   "metadata": {},
   "outputs": [
    {
     "data": {
      "text/plain": [
       "tensor([-0.0680, -0.0633, -0.0627, -0.0597, -0.0591, -0.0579, -0.0573, -0.0567,\n",
       "        -0.0561, -0.0549, -0.0543, -0.0537, -0.0531, -0.0525, -0.0519, -0.0513,\n",
       "        -0.0507, -0.0501, -0.0495, -0.0489, -0.0483, -0.0478, -0.0472, -0.0466,\n",
       "        -0.0460, -0.0454, -0.0448, -0.0442, -0.0436, -0.0430, -0.0424, -0.0418,\n",
       "        -0.0412, -0.0406, -0.0400, -0.0394, -0.0388, -0.0382, -0.0376, -0.0370,\n",
       "        -0.0364, -0.0358, -0.0352, -0.0346, -0.0340, -0.0334, -0.0328, -0.0322,\n",
       "        -0.0316, -0.0310, -0.0304, -0.0298, -0.0292, -0.0287, -0.0281, -0.0275,\n",
       "        -0.0269, -0.0263, -0.0257, -0.0251, -0.0245, -0.0239, -0.0233, -0.0227,\n",
       "        -0.0221, -0.0215, -0.0209, -0.0203, -0.0197, -0.0191, -0.0185, -0.0179,\n",
       "        -0.0173, -0.0167, -0.0161, -0.0155, -0.0149, -0.0143, -0.0137, -0.0131,\n",
       "        -0.0125, -0.0119, -0.0113, -0.0107, -0.0101, -0.0096, -0.0090, -0.0084,\n",
       "        -0.0078, -0.0072, -0.0066, -0.0060, -0.0054, -0.0048, -0.0042, -0.0036,\n",
       "        -0.0030, -0.0024, -0.0018, -0.0012, -0.0006,  0.0000,  0.0006,  0.0012,\n",
       "         0.0018,  0.0024,  0.0030,  0.0036,  0.0042,  0.0048,  0.0054,  0.0060,\n",
       "         0.0066,  0.0072,  0.0078,  0.0084,  0.0090,  0.0096,  0.0101,  0.0107,\n",
       "         0.0113,  0.0119,  0.0125,  0.0131,  0.0137,  0.0143,  0.0149,  0.0155,\n",
       "         0.0161,  0.0167,  0.0173,  0.0179,  0.0185,  0.0191,  0.0197,  0.0203,\n",
       "         0.0209,  0.0215,  0.0221,  0.0227,  0.0233,  0.0239,  0.0245,  0.0251,\n",
       "         0.0257,  0.0263,  0.0269,  0.0275,  0.0281,  0.0287,  0.0292,  0.0298,\n",
       "         0.0304,  0.0310,  0.0316,  0.0322,  0.0328,  0.0334,  0.0340,  0.0346,\n",
       "         0.0352,  0.0358,  0.0364,  0.0370,  0.0376,  0.0382,  0.0388,  0.0394,\n",
       "         0.0400,  0.0406,  0.0412,  0.0418,  0.0424,  0.0430,  0.0436,  0.0442,\n",
       "         0.0448,  0.0454,  0.0460,  0.0466,  0.0472,  0.0478,  0.0483,  0.0489,\n",
       "         0.0495,  0.0501,  0.0507,  0.0513,  0.0519,  0.0525,  0.0531,  0.0537,\n",
       "         0.0543,  0.0549,  0.0555,  0.0561,  0.0567,  0.0573,  0.0579,  0.0585,\n",
       "         0.0591,  0.0597,  0.0603,  0.0609,  0.0615,  0.0621,  0.0627,  0.0633,\n",
       "         0.0639,  0.0645,  0.0651,  0.0657,  0.0663,  0.0674,  0.0680,  0.0686,\n",
       "         0.0692,  0.0698,  0.0704,  0.0716,  0.0722,  0.0728,  0.0746,  0.0758,\n",
       "         0.0776,  0.0806,  0.0842], device='cuda:0',\n",
       "       grad_fn=<Unique2Backward0>)"
      ]
     },
     "execution_count": 12,
     "metadata": {},
     "output_type": "execute_result"
    }
   ],
   "source": [
    "torch.unique(weights)"
   ]
  },
  {
   "cell_type": "code",
   "execution_count": 8,
   "id": "72f05734",
   "metadata": {},
   "outputs": [
    {
     "data": {
      "text/plain": [
       "tensor([1.7280e+02, 1.7120e+02, 1.5990e+02, 1.5421e+02, 1.4789e+02, 1.4133e+02,\n",
       "        1.3582e+02, 1.2919e+02, 1.2332e+02, 1.1716e+02, 1.0984e+02, 1.0268e+02,\n",
       "        9.2441e+01, 8.5699e+01, 7.9356e+01, 7.1353e+01, 6.5451e+01, 5.7835e+01,\n",
       "        5.0220e+01, 4.4286e+01, 3.8756e+01, 3.2609e+01, 2.7788e+01, 2.1478e+01,\n",
       "        1.5140e+01, 1.2541e+01, 8.6882e+00, 5.9830e+00, 4.8999e+00, 2.8218e+00,\n",
       "        2.1000e+00, 2.0000e+00, 1.0000e+00, 7.9396e-01, 1.0001e-01, 1.0001e-01,\n",
       "        1.0001e-01, 1.0001e-01, 1.0001e-01, 1.0001e-01, 1.0001e-01, 1.0001e-01,\n",
       "        1.0001e-01, 1.0001e-01, 1.0001e-01, 1.0001e-01, 1.0001e-01, 1.0001e-01,\n",
       "        1.0001e-01, 1.0001e-01, 1.0001e-01, 1.0001e-01, 1.0001e-01, 1.0001e-01,\n",
       "        1.0001e-01, 1.0001e-01, 1.0001e-01, 1.0001e-01, 1.0001e-01, 1.0001e-01,\n",
       "        1.0001e-01, 1.0001e-01, 1.0001e-01, 1.2318e-05, 1.2318e-05, 1.2318e-05,\n",
       "        1.2318e-05, 1.2318e-05, 1.2318e-05, 1.2318e-05, 1.2318e-05, 1.2318e-05,\n",
       "        1.2318e-05, 1.2318e-05, 1.2318e-05, 1.2318e-05, 1.2318e-05, 1.2318e-05,\n",
       "        1.2318e-05, 1.2318e-05, 1.2318e-05, 1.2318e-05, 1.2318e-05, 1.2318e-05,\n",
       "        1.2318e-05, 1.2318e-05, 1.2318e-05, 1.2318e-05, 1.2318e-05, 1.2318e-05,\n",
       "        1.2318e-05, 1.2318e-05, 1.2318e-05, 1.2318e-05, 1.2318e-05, 1.2318e-05,\n",
       "        1.2318e-05, 1.2318e-05, 1.2318e-05, 1.2318e-05])"
      ]
     },
     "execution_count": 8,
     "metadata": {},
     "output_type": "execute_result"
    }
   ],
   "source": [
    "torch.cat(adaround_statistics['conv1']['losses'])"
   ]
  },
  {
   "cell_type": "code",
   "execution_count": 9,
   "id": "5dad353f",
   "metadata": {},
   "outputs": [],
   "source": [
    "i = 0"
   ]
  },
  {
   "cell_type": "code",
   "execution_count": 23,
   "id": "edb13c99",
   "metadata": {},
   "outputs": [
    {
     "data": {
      "image/png": "[encoded data removed]",
      "text/plain": [
       "<Figure size 1200x600 with 4 Axes>"
      ]
     },
     "metadata": {},
     "output_type": "display_data"
    }
   ],
   "source": [
    "layer_to_plot = list(adaround_statistics.keys())[i]\n",
    "#layer_to_plot = 'layer3.0.conv2'\n",
    "i+=1\n",
    "\n",
    "raveled_h_alphas = []\n",
    "zeros_count_arr = []\n",
    "ones_count_arr = []\n",
    "other_count_arr = []\n",
    "\n",
    "for h_alphas in adaround_statistics[layer_to_plot]['h_alphas']:\n",
    "    raveled = torch.ravel(h_alphas.to(\"cpu\")).numpy()\n",
    "    zeros_count = np.where(raveled < 1e-5)[0].shape[0]\n",
    "    ones_count = np.where(raveled  > 1-1e-5)[0].shape[0]\n",
    "    other_count = raveled.shape[0] - zeros_count - ones_count\n",
    "\n",
    "    zeros_count_arr.append(zeros_count)\n",
    "    ones_count_arr.append(ones_count)\n",
    "    other_count_arr.append(other_count)\n",
    "\n",
    "with plt.style.context('science'):\n",
    "    fig = plt.figure(figsize=(12, 6))\n",
    "    gs = fig.add_gridspec(2, 2, width_ratios=[3, 1])\n",
    "\n",
    "    ax0 = fig.add_subplot(gs[0, 0])\n",
    "    ax1 = fig.add_subplot(gs[1, 0], sharex=ax0)\n",
    "    ax2 = fig.add_subplot(gs[0, 1])\n",
    "    ax3 = fig.add_subplot(gs[1, 1])\n",
    "\n",
    "    ax0.plot(zeros_count_arr, label='Number of h_alphas $<$ 1e-5')\n",
    "    ax0.plot(ones_count_arr, label='Number of h_alphas $>$ 1-1e-5')\n",
    "    ax0.plot(other_count_arr, \"--\", label='Number of other h_alphas')\n",
    "\n",
    "    ax0.set_title(f\"h_alphas optimization over iterations\")\n",
    "    ax0.legend()\n",
    "    ax0.set_xlim(left=0)\n",
    "\n",
    "    ax1.set_title(f\"Loss convergence over iterations\")\n",
    "\n",
    "    losses_cpu = torch.cat(adaround_statistics[layer_to_plot]['losses']).to(\"cpu\")\n",
    "    ax1.plot(losses_cpu)\n",
    "\n",
    "    ax2.hist(raveled)\n",
    "    ax2.set_title(\"Final h_alphas histogram\")\n",
    "\n",
    "    ax3.text(-0.1, 0.4, f\"Weights not quantizied: {other_count_arr[-1]:g}\\n \\nFinal loss: {losses_cpu[-1]:g}\", fontsize=12, fontweight='bold')\n",
    "    ax3.axis('off')\n",
    "\n",
    "    fig.suptitle(f\"Summary of layer '{layer_to_plot}' quantization\", fontsize=20)\n",
    "    plt.tight_layout()\n",
    "    plt.savefig('/home/mpuscian/Desktop/repozytoria/MINI_projects/anvil/currlayer_summary.pdf')"
   ]
  },
  {
   "cell_type": "code",
   "execution_count": 12,
   "id": "e15792db",
   "metadata": {},
   "outputs": [
    {
     "data": {
      "text/plain": [
       "tensor([1.7280e-06])"
      ]
     },
     "execution_count": 12,
     "metadata": {},
     "output_type": "execute_result"
    }
   ],
   "source": [
    "adaround_statistics[layer_to_plot]['losses'][0] - adaround_statistics[layer_to_plot]['losses_data'][0]"
   ]
  },
  {
   "cell_type": "code",
   "execution_count": 634,
   "id": "13afd112",
   "metadata": {},
   "outputs": [
    {
     "data": {
      "image/png": "[encoded data removed]",
      "text/plain": [
       "<Figure size 800x400 with 1 Axes>"
      ]
     },
     "metadata": {},
     "output_type": "display_data"
    }
   ],
   "source": [
    "layer_to_plot_cdf = 'layer4.0.conv2'\n",
    "weights = dict(model.named_modules())[layer_to_plot_cdf].weight\n",
    "h_alphas = adaround_statistics[layer_to_plot_cdf]['h_alphas'][-1]\n",
    "\n",
    "weights_halphas05 = weights[h_alphas == 0.5]\n",
    "weights_halphasnot05 = weights[h_alphas != 0.5]\n",
    "\n",
    "import scienceplots\n",
    "\n",
    "def ecdf(data):\n",
    "    x = np.sort(data)\n",
    "    y = np.arange(1, len(x)+1) / len(x)\n",
    "    return x, y\n",
    "\n",
    "data_05 = weights_halphas05.detach().cpu().numpy()  # Low variance\n",
    "data_not05 = weights_halphasnot05.detach().cpu().numpy()  # High variance\n",
    "x_05, y_05 = ecdf(data_05)\n",
    "x_not05, y_not05 = ecdf(data_not05)\n",
    "\n",
    "with plt.style.context('science'):\n",
    "    plt.figure(figsize=(8, 4))\n",
    "    plt.plot(x_05, y_05, label=\"weights where h_alpha stays at 1/2\")\n",
    "    plt.plot(x_not05, y_not05, label=\"weights where h_alpha optimizes correctly\")\n",
    "    plt.ylabel(\"Cumulative Probability\")\n",
    "    plt.legend()\n",
    "    plt.title(f\"Empirical CDF: layer '{layer_to_plot_cdf}'\")\n",
    "\n",
    "    plt.ylim(0,1)\n",
    "    plt.savefig('/home/mpuscian/Desktop/repozytoria/MINI_projects/anvil/currlayer_cdf.pdf')\n",
    "    #plt.savefig('/home/mpuscian/Desktop/repozytoria/MINI_projects/anvil/img/layer41conv2_CDF.pdf')"
   ]
  },
  {
   "cell_type": "code",
   "execution_count": 605,
   "id": "944bdb42",
   "metadata": {},
   "outputs": [],
   "source": [
    "i = 0"
   ]
  },
  {
   "cell_type": "code",
   "execution_count": 622,
   "id": "208a07bc",
   "metadata": {},
   "outputs": [
    {
     "name": "stdout",
     "output_type": "stream",
     "text": [
      "Unique weights before 2355588\n",
      "Variance of weights before: 2.0892679458484054e-05\n",
      "Unique weights after 252\n",
      "Unique h_alphas at the end: tensor([0.0000, 0.5000, 1.0000], device='cuda:0')\n",
      "Number of h_alphas 1/2: 1581568\n"
     ]
    },
    {
     "data": {
      "image/png": "[encoded data removed]",
      "text/plain": [
       "<Figure size 800x500 with 2 Axes>"
      ]
     },
     "metadata": {},
     "output_type": "display_data"
    }
   ],
   "source": [
    "layer_to_plot = list(adaround_statistics.keys())[i]\n",
    "i+=1\n",
    "module_to_plot_before = dict(model.named_modules())[layer_to_plot]\n",
    "_weights_before = torch.ravel(module_to_plot_before.weight.to(\"cpu\").detach())\n",
    "\n",
    "module_to_plot_after = dict(quantizized_model.named_modules())[layer_to_plot]\n",
    "_weights_after = torch.ravel(module_to_plot_after.weight.to(\"cpu\").detach())\n",
    "\n",
    "with plt.style.context('science'):\n",
    "    fig, axes = plt.subplots(2,1, figsize = (8, 5))\n",
    "    axes[0].hist(_weights_before, bins=200)\n",
    "    axes[1].hist(_weights_after, bins=200)\n",
    "    axes[1].set_xlim(axes[0].get_xlim())\n",
    "\n",
    "    axes[0].set_title(\"Before\")\n",
    "    axes[1].set_title(\"After\")\n",
    "    fig.suptitle(f\"Distribution of weights before and after quantization\\n layer '{layer_to_plot}'\", fontsize = 20)\n",
    "    plt.tight_layout()\n",
    "    plt.savefig('/home/mpuscian/Desktop/repozytoria/MINI_projects/anvil/curr_layer_weights_comparison.pdf')\n",
    "\n",
    "\n",
    "print(\"Unique weights before\", torch.unique(_weights_before).shape[0])\n",
    "print(f\"Variance of weights before: {torch.var(_weights_before)}\")\n",
    "print(\"Unique weights after\", torch.unique(_weights_after).shape[0])\n",
    "print(f\"Unique h_alphas at the end: {torch.unique(adaround_statistics[layer_to_plot]['h_alphas'][-1])}\")\n",
    "end_h_alphas = torch.ravel(adaround_statistics[layer_to_plot]['h_alphas'][-1]).cpu().numpy()\n",
    "print(f\"Number of h_alphas 1/2: {end_h_alphas.shape[0] - np.where(end_h_alphas < 1/2)[0].shape[0] - np.where(end_h_alphas > 1/2)[0].shape[0]}\")"
   ]
  },
  {
   "cell_type": "code",
   "execution_count": 72,
   "id": "59ad0c1e",
   "metadata": {},
   "outputs": [
    {
     "data": {
      "text/plain": [
       "tensor([-0.2075, -0.1858, -0.1843, -0.1827, -0.1796, -0.1750, -0.1734, -0.1672,\n",
       "        -0.1626, -0.1610, -0.1595, -0.1579, -0.1548, -0.1471, -0.1440, -0.1425,\n",
       "        -0.1409, -0.1394, -0.1378, -0.1363, -0.1347, -0.1332, -0.1316, -0.1301,\n",
       "        -0.1285, -0.1270, -0.1254, -0.1239, -0.1223, -0.1208, -0.1192, -0.1177,\n",
       "        -0.1161, -0.1146, -0.1130, -0.1115, -0.1099, -0.1084, -0.1068, -0.1053,\n",
       "        -0.1037, -0.1022, -0.1007, -0.0991, -0.0976, -0.0960, -0.0945, -0.0929,\n",
       "        -0.0914, -0.0898, -0.0883, -0.0867, -0.0852, -0.0836, -0.0821, -0.0805,\n",
       "        -0.0790, -0.0774, -0.0759, -0.0743, -0.0728, -0.0712, -0.0697, -0.0681,\n",
       "        -0.0666, -0.0650, -0.0635, -0.0619, -0.0604, -0.0588, -0.0573, -0.0557,\n",
       "        -0.0542, -0.0526, -0.0511, -0.0496, -0.0480, -0.0465, -0.0449, -0.0434,\n",
       "        -0.0418, -0.0403, -0.0387, -0.0372, -0.0356, -0.0341, -0.0325, -0.0310,\n",
       "        -0.0294, -0.0279, -0.0263, -0.0248, -0.0232, -0.0217, -0.0201, -0.0186,\n",
       "        -0.0170, -0.0155, -0.0139, -0.0124, -0.0108, -0.0093, -0.0077, -0.0062,\n",
       "        -0.0046, -0.0031, -0.0015,  0.0000,  0.0015,  0.0031,  0.0046,  0.0062,\n",
       "         0.0077,  0.0093,  0.0108,  0.0124,  0.0139,  0.0155,  0.0170,  0.0186,\n",
       "         0.0201,  0.0217,  0.0232,  0.0248,  0.0263,  0.0279,  0.0294,  0.0310,\n",
       "         0.0325,  0.0341,  0.0356,  0.0372,  0.0387,  0.0403,  0.0418,  0.0434,\n",
       "         0.0449,  0.0465,  0.0480,  0.0496,  0.0511,  0.0526,  0.0542,  0.0557,\n",
       "         0.0573,  0.0588,  0.0604,  0.0619,  0.0635,  0.0650,  0.0666,  0.0681,\n",
       "         0.0697,  0.0712,  0.0728,  0.0743,  0.0759,  0.0774,  0.0790,  0.0805,\n",
       "         0.0821,  0.0836,  0.0852,  0.0867,  0.0883,  0.0898,  0.0914,  0.0929,\n",
       "         0.0945,  0.0960,  0.0976,  0.0991,  0.1007,  0.1022,  0.1037,  0.1053,\n",
       "         0.1068,  0.1084,  0.1099,  0.1115,  0.1130,  0.1146,  0.1161,  0.1177,\n",
       "         0.1192,  0.1208,  0.1223,  0.1239,  0.1254,  0.1270,  0.1285,  0.1301,\n",
       "         0.1316,  0.1332,  0.1363,  0.1378,  0.1394,  0.1409,  0.1425,  0.1456,\n",
       "         0.1471,  0.1487,  0.1502,  0.1518,  0.1533,  0.1548,  0.1564,  0.1579,\n",
       "         0.1626,  0.1657,  0.1672,  0.1734,  0.1796,  0.1858])"
      ]
     },
     "execution_count": 72,
     "metadata": {},
     "output_type": "execute_result"
    }
   ],
   "source": [
    "torch.unique(_weights_after.msort())"
   ]
  },
  {
   "cell_type": "code",
   "execution_count": 111,
   "id": "e33b6b84",
   "metadata": {},
   "outputs": [
    {
     "data": {
      "text/plain": [
       "(array([1.000e+00, 1.000e+00, 0.000e+00, 0.000e+00, 0.000e+00, 3.000e+00,\n",
       "        1.000e+00, 0.000e+00, 0.000e+00, 0.000e+00, 0.000e+00, 1.000e+00,\n",
       "        1.000e+00, 1.000e+00, 0.000e+00, 2.000e+00, 1.000e+00, 2.000e+00,\n",
       "        2.000e+00, 3.000e+00, 0.000e+00, 3.000e+00, 2.000e+00, 2.000e+00,\n",
       "        1.000e+00, 5.000e+00, 2.000e+00, 3.000e+00, 3.000e+00, 9.000e+00,\n",
       "        7.000e+00, 3.000e+00, 5.000e+00, 1.500e+01, 9.000e+00, 8.000e+00,\n",
       "        9.000e+00, 7.000e+00, 1.200e+01, 9.000e+00, 2.000e+01, 2.200e+01,\n",
       "        1.600e+01, 1.300e+01, 4.700e+01, 2.000e+01, 2.300e+01, 2.700e+01,\n",
       "        6.200e+01, 3.600e+01, 4.600e+01, 8.800e+01, 6.000e+01, 6.000e+01,\n",
       "        5.200e+01, 1.080e+02, 7.900e+01, 8.400e+01, 8.000e+01, 1.600e+02,\n",
       "        9.300e+01, 8.300e+01, 2.060e+02, 1.160e+02, 1.170e+02, 1.260e+02,\n",
       "        3.140e+02, 1.710e+02, 1.780e+02, 1.910e+02, 3.970e+02, 2.110e+02,\n",
       "        2.180e+02, 2.200e+02, 4.890e+02, 2.670e+02, 2.520e+02, 6.010e+02,\n",
       "        2.930e+02, 3.080e+02, 3.510e+02, 8.140e+02, 4.360e+02, 4.180e+02,\n",
       "        4.360e+02, 8.510e+02, 4.300e+02, 4.340e+02, 9.970e+02, 4.940e+02,\n",
       "        4.900e+02, 4.970e+02, 1.098e+03, 5.450e+02, 5.420e+02, 5.470e+02,\n",
       "        1.093e+03, 5.820e+02, 5.430e+02, 1.112e+03, 5.770e+02, 5.380e+02,\n",
       "        5.510e+02, 1.105e+03, 5.660e+02, 5.280e+02, 5.070e+02, 1.050e+03,\n",
       "        5.030e+02, 4.960e+02, 4.880e+02, 8.920e+02, 4.490e+02, 4.300e+02,\n",
       "        8.680e+02, 4.000e+02, 3.960e+02, 3.970e+02, 6.940e+02, 3.240e+02,\n",
       "        3.670e+02, 3.310e+02, 5.990e+02, 3.150e+02, 2.610e+02, 5.080e+02,\n",
       "        2.500e+02, 2.280e+02, 2.060e+02, 3.710e+02, 1.800e+02, 1.650e+02,\n",
       "        1.770e+02, 2.770e+02, 1.480e+02, 1.440e+02, 1.350e+02, 2.350e+02,\n",
       "        9.900e+01, 9.800e+01, 1.570e+02, 7.200e+01, 7.800e+01, 5.800e+01,\n",
       "        1.230e+02, 5.900e+01, 4.400e+01, 5.700e+01, 8.500e+01, 3.200e+01,\n",
       "        2.800e+01, 6.700e+01, 2.900e+01, 2.400e+01, 2.300e+01, 4.000e+01,\n",
       "        2.500e+01, 1.800e+01, 1.600e+01, 2.600e+01, 1.300e+01, 9.000e+00,\n",
       "        1.800e+01, 1.700e+01, 4.000e+00, 5.000e+00, 1.600e+01, 1.200e+01,\n",
       "        1.000e+01, 3.000e+00, 8.000e+00, 2.000e+00, 4.000e+00, 4.000e+00,\n",
       "        1.000e+00, 2.000e+00, 4.000e+00, 5.000e+00, 2.000e+00, 1.000e+00,\n",
       "        1.000e+00, 4.000e+00, 0.000e+00, 0.000e+00, 1.000e+00, 1.000e+00,\n",
       "        1.000e+00, 1.000e+00, 0.000e+00, 1.000e+00, 0.000e+00, 0.000e+00,\n",
       "        1.000e+00, 0.000e+00, 0.000e+00, 0.000e+00, 0.000e+00, 1.000e+00,\n",
       "        0.000e+00, 1.000e+00]),\n",
       " array([-0.19214441, -0.19025275, -0.18836109, -0.18646945, -0.18457779,\n",
       "        -0.18268614, -0.18079448, -0.17890283, -0.17701118, -0.17511952,\n",
       "        -0.17322786, -0.17133622, -0.16944456, -0.1675529 , -0.16566125,\n",
       "        -0.16376959, -0.16187795, -0.15998629, -0.15809463, -0.15620297,\n",
       "        -0.15431133, -0.15241967, -0.15052801, -0.14863636, -0.14674471,\n",
       "        -0.14485306, -0.1429614 , -0.14106974, -0.13917808, -0.13728644,\n",
       "        -0.13539478, -0.13350312, -0.13161147, -0.12971982, -0.12782817,\n",
       "        -0.12593651, -0.12404486, -0.1221532 , -0.12026154, -0.11836989,\n",
       "        -0.11647823, -0.11458658, -0.11269493, -0.11080328, -0.10891162,\n",
       "        -0.10701997, -0.10512831, -0.10323666, -0.101345  , -0.09945335,\n",
       "        -0.09756169, -0.09567004, -0.09377839, -0.09188673, -0.08999508,\n",
       "        -0.08810342, -0.08621177, -0.08432011, -0.08242846, -0.08053681,\n",
       "        -0.07864515, -0.0767535 , -0.07486185, -0.07297019, -0.07107853,\n",
       "        -0.06918688, -0.06729522, -0.06540357, -0.06351192, -0.06162026,\n",
       "        -0.05972861, -0.05783695, -0.0559453 , -0.05405365, -0.05216199,\n",
       "        -0.05027034, -0.04837868, -0.04648703, -0.04459538, -0.04270372,\n",
       "        -0.04081207, -0.03892041, -0.03702876, -0.0351371 , -0.03324545,\n",
       "        -0.03135379, -0.02946214, -0.02757049, -0.02567883, -0.02378718,\n",
       "        -0.02189552, -0.02000387, -0.01811221, -0.01622056, -0.01432891,\n",
       "        -0.01243725, -0.0105456 , -0.00865394, -0.00676229, -0.00487063,\n",
       "        -0.00297898, -0.00108733,  0.00080433,  0.00269598,  0.00458764,\n",
       "         0.00647929,  0.00837095,  0.0102626 ,  0.01215425,  0.01404591,\n",
       "         0.01593756,  0.01782922,  0.01972087,  0.02161252,  0.02350418,\n",
       "         0.02539583,  0.02728749,  0.02917914,  0.0310708 ,  0.03296245,\n",
       "         0.03485411,  0.03674576,  0.03863741,  0.04052907,  0.04242072,\n",
       "         0.04431238,  0.04620403,  0.04809568,  0.04998734,  0.05187899,\n",
       "         0.05377065,  0.0556623 ,  0.05755396,  0.05944561,  0.06133727,\n",
       "         0.06322892,  0.06512057,  0.06701223,  0.06890389,  0.07079554,\n",
       "         0.07268719,  0.07457884,  0.0764705 ,  0.07836215,  0.08025381,\n",
       "         0.08214546,  0.08403712,  0.08592877,  0.08782043,  0.08971208,\n",
       "         0.09160373,  0.09349539,  0.09538704,  0.0972787 ,  0.09917035,\n",
       "         0.10106201,  0.10295366,  0.10484532,  0.10673697,  0.10862862,\n",
       "         0.11052027,  0.11241193,  0.11430358,  0.11619524,  0.1180869 ,\n",
       "         0.11997855,  0.1218702 ,  0.12376186,  0.12565351,  0.12754516,\n",
       "         0.12943682,  0.13132848,  0.13322012,  0.13511178,  0.13700344,\n",
       "         0.13889509,  0.14078675,  0.14267839,  0.14457005,  0.14646171,\n",
       "         0.14835337,  0.15024501,  0.15213667,  0.15402833,  0.15591998,\n",
       "         0.15781163,  0.15970328,  0.16159494,  0.1634866 ,  0.16537826,\n",
       "         0.1672699 ,  0.16916156,  0.17105322,  0.17294487,  0.17483652,\n",
       "         0.17672817,  0.17861983,  0.18051149,  0.18240313,  0.18429479,\n",
       "         0.18618645]),\n",
       " <BarContainer object of 200 artists>)"
      ]
     },
     "execution_count": 111,
     "metadata": {},
     "output_type": "execute_result"
    },
    {
     "data": {
      "image/png": "[encoded data removed]",
      "text/plain": [
       "<Figure size 640x480 with 1 Axes>"
      ]
     },
     "metadata": {},
     "output_type": "display_data"
    }
   ],
   "source": [
    "plt.hist(_weights_after, bins = 200)"
   ]
  },
  {
   "cell_type": "code",
   "execution_count": 113,
   "id": "6514c3b3",
   "metadata": {},
   "outputs": [
    {
     "data": {
      "text/plain": [
       "(array([   2,    0,    3,    1,    0,    1,    2,    2,    3,    5,    3,\n",
       "           4,    6,    5,   12,   10,   20,   17,   16,   21,   42,   29,\n",
       "          67,   50,   98,  134,  120,  160,  163,  240,  176,  322,  243,\n",
       "         485,  369,  608,  438,  756,  853,  601, 1165,  854, 1287,  864,\n",
       "        1491,  987, 1643, 1089, 1675, 1655, 1115, 1656, 1094, 1557,  999,\n",
       "        1380,  879, 1268,  793, 1018,  698,  914,  769,  478,  577,  345,\n",
       "         454,  292,  370,  197,  229,  136,  182,  101,  117,   95,   53,\n",
       "          63,   43,   42,   22,   35,    9,   28,   13,   10,    8,    3,\n",
       "           9,    3,    5,    0,    2,    2,    1,    0,    1,    0,    1,\n",
       "           1]),\n",
       " array([-0.19214441, -0.1883611 , -0.1845778 , -0.18079448, -0.17701118,\n",
       "        -0.17322786, -0.16944456, -0.16566125, -0.16187795, -0.15809463,\n",
       "        -0.15431133, -0.15052801, -0.14674471, -0.1429614 , -0.13917808,\n",
       "        -0.13539478, -0.13161147, -0.12782817, -0.12404486, -0.12026154,\n",
       "        -0.11647823, -0.11269493, -0.10891162, -0.10512831, -0.101345  ,\n",
       "        -0.09756169, -0.09377839, -0.08999508, -0.08621177, -0.08242846,\n",
       "        -0.07864515, -0.07486185, -0.07107853, -0.06729522, -0.06351192,\n",
       "        -0.05972861, -0.0559453 , -0.05216199, -0.04837868, -0.04459538,\n",
       "        -0.04081207, -0.03702876, -0.03324545, -0.02946214, -0.02567883,\n",
       "        -0.02189552, -0.01811221, -0.01432891, -0.0105456 , -0.00676229,\n",
       "        -0.00297898,  0.00080433,  0.00458764,  0.00837095,  0.01215425,\n",
       "         0.01593756,  0.01972087,  0.02350418,  0.02728749,  0.0310708 ,\n",
       "         0.03485411,  0.03863741,  0.04242072,  0.04620403,  0.04998734,\n",
       "         0.05377065,  0.05755396,  0.06133727,  0.06512057,  0.06890389,\n",
       "         0.07268719,  0.0764705 ,  0.08025381,  0.08403712,  0.08782043,\n",
       "         0.09160373,  0.09538704,  0.09917035,  0.10295366,  0.10673697,\n",
       "         0.11052027,  0.11430358,  0.1180869 ,  0.1218702 ,  0.1256535 ,\n",
       "         0.12943682,  0.13322012,  0.13700344,  0.14078675,  0.14457005,\n",
       "         0.14835337,  0.15213667,  0.15591998,  0.15970328,  0.1634866 ,\n",
       "         0.1672699 ,  0.17105322,  0.17483652,  0.17861983,  0.18240313,\n",
       "         0.18618645], dtype=float32))"
      ]
     },
     "execution_count": 113,
     "metadata": {},
     "output_type": "execute_result"
    }
   ],
   "source": [
    "np.histogram(dict(quantizized_model.named_modules())[layer_to_plot].cpu().weight.detach(), bins=100)"
   ]
  },
  {
   "cell_type": "code",
   "execution_count": 53,
   "id": "e3b6a74a",
   "metadata": {},
   "outputs": [
    {
     "data": {
      "text/plain": [
       "tensor(-0.1035, grad_fn=<SqueezeBackward4>)"
      ]
     },
     "execution_count": 53,
     "metadata": {},
     "output_type": "execute_result"
    }
   ],
   "source": [
    "torch.quantile(torch.ravel(dict(model.named_modules())[layer_to_plot].weight),0.01)"
   ]
  },
  {
   "cell_type": "code",
   "execution_count": null,
   "id": "10ac8a2b",
   "metadata": {},
   "outputs": [],
   "source": [
    "Processing modules - Current: layer4.0.conv2: : 53it [00:35,  1.63it/s]\n",
    "min: -0.0001544490660307929, max: 7.715923129580915e-05"
   ]
  },
  {
   "cell_type": "code",
   "execution_count": 54,
   "id": "3c4df4a1",
   "metadata": {},
   "outputs": [
    {
     "data": {
      "text/plain": [
       "(array([   2,    0,    2,    3,    1,    6,    4,    3,    5,    2,    1,\n",
       "           1,   13,   13,   18,   15,   21,   24,   22,   38,   53,   53,\n",
       "          77,   78,  102,  114,  152,  186,  222,  256,  299,  345,  391,\n",
       "         441,  583,  645,  702,  825,  869, 1032, 1101, 1262, 1423, 1684,\n",
       "        1962, 2264, 2310, 1809, 1460, 1247, 1051,  986,  856,  782,  707,\n",
       "         568,  474,  397,  395,  341,  306,  237,  235,  178,  187,  154,\n",
       "         125,   93,   85,   71,   78,   50,   44,   33,   41,   34,   16,\n",
       "          16,   18,   14,   11,   10,    7,    9,    1,    1,    1,    1,\n",
       "           2,    1,    5,    0,    0,    0,    1,    1,    2,    1,    0,\n",
       "           1]),\n",
       " array([-0.20087695, -0.19652581, -0.19217467, -0.18782353, -0.1834724 ,\n",
       "        -0.17912127, -0.17477013, -0.170419  , -0.16606785, -0.16171671,\n",
       "        -0.15736558, -0.15301444, -0.1486633 , -0.14431216, -0.13996103,\n",
       "        -0.1356099 , -0.13125876, -0.12690762, -0.12255648, -0.11820534,\n",
       "        -0.1138542 , -0.10950307, -0.10515193, -0.10080079, -0.09644965,\n",
       "        -0.09209852, -0.08774738, -0.08339624, -0.0790451 , -0.07469396,\n",
       "        -0.07034283, -0.06599169, -0.06164055, -0.05728942, -0.05293828,\n",
       "        -0.04858714, -0.044236  , -0.03988487, -0.03553373, -0.03118259,\n",
       "        -0.02683145, -0.02248032, -0.01812918, -0.01377804, -0.0094269 ,\n",
       "        -0.00507577, -0.00072463,  0.00362651,  0.00797765,  0.01232878,\n",
       "         0.01667992,  0.02103106,  0.02538219,  0.02973333,  0.03408447,\n",
       "         0.03843561,  0.04278674,  0.04713788,  0.05148902,  0.05584016,\n",
       "         0.0601913 ,  0.06454244,  0.06889357,  0.07324471,  0.07759584,\n",
       "         0.08194698,  0.08629812,  0.09064925,  0.09500039,  0.09935153,\n",
       "         0.10370267,  0.1080538 ,  0.11240494,  0.11675608,  0.12110722,\n",
       "         0.12545836,  0.1298095 ,  0.13416064,  0.13851176,  0.1428629 ,\n",
       "         0.14721404,  0.15156518,  0.15591632,  0.16026746,  0.1646186 ,\n",
       "         0.16896974,  0.17332087,  0.177672  ,  0.18202314,  0.18637428,\n",
       "         0.19072542,  0.19507656,  0.1994277 ,  0.20377883,  0.20812997,\n",
       "         0.21248111,  0.21683224,  0.22118337,  0.22553451,  0.22988565,\n",
       "         0.23423679], dtype=float32))"
      ]
     },
     "execution_count": 54,
     "metadata": {},
     "output_type": "execute_result"
    }
   ],
   "source": [
    "np.histogram(_weights_before, bins=100)"
   ]
  },
  {
   "cell_type": "code",
   "execution_count": 57,
   "id": "ae8b3fad",
   "metadata": {},
   "outputs": [
    {
     "name": "stdout",
     "output_type": "stream",
     "text": [
      "accuracy before quantization: 0.8258\n",
      "f1 score before quantization: 0.8268\n"
     ]
    }
   ],
   "source": [
    "y_true, y_pred = evaluate_model(model, test_loader, 'cuda:0')\n",
    "print(f\"accuracy before quantization: {metrics.accuracy_score(y_true, y_pred)}\")\n",
    "print(f\"f1 score before quantization: {metrics.f1_score(y_true, y_pred, average='weighted'):.4f}\")"
   ]
  },
  {
   "cell_type": "code",
   "execution_count": 58,
   "id": "a3160ce3",
   "metadata": {},
   "outputs": [
    {
     "name": "stdout",
     "output_type": "stream",
     "text": [
      "accuracy after quantization: 0.8105\n",
      "f1 score after quantization: 0.8122\n"
     ]
    }
   ],
   "source": [
    "y_true, y_pred = evaluate_model(quantizized_model, test_loader, 'cuda:0')\n",
    "print(f\"accuracy after quantization: {metrics.accuracy_score(y_true, y_pred)}\")\n",
    "print(f\"f1 score after quantization: {metrics.f1_score(y_true, y_pred, average='weighted'):.4f}\")"
   ]
  },
  {
   "cell_type": "markdown",
   "id": "73e19cc9",
   "metadata": {},
   "source": [
    "**one channel quantization, 2 bits, 1 calibration sample(RANDOM)** <br>\n",
    "acc : 0.2918"
   ]
  },
  {
   "cell_type": "markdown",
   "id": "67798464",
   "metadata": {},
   "source": [
    "# Grid search"
   ]
  },
  {
   "cell_type": "code",
   "execution_count": null,
   "id": "ac587ac8",
   "metadata": {},
   "outputs": [],
   "source": [
    "lr : [0.05, 0.01, 0.005, 0.001]\n",
    "reg_param: [0.1, 0.07, 0.05, 0.01, 0.005]\n",
    "num_iteration: [500, 1000, 2000, 3000, 4000]\n",
    "beta_range: [(10, 2), (20, 2), (40,2), (20,1), (20,0.5)]"
   ]
  },
  {
   "cell_type": "code",
   "execution_count": 100,
   "id": "0978b341",
   "metadata": {},
   "outputs": [],
   "source": [
    "params = {\n",
    "    'bitwidth' : 8,\n",
    "    'reg_param' : 0.05,\n",
    "    'num_iterations' : 2000,\n",
    "    'per_channel' : False,\n",
    "    'beta_range' : (20, 2),\n",
    "    'optimizer_lr' : 0.005\n",
    "\n",
    "}"
   ]
  },
  {
   "cell_type": "code",
   "execution_count": 94,
   "id": "79d9115e",
   "metadata": {},
   "outputs": [
    {
     "name": "stdout",
     "output_type": "stream",
     "text": [
      "Quantizizing conv and lin\n",
      " params:  8 0.05 False 2000 (20, 2) 0.001\n"
     ]
    },
    {
     "name": "stderr",
     "output_type": "stream",
     "text": [
      "Processing modules - Current: fc: : 68it [00:44,  1.52it/s]                   \n"
     ]
    }
   ],
   "source": [
    "adaround_wrapper = anvil.adaround.AdaRoundModelWrapper(model, images_1)\n",
    "adaround_statistics, quantizized_weights, quantizized_model = adaround_wrapper.apply_adaround_to_layers(**params)"
   ]
  },
  {
   "cell_type": "code",
   "execution_count": 95,
   "id": "700ed8c8",
   "metadata": {},
   "outputs": [],
   "source": [
    "y_true, y_pred = evaluate_model(quantizized_model, test_loader, 'cuda:0')\n",
    "\n",
    "parameter_search[int(np.max(list(parameter_search.keys())) + 1)] = {\n",
    "    'params' : params,\n",
    "    'accuracry' : metrics.accuracy_score(y_true, y_pred),\n",
    "    'f1_Score' : metrics.f1_score(y_true, y_pred, average='macro'),\n",
    "    'y_pred' : y_pred,\n",
    "    'y_true' : y_true\n",
    "}"
   ]
  },
  {
   "cell_type": "code",
   "execution_count": 96,
   "id": "dfeb2b25",
   "metadata": {},
   "outputs": [
    {
     "data": {
      "text/plain": [
       "{0: {'params': {'bitwidth': 8,\n",
       "   'reg_param': 0.01,\n",
       "   'num_iterations': 1000,\n",
       "   'per_channel': False,\n",
       "   'beta_range': (20, 2),\n",
       "   'optimizer_lr': 0.01},\n",
       "  'accuracry': 0.8224,\n",
       "  'f1_Score': 0.8235657650517343,\n",
       "  'y_pred': tensor([3, 8, 1,  ..., 5, 1, 7]),\n",
       "  'y_true': tensor([3, 8, 8,  ..., 5, 1, 7])},\n",
       " 1: {'params': {'bitwidth': 8,\n",
       "   'reg_param': 0.05,\n",
       "   'num_iterations': 1000,\n",
       "   'per_channel': False,\n",
       "   'beta_range': (20, 2),\n",
       "   'optimizer_lr': 0.01},\n",
       "  'accuracry': 0.8235,\n",
       "  'f1_Score': 0.8245692559755922,\n",
       "  'y_pred': tensor([3, 8, 1,  ..., 5, 1, 7]),\n",
       "  'y_true': tensor([3, 8, 8,  ..., 5, 1, 7])},\n",
       " 2: {'params': {'bitwidth': 8,\n",
       "   'reg_param': 0.1,\n",
       "   'num_iterations': 1000,\n",
       "   'per_channel': False,\n",
       "   'beta_range': (20, 2),\n",
       "   'optimizer_lr': 0.01},\n",
       "  'accuracry': 0.8231,\n",
       "  'f1_Score': 0.8242453575956576,\n",
       "  'y_pred': tensor([3, 8, 1,  ..., 5, 1, 7]),\n",
       "  'y_true': tensor([3, 8, 8,  ..., 5, 1, 7])},\n",
       " 3: {'params': {'bitwidth': 8,\n",
       "   'reg_param': 0.05,\n",
       "   'num_iterations': 500,\n",
       "   'per_channel': False,\n",
       "   'beta_range': (20, 2),\n",
       "   'optimizer_lr': 0.01},\n",
       "  'accuracry': 0.8161,\n",
       "  'f1_Score': 0.8177455350289875,\n",
       "  'y_pred': tensor([3, 8, 1,  ..., 5, 1, 7]),\n",
       "  'y_true': tensor([3, 8, 8,  ..., 5, 1, 7])},\n",
       " 4: {'params': {'bitwidth': 8,\n",
       "   'reg_param': 0.05,\n",
       "   'num_iterations': 2000,\n",
       "   'per_channel': False,\n",
       "   'beta_range': (20, 2),\n",
       "   'optimizer_lr': 0.01},\n",
       "  'accuracry': 0.8261,\n",
       "  'f1_Score': 0.8268758821077784,\n",
       "  'y_pred': tensor([3, 8, 1,  ..., 5, 1, 7]),\n",
       "  'y_true': tensor([3, 8, 8,  ..., 5, 1, 7])},\n",
       " 5: {'params': {'bitwidth': 8,\n",
       "   'reg_param': 0.05,\n",
       "   'num_iterations': 3000,\n",
       "   'per_channel': False,\n",
       "   'beta_range': (20, 2),\n",
       "   'optimizer_lr': 0.01},\n",
       "  'accuracry': 0.8226,\n",
       "  'f1_Score': 0.8237948408029908,\n",
       "  'y_pred': tensor([3, 8, 1,  ..., 5, 1, 7]),\n",
       "  'y_true': tensor([3, 8, 8,  ..., 5, 1, 7])},\n",
       " 6: {'params': {'bitwidth': 8,\n",
       "   'reg_param': 0.05,\n",
       "   'num_iterations': 2000,\n",
       "   'per_channel': False,\n",
       "   'beta_range': (40, 2),\n",
       "   'optimizer_lr': 0.01},\n",
       "  'accuracry': 0.8247,\n",
       "  'f1_Score': 0.8258483349186646,\n",
       "  'y_pred': tensor([3, 8, 1,  ..., 5, 1, 7]),\n",
       "  'y_true': tensor([3, 8, 8,  ..., 5, 1, 7])},\n",
       " 7: {'params': {'bitwidth': 8,\n",
       "   'reg_param': 0.05,\n",
       "   'num_iterations': 2000,\n",
       "   'per_channel': False,\n",
       "   'beta_range': (15, 2),\n",
       "   'optimizer_lr': 0.01},\n",
       "  'accuracry': 0.8247,\n",
       "  'f1_Score': 0.8258475934706553,\n",
       "  'y_pred': tensor([3, 8, 1,  ..., 5, 1, 7]),\n",
       "  'y_true': tensor([3, 8, 8,  ..., 5, 1, 7])},\n",
       " 8: {'params': {'bitwidth': 8,\n",
       "   'reg_param': 0.05,\n",
       "   'num_iterations': 2000,\n",
       "   'per_channel': False,\n",
       "   'beta_range': (20, 1.5),\n",
       "   'optimizer_lr': 0.01},\n",
       "  'accuracry': 0.8248,\n",
       "  'f1_Score': 0.8257956205944732,\n",
       "  'y_pred': tensor([3, 8, 1,  ..., 5, 1, 7]),\n",
       "  'y_true': tensor([3, 8, 8,  ..., 5, 1, 7])},\n",
       " 9: {'params': {'bitwidth': 8,\n",
       "   'reg_param': 0.05,\n",
       "   'num_iterations': 2000,\n",
       "   'per_channel': False,\n",
       "   'beta_range': (20, 2),\n",
       "   'optimizer_lr': 0.005},\n",
       "  'accuracry': 0.8268,\n",
       "  'f1_Score': 0.8278333562724249,\n",
       "  'y_pred': tensor([3, 8, 1,  ..., 5, 1, 7]),\n",
       "  'y_true': tensor([3, 8, 8,  ..., 5, 1, 7])},\n",
       " 10: {'params': {'bitwidth': 8,\n",
       "   'reg_param': 0.05,\n",
       "   'num_iterations': 2000,\n",
       "   'per_channel': False,\n",
       "   'beta_range': (20, 2),\n",
       "   'optimizer_lr': 0.001},\n",
       "  'accuracry': 0.8014,\n",
       "  'f1_Score': 0.803053152260297,\n",
       "  'y_pred': tensor([3, 8, 8,  ..., 5, 1, 7]),\n",
       "  'y_true': tensor([3, 8, 8,  ..., 5, 1, 7])}}"
      ]
     },
     "execution_count": 96,
     "metadata": {},
     "output_type": "execute_result"
    }
   ],
   "source": [
    "parameter_search"
   ]
  },
  {
   "cell_type": "markdown",
   "id": "954a742e",
   "metadata": {},
   "source": [
    "# Mean acc"
   ]
  },
  {
   "cell_type": "code",
   "execution_count": 150,
   "id": "3adb4b01",
   "metadata": {},
   "outputs": [
    {
     "name": "stdout",
     "output_type": "stream",
     "text": [
      "Quantizizing conv and lin\n",
      " params:  8 2 False 3500 (20, 2) 0.03\n"
     ]
    },
    {
     "name": "stderr",
     "output_type": "stream",
     "text": [
      "Processing modules - Current: fc: : 68it [01:25,  1.25s/it]                   \n"
     ]
    },
    {
     "name": "stdout",
     "output_type": "stream",
     "text": [
      "Quantizizing conv and lin\n",
      " params:  8 2 False 3500 (20, 2) 0.03\n"
     ]
    },
    {
     "name": "stderr",
     "output_type": "stream",
     "text": [
      "Processing modules - Current: fc: : 68it [01:24,  1.25s/it]                   \n"
     ]
    },
    {
     "name": "stdout",
     "output_type": "stream",
     "text": [
      "Quantizizing conv and lin\n",
      " params:  8 2 False 3500 (20, 2) 0.03\n"
     ]
    },
    {
     "name": "stderr",
     "output_type": "stream",
     "text": [
      "Processing modules - Current: fc: : 68it [01:24,  1.25s/it]                   \n"
     ]
    },
    {
     "name": "stdout",
     "output_type": "stream",
     "text": [
      "Quantizizing conv and lin\n",
      " params:  8 2 False 3500 (20, 2) 0.03\n"
     ]
    },
    {
     "name": "stderr",
     "output_type": "stream",
     "text": [
      "Processing modules - Current: fc: : 68it [01:25,  1.25s/it]                   \n"
     ]
    },
    {
     "name": "stdout",
     "output_type": "stream",
     "text": [
      "Quantizizing conv and lin\n",
      " params:  8 2 False 3500 (20, 2) 0.03\n"
     ]
    },
    {
     "name": "stderr",
     "output_type": "stream",
     "text": [
      "Processing modules - Current: fc: : 68it [01:22,  1.22s/it]                   \n"
     ]
    }
   ],
   "source": [
    "accuracies = []\n",
    "for i in range(5):\n",
    "    indices = torch.randperm(images.size(0))[:50]\n",
    "    sample_images = torch.cat(images_list, dim=0)[indices]\n",
    "    \n",
    "    adaround_wrapper = anvil.adaround.AdaRoundModelWrapper(model, sample_images)\n",
    "    adaround_statistics, quantizized_weights, quantizized_model = adaround_wrapper.apply_adaround_to_layers(reg_param=2, bitwidth=8, per_channel=False, num_iterations=3500, beta_range=(20, 2), optimizer_lr=3e-2, use_quantiles=False)\n",
    "\n",
    "    y_true, y_pred = evaluate_model(quantizized_model, test_loader, 'cuda:0')\n",
    "    accuracies.append(metrics.accuracy_score(y_true, y_pred))"
   ]
  },
  {
   "cell_type": "code",
   "execution_count": 139,
   "id": "74cac695",
   "metadata": {},
   "outputs": [
    {
     "name": "stdout",
     "output_type": "stream",
     "text": [
      "accuracy before quantization: 0.8258\n",
      "f1 score before quantization: 0.8268\n"
     ]
    }
   ],
   "source": [
    "y_true, y_pred = evaluate_model(model, test_loader, 'cuda:0')\n",
    "print(f\"accuracy before quantization: {metrics.accuracy_score(y_true, y_pred)}\")\n",
    "print(f\"f1 score before quantization: {metrics.f1_score(y_true, y_pred, average='weighted'):.4f}\")"
   ]
  },
  {
   "cell_type": "code",
   "execution_count": 151,
   "id": "0e62534d",
   "metadata": {},
   "outputs": [
    {
     "name": "stdout",
     "output_type": "stream",
     "text": [
      "Adaround: 0.8251799999999999 +- 0.0004\n"
     ]
    }
   ],
   "source": [
    "print(f\"Adaround: {np.mean(accuracies)} +- {np.std(accuracies):.4f}\")"
   ]
  },
  {
   "cell_type": "code",
   "execution_count": 152,
   "id": "85d884f7",
   "metadata": {},
   "outputs": [
    {
     "data": {
      "text/plain": [
       "[0.8244, 0.8252, 0.8255, 0.8252, 0.8256]"
      ]
     },
     "execution_count": 152,
     "metadata": {},
     "output_type": "execute_result"
    }
   ],
   "source": [
    "accuracies"
   ]
  },
  {
   "cell_type": "code",
   "execution_count": null,
   "id": "47f8e615",
   "metadata": {},
   "outputs": [],
   "source": [
    "#saving\n",
    "#import pickle\n",
    "#with open('/home/mpuscian/Desktop/repozytoria/MINI_projects/anvil/accuracies_8bit.pkl', 'wb') as f:\n",
    "#    pickle.dump(accuracies, f)"
   ]
  },
  {
   "cell_type": "code",
   "execution_count": null,
   "id": "9434d5fb",
   "metadata": {},
   "outputs": [],
   "source": [
    "# opening\n",
    "#with open('/home/mpuscian/Desktop/repozytoria/MINI_projects/anvil/accuracies_8bit.pkl', 'rb') as f:\n",
    "#    aaa = pickle.load(f)"
   ]
  }
 ],
 "metadata": {
  "kernelspec": {
   "display_name": "anvil",
   "language": "python",
   "name": "anvil"
  },
  "language_info": {
   "codemirror_mode": {
    "name": "ipython",
    "version": 3
   },
   "file_extension": ".py",
   "mimetype": "text/x-python",
   "name": "python",
   "nbconvert_exporter": "python",
   "pygments_lexer": "ipython3",
   "version": "3.13.3"
  }
 },
 "nbformat": 4,
 "nbformat_minor": 5
}
